{
 "metadata": {
  "language_info": {
   "codemirror_mode": {
    "name": "ipython",
    "version": 3
   },
   "file_extension": ".py",
   "mimetype": "text/x-python",
   "name": "python",
   "nbconvert_exporter": "python",
   "pygments_lexer": "ipython3",
   "version": "3.8.5"
  },
  "orig_nbformat": 2,
  "kernelspec": {
   "name": "python385jvsc74a57bd08de036e69be3e859bbf35853018022a60428a0582f3d8735c19ed042d5b6a23d",
   "display_name": "Python 3.8.5 64-bit"
  }
 },
 "nbformat": 4,
 "nbformat_minor": 2,
 "cells": [
  {
   "source": [
    "# Scratch notebook"
   ],
   "cell_type": "markdown",
   "metadata": {}
  },
  {
   "cell_type": "code",
   "execution_count": 1,
   "metadata": {},
   "outputs": [
    {
     "output_type": "stream",
     "name": "stderr",
     "text": [
      "* Owlready2 * Warning: optimized Cython parser module 'owlready2_optimized' is not available, defaulting to slower Python implementation\n"
     ]
    }
   ],
   "source": [
    "import pandas as pd\n",
    "\n",
    "from rdflib import Graph, Namespace\n",
    "# from rdflib import URIRef, BNode, Literal\n",
    "# from rdflib.namespace import OWL, RDF, RDFS, XSD\n",
    "from owlready2 import *\n"
   ]
  },
  {
   "cell_type": "code",
   "execution_count": 2,
   "metadata": {},
   "outputs": [],
   "source": [
    "from onto_access import OntologyAccess"
   ]
  },
  {
   "cell_type": "code",
   "execution_count": 3,
   "metadata": {},
   "outputs": [
    {
     "output_type": "execute_result",
     "data": {
      "text/plain": [
       "                    name                                  address  \\\n",
       "0  Little Pizza Paradise  Cascade Village Mall Across From Target   \n",
       "1  Little Pizza Paradise  Cascade Village Mall Across From Target   \n",
       "2          The Brentwood                     148 S Barrington Ave   \n",
       "\n",
       "          city country postcode      state                      categories  \\\n",
       "0         Bend      US    97701         OR                     Pizza Place   \n",
       "1         Bend      US    97701         OR                     Pizza Place   \n",
       "2  Los Angeles      US    90049  Brentwood  American Restaurant,Bar,Bakery   \n",
       "\n",
       "           menu item  item value currency item description  \n",
       "0       Bianca Pizza       22.50      USD              NaN  \n",
       "1       Cheese Pizza       18.95      USD              NaN  \n",
       "2  Pizza, Margherita       12.00      USD              NaN  "
      ],
      "text/html": "<div>\n<style scoped>\n    .dataframe tbody tr th:only-of-type {\n        vertical-align: middle;\n    }\n\n    .dataframe tbody tr th {\n        vertical-align: top;\n    }\n\n    .dataframe thead th {\n        text-align: right;\n    }\n</style>\n<table border=\"1\" class=\"dataframe\">\n  <thead>\n    <tr style=\"text-align: right;\">\n      <th></th>\n      <th>name</th>\n      <th>address</th>\n      <th>city</th>\n      <th>country</th>\n      <th>postcode</th>\n      <th>state</th>\n      <th>categories</th>\n      <th>menu item</th>\n      <th>item value</th>\n      <th>currency</th>\n      <th>item description</th>\n    </tr>\n  </thead>\n  <tbody>\n    <tr>\n      <th>0</th>\n      <td>Little Pizza Paradise</td>\n      <td>Cascade Village Mall Across From Target</td>\n      <td>Bend</td>\n      <td>US</td>\n      <td>97701</td>\n      <td>OR</td>\n      <td>Pizza Place</td>\n      <td>Bianca Pizza</td>\n      <td>22.50</td>\n      <td>USD</td>\n      <td>NaN</td>\n    </tr>\n    <tr>\n      <th>1</th>\n      <td>Little Pizza Paradise</td>\n      <td>Cascade Village Mall Across From Target</td>\n      <td>Bend</td>\n      <td>US</td>\n      <td>97701</td>\n      <td>OR</td>\n      <td>Pizza Place</td>\n      <td>Cheese Pizza</td>\n      <td>18.95</td>\n      <td>USD</td>\n      <td>NaN</td>\n    </tr>\n    <tr>\n      <th>2</th>\n      <td>The Brentwood</td>\n      <td>148 S Barrington Ave</td>\n      <td>Los Angeles</td>\n      <td>US</td>\n      <td>90049</td>\n      <td>Brentwood</td>\n      <td>American Restaurant,Bar,Bakery</td>\n      <td>Pizza, Margherita</td>\n      <td>12.00</td>\n      <td>USD</td>\n      <td>NaN</td>\n    </tr>\n  </tbody>\n</table>\n</div>"
     },
     "metadata": {},
     "execution_count": 3
    }
   ],
   "source": [
    "DATAPATH = \"../data/INM713_coursework_data_pizza_8358_1_reduced.csv\"\n",
    "\n",
    "data_df = pd.read_csv(DATAPATH)\n",
    "data_df.head(3)"
   ]
  },
  {
   "cell_type": "code",
   "execution_count": 4,
   "metadata": {},
   "outputs": [
    {
     "output_type": "stream",
     "name": "stdout",
     "text": [
      "Classes in Pizza Restaurant Ontology: 28\n"
     ]
    }
   ],
   "source": [
    "def loadOntology(urionto):\n",
    "\n",
    "    # Method from owlready\n",
    "    onto = get_ontology(urionto).load()\n",
    "\n",
    "    print(\"Classes in Pizza Restaurant Ontology: \" + str(len(list(onto.classes()))))\n",
    "    for cls in onto.classes():\n",
    "        if \"http://dbpedia.org/ontology/\" in cls.iri:\n",
    "            print(\"\\t\" + cls.iri)\n",
    "\n",
    "loadOntology(\"../1-OWL/pizza_restaurant_ontology4-slim.owl\")"
   ]
  },
  {
   "cell_type": "code",
   "execution_count": 7,
   "metadata": {},
   "outputs": [
    {
     "output_type": "error",
     "ename": "NameError",
     "evalue": "name 'self' is not defined",
     "traceback": [
      "\u001b[0;31m---------------------------------------------------------------------------\u001b[0m",
      "\u001b[0;31mNameError\u001b[0m                                 Traceback (most recent call last)",
      "\u001b[0;32m<ipython-input-7-451b44695943>\u001b[0m in \u001b[0;36m<module>\u001b[0;34m\u001b[0m\n\u001b[0;32m----> 1\u001b[0;31m \u001b[0;32mif\u001b[0m \u001b[0;34m\"name\"\u001b[0m \u001b[0;32min\u001b[0m \u001b[0mself\u001b[0m\u001b[0;34m.\u001b[0m\u001b[0mdata_frame\u001b[0m\u001b[0;34m:\u001b[0m\u001b[0;34m\u001b[0m\u001b[0;34m\u001b[0m\u001b[0m\n\u001b[0m\u001b[1;32m      2\u001b[0m \u001b[0;34m\u001b[0m\u001b[0m\n\u001b[1;32m      3\u001b[0m     \u001b[0;31m#We give subject column and target type\u001b[0m\u001b[0;34m\u001b[0m\u001b[0;34m\u001b[0m\u001b[0;34m\u001b[0m\u001b[0m\n\u001b[1;32m      4\u001b[0m     \u001b[0mself\u001b[0m\u001b[0;34m.\u001b[0m\u001b[0mmappingToCreateTypeTriple\u001b[0m\u001b[0;34m(\u001b[0m\u001b[0;34m\"name\"\u001b[0m\u001b[0;34m,\u001b[0m \u001b[0mself\u001b[0m\u001b[0;34m.\u001b[0m\u001b[0mlab6\u001b[0m\u001b[0;34m.\u001b[0m\u001b[0mCountry\u001b[0m\u001b[0;34m,\u001b[0m \u001b[0museExternalURI\u001b[0m\u001b[0;34m)\u001b[0m\u001b[0;34m\u001b[0m\u001b[0;34m\u001b[0m\u001b[0m\n\u001b[1;32m      5\u001b[0m \u001b[0;34m\u001b[0m\u001b[0m\n",
      "\u001b[0;31mNameError\u001b[0m: name 'self' is not defined"
     ]
    }
   ],
   "source": [
    "if \"name\" in self.data_frame:\n",
    "    \n",
    "    #We give subject column and target type\n",
    "    self.mappingToCreateTypeTriple(\"name\", self.lab6.Country, useExternalURI)\n",
    "    \n",
    "    #We give subject and object columns (they could be the same), predicate and datatype \n",
    "    self.mappingToCreateLiteralTriple('country', 'country', self.lab6.name, XSD.string)\n",
    "    \n",
    "'''\n",
    "Mapping to create triples like lab6:London rdf:type lab6:City\n",
    "A mapping may create more than one triple\n",
    "column: columns where the entity information is stored\n",
    "useExternalURI: if URI is fresh or from external KG\n",
    "'''\n",
    "def create_type_triple(self, subject_column, class_type, useExternalURI):\n",
    "    \n",
    "    for subject in self.data_frame[subject_column]:\n",
    "            \n",
    "        #We use the ascii name to create the fresh URI for a city in the dataset\n",
    "        if subject.lower() in self.stringToURI:\n",
    "            entity_uri=self.stringToURI[subject.lower()]\n",
    "        else:\n",
    "            entity_uri=self.createURIForEntity(subject.lower(), useExternalURI)\n",
    "        \n",
    "        #TYPE TRIPLE\n",
    "        #For the individuals we use URIRef to create an object \"URI\" out of the string URIs\n",
    "        #For the concepts we use the ones in the ontology and we are using the NameSpace class\n",
    "        #Alternatively one could use URIRef(self.lab6_ns_str+\"City\") for example \n",
    "        self.g.add((URIRef(entity_uri), RDF.type, class_type))\n",
    "        \n"
   ]
  },
  {
   "cell_type": "code",
   "execution_count": null,
   "metadata": {},
   "outputs": [],
   "source": []
  },
  {
   "cell_type": "code",
   "execution_count": 6,
   "metadata": {},
   "outputs": [
    {
     "output_type": "error",
     "ename": "TypeError",
     "evalue": "__init__() missing 1 required positional argument: 'filename'",
     "traceback": [
      "\u001b[0;31m---------------------------------------------------------------------------\u001b[0m",
      "\u001b[0;31mTypeError\u001b[0m                                 Traceback (most recent call last)",
      "\u001b[0;32m<ipython-input-6-1394c9a3f95b>\u001b[0m in \u001b[0;36m<module>\u001b[0;34m\u001b[0m\n\u001b[1;32m      1\u001b[0m \u001b[0;31m# Initialise graph\u001b[0m\u001b[0;34m\u001b[0m\u001b[0;34m\u001b[0m\u001b[0;34m\u001b[0m\u001b[0m\n\u001b[0;32m----> 2\u001b[0;31m \u001b[0mg\u001b[0m \u001b[0;34m=\u001b[0m \u001b[0mGraph\u001b[0m\u001b[0;34m(\u001b[0m\u001b[0;34m)\u001b[0m\u001b[0;34m\u001b[0m\u001b[0;34m\u001b[0m\u001b[0m\n\u001b[0m\u001b[1;32m      3\u001b[0m \u001b[0;34m\u001b[0m\u001b[0m\n\u001b[1;32m      4\u001b[0m \u001b[0;31m# Bind namespace\u001b[0m\u001b[0;34m\u001b[0m\u001b[0;34m\u001b[0m\u001b[0;34m\u001b[0m\u001b[0m\n\u001b[1;32m      5\u001b[0m \u001b[0mNAMESPACE\u001b[0m \u001b[0;34m=\u001b[0m \u001b[0mNamespace\u001b[0m\u001b[0;34m(\u001b[0m\u001b[0;34m\"http://www.city.ac.uk/ds/inm713/feiphoon#\"\u001b[0m\u001b[0;34m)\u001b[0m\u001b[0;34m\u001b[0m\u001b[0;34m\u001b[0m\u001b[0m\n",
      "\u001b[0;31mTypeError\u001b[0m: __init__() missing 1 required positional argument: 'filename'"
     ]
    }
   ],
   "source": [
    "# Initialise graph\n",
    "g = Graph()\n",
    "\n",
    "# Bind namespace\n",
    "NAMESPACE = Namespace(\"http://www.city.ac.uk/ds/inm713/feiphoon#\")\n",
    "CUSTOM_PREFIX = \"fp\"\n",
    "g.bind(\"fp\", NAMESPACE)"
   ]
  },
  {
   "cell_type": "code",
   "execution_count": null,
   "metadata": {},
   "outputs": [],
   "source": []
  }
 ]
}