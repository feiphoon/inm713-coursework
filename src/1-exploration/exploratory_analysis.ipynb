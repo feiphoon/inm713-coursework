{
 "metadata": {
  "language_info": {
   "codemirror_mode": {
    "name": "ipython",
    "version": 3
   },
   "file_extension": ".py",
   "mimetype": "text/x-python",
   "name": "python",
   "nbconvert_exporter": "python",
   "pygments_lexer": "ipython3",
   "version": "3.8.5"
  },
  "orig_nbformat": 2,
  "kernelspec": {
   "name": "python385jvsc74a57bd08de036e69be3e859bbf35853018022a60428a0582f3d8735c19ed042d5b6a23d",
   "display_name": "Python 3.8.5 64-bit ('venv': venv)"
  }
 },
 "nbformat": 4,
 "nbformat_minor": 2,
 "cells": [
  {
   "source": [
    "# INM713 SWT & KG Coursework Dataset Analysis"
   ],
   "cell_type": "markdown",
   "metadata": {}
  },
  {
   "cell_type": "code",
   "execution_count": 1,
   "metadata": {},
   "outputs": [],
   "source": [
    "import re\n",
    "from unidecode import unidecode\n",
    "import pandas as pd\n",
    "import matplotlib.pyplot as plt\n",
    "%matplotlib inline\n",
    "import seaborn as sns\n",
    "\n",
    "sns.set_theme()"
   ]
  },
  {
   "cell_type": "code",
   "execution_count": 2,
   "metadata": {},
   "outputs": [],
   "source": [
    "pd.set_option('display.max_rows', None)\n",
    "pd.set_option('display.max_colwidth', None)"
   ]
  },
  {
   "cell_type": "code",
   "execution_count": 3,
   "metadata": {},
   "outputs": [],
   "source": [
    "df = pd.read_csv(\"../data/INM713_coursework_data_pizza_8358_1_reduced.csv\")"
   ]
  },
  {
   "cell_type": "code",
   "execution_count": 4,
   "metadata": {},
   "outputs": [
    {
     "output_type": "execute_result",
     "data": {
      "text/plain": [
       "                    name                                  address  \\\n",
       "0  Little Pizza Paradise  Cascade Village Mall Across From Target   \n",
       "1  Little Pizza Paradise  Cascade Village Mall Across From Target   \n",
       "2          The Brentwood                     148 S Barrington Ave   \n",
       "3          The Brentwood                     148 S Barrington Ave   \n",
       "4          The Brentwood                     148 S Barrington Ave   \n",
       "\n",
       "          city country postcode      state                      categories  \\\n",
       "0         Bend      US    97701         OR                     Pizza Place   \n",
       "1         Bend      US    97701         OR                     Pizza Place   \n",
       "2  Los Angeles      US    90049  Brentwood  American Restaurant,Bar,Bakery   \n",
       "3  Los Angeles      US    90049  Brentwood  American Restaurant,Bar,Bakery   \n",
       "4  Los Angeles      US    90049  Brentwood  American Restaurant,Bar,Bakery   \n",
       "\n",
       "           menu item  item value currency                  item description  \n",
       "0       Bianca Pizza       22.50      USD                               NaN  \n",
       "1       Cheese Pizza       18.95      USD                               NaN  \n",
       "2  Pizza, Margherita       12.00      USD                               NaN  \n",
       "3    Pizza, Mushroom       13.00      USD                               NaN  \n",
       "4  Pizza, Puttenesca       13.00      USD  Olives, onions, capers, tomatoes  "
      ],
      "text/html": "<div>\n<style scoped>\n    .dataframe tbody tr th:only-of-type {\n        vertical-align: middle;\n    }\n\n    .dataframe tbody tr th {\n        vertical-align: top;\n    }\n\n    .dataframe thead th {\n        text-align: right;\n    }\n</style>\n<table border=\"1\" class=\"dataframe\">\n  <thead>\n    <tr style=\"text-align: right;\">\n      <th></th>\n      <th>name</th>\n      <th>address</th>\n      <th>city</th>\n      <th>country</th>\n      <th>postcode</th>\n      <th>state</th>\n      <th>categories</th>\n      <th>menu item</th>\n      <th>item value</th>\n      <th>currency</th>\n      <th>item description</th>\n    </tr>\n  </thead>\n  <tbody>\n    <tr>\n      <th>0</th>\n      <td>Little Pizza Paradise</td>\n      <td>Cascade Village Mall Across From Target</td>\n      <td>Bend</td>\n      <td>US</td>\n      <td>97701</td>\n      <td>OR</td>\n      <td>Pizza Place</td>\n      <td>Bianca Pizza</td>\n      <td>22.50</td>\n      <td>USD</td>\n      <td>NaN</td>\n    </tr>\n    <tr>\n      <th>1</th>\n      <td>Little Pizza Paradise</td>\n      <td>Cascade Village Mall Across From Target</td>\n      <td>Bend</td>\n      <td>US</td>\n      <td>97701</td>\n      <td>OR</td>\n      <td>Pizza Place</td>\n      <td>Cheese Pizza</td>\n      <td>18.95</td>\n      <td>USD</td>\n      <td>NaN</td>\n    </tr>\n    <tr>\n      <th>2</th>\n      <td>The Brentwood</td>\n      <td>148 S Barrington Ave</td>\n      <td>Los Angeles</td>\n      <td>US</td>\n      <td>90049</td>\n      <td>Brentwood</td>\n      <td>American Restaurant,Bar,Bakery</td>\n      <td>Pizza, Margherita</td>\n      <td>12.00</td>\n      <td>USD</td>\n      <td>NaN</td>\n    </tr>\n    <tr>\n      <th>3</th>\n      <td>The Brentwood</td>\n      <td>148 S Barrington Ave</td>\n      <td>Los Angeles</td>\n      <td>US</td>\n      <td>90049</td>\n      <td>Brentwood</td>\n      <td>American Restaurant,Bar,Bakery</td>\n      <td>Pizza, Mushroom</td>\n      <td>13.00</td>\n      <td>USD</td>\n      <td>NaN</td>\n    </tr>\n    <tr>\n      <th>4</th>\n      <td>The Brentwood</td>\n      <td>148 S Barrington Ave</td>\n      <td>Los Angeles</td>\n      <td>US</td>\n      <td>90049</td>\n      <td>Brentwood</td>\n      <td>American Restaurant,Bar,Bakery</td>\n      <td>Pizza, Puttenesca</td>\n      <td>13.00</td>\n      <td>USD</td>\n      <td>Olives, onions, capers, tomatoes</td>\n    </tr>\n  </tbody>\n</table>\n</div>"
     },
     "metadata": {},
     "execution_count": 4
    }
   ],
   "source": [
    "# Quick check\n",
    "df.head(5)"
   ]
  },
  {
   "source": [
    "## Initial analysis"
   ],
   "cell_type": "markdown",
   "metadata": {}
  },
  {
   "cell_type": "code",
   "execution_count": 5,
   "metadata": {},
   "outputs": [],
   "source": [
    "df_copy = df.copy(deep=True)"
   ]
  },
  {
   "cell_type": "code",
   "execution_count": 6,
   "metadata": {},
   "outputs": [
    {
     "output_type": "execute_result",
     "data": {
      "text/plain": [
       "False    3499\n",
       "True       11\n",
       "dtype: int64"
      ]
     },
     "metadata": {},
     "execution_count": 6
    }
   ],
   "source": [
    "# Check for duplicated rows\n",
    "df_copy.duplicated().value_counts()"
   ]
  },
  {
   "cell_type": "code",
   "execution_count": 7,
   "metadata": {},
   "outputs": [
    {
     "output_type": "stream",
     "name": "stdout",
     "text": [
      "<class 'pandas.core.frame.DataFrame'>\nRangeIndex: 3510 entries, 0 to 3509\nData columns (total 11 columns):\n #   Column            Non-Null Count  Dtype  \n---  ------            --------------  -----  \n 0   name              3510 non-null   object \n 1   address           3510 non-null   object \n 2   city              3510 non-null   object \n 3   country           3510 non-null   object \n 4   postcode          3445 non-null   object \n 5   state             3510 non-null   object \n 6   categories        3510 non-null   object \n 7   menu item         3510 non-null   object \n 8   item value        2948 non-null   float64\n 9   currency          2951 non-null   object \n 10  item description  1526 non-null   object \ndtypes: float64(1), object(10)\nmemory usage: 301.8+ KB\n"
     ]
    }
   ],
   "source": [
    "# Check the completeness of the columns\n",
    "df_copy.info()"
   ]
  },
  {
   "source": [
    "There are no rows without menu items, but there are 11 duplicated rows. We will leave them in there, but this means I will expect to find 3499 Individuals of type MenuItem in my resulting knowledge graph."
   ],
   "cell_type": "markdown",
   "metadata": {}
  },
  {
   "cell_type": "code",
   "execution_count": 8,
   "metadata": {},
   "outputs": [
    {
     "output_type": "execute_result",
     "data": {
      "text/plain": [
       "US    3510\n",
       "Name: country, dtype: int64"
      ]
     },
     "metadata": {},
     "execution_count": 8
    }
   ],
   "source": [
    "# Check the country\n",
    "df_copy[\"country\"].value_counts()"
   ]
  },
  {
   "cell_type": "code",
   "execution_count": 9,
   "metadata": {},
   "outputs": [
    {
     "output_type": "execute_result",
     "data": {
      "text/plain": [
       "5     2782\n",
       "4      635\n",
       "3       66\n",
       "10      27\n",
       "Name: postcode_len, dtype: int64"
      ]
     },
     "metadata": {},
     "execution_count": 9
    }
   ],
   "source": [
    "# Check length of values in postcode column\n",
    "df_copy[\"postcode_len\"] = df_copy[\"postcode\"].astype(str).map(len)\n",
    "df_copy[\"postcode_len\"].value_counts()"
   ]
  },
  {
   "cell_type": "code",
   "execution_count": 10,
   "metadata": {},
   "outputs": [
    {
     "output_type": "execute_result",
     "data": {
      "text/plain": [
       "                      name           address          city country postcode  \\\n",
       "25    Country Bagel Bakery      145 E Gay St  West Chester      US      NaN   \n",
       "26    Country Bagel Bakery      145 E Gay St  West Chester      US      NaN   \n",
       "27    Country Bagel Bakery      145 E Gay St  West Chester      US      NaN   \n",
       "28    Country Bagel Bakery      145 E Gay St  West Chester      US      NaN   \n",
       "29    Country Bagel Bakery      145 E Gay St  West Chester      US      NaN   \n",
       "30    Country Bagel Bakery      145 E Gay St  West Chester      US      NaN   \n",
       "281              Sir Pizza        Madison St       Madison      US      NaN   \n",
       "377       Baldinelli Pizza  12326 W 143rd St    Homer Glen      US      NaN   \n",
       "378       Baldinelli Pizza  12326 W 143rd St    Homer Glen      US      NaN   \n",
       "379  Valley Lahvosh Baking          502 M St        Fresno      US      NaN   \n",
       "\n",
       "    state  \\\n",
       "25     PA   \n",
       "26     PA   \n",
       "27     PA   \n",
       "28     PA   \n",
       "29     PA   \n",
       "30     PA   \n",
       "281    TN   \n",
       "377    IL   \n",
       "378    IL   \n",
       "379    CA   \n",
       "\n",
       "                                                                                                             categories  \\\n",
       "25   Bagels,Bakeries,Restaurants,Restaurant,Breakfast Brunch & Lunch Restaurants,,Bagel Shop,Breakfast Spot,Coffee Shop   \n",
       "26   Bagels,Bakeries,Restaurants,Restaurant,Breakfast Brunch & Lunch Restaurants,,Bagel Shop,Breakfast Spot,Coffee Shop   \n",
       "27   Bagels,Bakeries,Restaurants,Restaurant,Breakfast Brunch & Lunch Restaurants,,Bagel Shop,Breakfast Spot,Coffee Shop   \n",
       "28   Bagels,Bakeries,Restaurants,Restaurant,Breakfast Brunch & Lunch Restaurants,,Bagel Shop,Breakfast Spot,Coffee Shop   \n",
       "29   Bagels,Bakeries,Restaurants,Restaurant,Breakfast Brunch & Lunch Restaurants,,Bagel Shop,Breakfast Spot,Coffee Shop   \n",
       "30   Bagels,Bakeries,Restaurants,Restaurant,Breakfast Brunch & Lunch Restaurants,,Bagel Shop,Breakfast Spot,Coffee Shop   \n",
       "281                                                                                                         Pizza Place   \n",
       "377                                                                                       Pizza,Restaurants,Pizza Place   \n",
       "378                                                                                       Pizza,Restaurants,Pizza Place   \n",
       "379                                                   Bakery,Bakeries,Wholesale Bakeries,Cookies & Crackers,Restaurants   \n",
       "\n",
       "                           menu item  item value currency  \\\n",
       "25                       Pizza Bagel         NaN      USD   \n",
       "26                       Pizza Bagel         NaN      USD   \n",
       "27                       Pizza Bagel         NaN      USD   \n",
       "28               Pizza Bagel (plain)        2.59      USD   \n",
       "29         Pizza Bagel With Mushroom        3.29      USD   \n",
       "30        Pizza Bagel With Pepperoni        3.29      USD   \n",
       "281                      White Pizza       10.00      USD   \n",
       "377                   Four Pig Pizza         NaN      NaN   \n",
       "378                      Pizza Bread        3.75      USD   \n",
       "379  Classic Pepperoni Lahvosh Pizza         NaN      NaN   \n",
       "\n",
       "                                                                          item description  \\\n",
       "25                                                                          with pepperoni   \n",
       "26                                                                           with mushroom   \n",
       "27                                                               with pepperoni & mushroom   \n",
       "28                                                                                     NaN   \n",
       "29                                                                                     NaN   \n",
       "30                                                                                     NaN   \n",
       "281  Provolone cheese, garlic, olive oil, sliced tomatoes (may substitute another topping)   \n",
       "377                                                                                    NaN   \n",
       "378                                                                                    NaN   \n",
       "379                                                                                    NaN   \n",
       "\n",
       "     postcode_len  \n",
       "25              3  \n",
       "26              3  \n",
       "27              3  \n",
       "28              3  \n",
       "29              3  \n",
       "30              3  \n",
       "281             3  \n",
       "377             3  \n",
       "378             3  \n",
       "379             3  "
      ],
      "text/html": "<div>\n<style scoped>\n    .dataframe tbody tr th:only-of-type {\n        vertical-align: middle;\n    }\n\n    .dataframe tbody tr th {\n        vertical-align: top;\n    }\n\n    .dataframe thead th {\n        text-align: right;\n    }\n</style>\n<table border=\"1\" class=\"dataframe\">\n  <thead>\n    <tr style=\"text-align: right;\">\n      <th></th>\n      <th>name</th>\n      <th>address</th>\n      <th>city</th>\n      <th>country</th>\n      <th>postcode</th>\n      <th>state</th>\n      <th>categories</th>\n      <th>menu item</th>\n      <th>item value</th>\n      <th>currency</th>\n      <th>item description</th>\n      <th>postcode_len</th>\n    </tr>\n  </thead>\n  <tbody>\n    <tr>\n      <th>25</th>\n      <td>Country Bagel Bakery</td>\n      <td>145 E Gay St</td>\n      <td>West Chester</td>\n      <td>US</td>\n      <td>NaN</td>\n      <td>PA</td>\n      <td>Bagels,Bakeries,Restaurants,Restaurant,Breakfast Brunch &amp; Lunch Restaurants,,Bagel Shop,Breakfast Spot,Coffee Shop</td>\n      <td>Pizza Bagel</td>\n      <td>NaN</td>\n      <td>USD</td>\n      <td>with pepperoni</td>\n      <td>3</td>\n    </tr>\n    <tr>\n      <th>26</th>\n      <td>Country Bagel Bakery</td>\n      <td>145 E Gay St</td>\n      <td>West Chester</td>\n      <td>US</td>\n      <td>NaN</td>\n      <td>PA</td>\n      <td>Bagels,Bakeries,Restaurants,Restaurant,Breakfast Brunch &amp; Lunch Restaurants,,Bagel Shop,Breakfast Spot,Coffee Shop</td>\n      <td>Pizza Bagel</td>\n      <td>NaN</td>\n      <td>USD</td>\n      <td>with mushroom</td>\n      <td>3</td>\n    </tr>\n    <tr>\n      <th>27</th>\n      <td>Country Bagel Bakery</td>\n      <td>145 E Gay St</td>\n      <td>West Chester</td>\n      <td>US</td>\n      <td>NaN</td>\n      <td>PA</td>\n      <td>Bagels,Bakeries,Restaurants,Restaurant,Breakfast Brunch &amp; Lunch Restaurants,,Bagel Shop,Breakfast Spot,Coffee Shop</td>\n      <td>Pizza Bagel</td>\n      <td>NaN</td>\n      <td>USD</td>\n      <td>with pepperoni &amp; mushroom</td>\n      <td>3</td>\n    </tr>\n    <tr>\n      <th>28</th>\n      <td>Country Bagel Bakery</td>\n      <td>145 E Gay St</td>\n      <td>West Chester</td>\n      <td>US</td>\n      <td>NaN</td>\n      <td>PA</td>\n      <td>Bagels,Bakeries,Restaurants,Restaurant,Breakfast Brunch &amp; Lunch Restaurants,,Bagel Shop,Breakfast Spot,Coffee Shop</td>\n      <td>Pizza Bagel (plain)</td>\n      <td>2.59</td>\n      <td>USD</td>\n      <td>NaN</td>\n      <td>3</td>\n    </tr>\n    <tr>\n      <th>29</th>\n      <td>Country Bagel Bakery</td>\n      <td>145 E Gay St</td>\n      <td>West Chester</td>\n      <td>US</td>\n      <td>NaN</td>\n      <td>PA</td>\n      <td>Bagels,Bakeries,Restaurants,Restaurant,Breakfast Brunch &amp; Lunch Restaurants,,Bagel Shop,Breakfast Spot,Coffee Shop</td>\n      <td>Pizza Bagel With Mushroom</td>\n      <td>3.29</td>\n      <td>USD</td>\n      <td>NaN</td>\n      <td>3</td>\n    </tr>\n    <tr>\n      <th>30</th>\n      <td>Country Bagel Bakery</td>\n      <td>145 E Gay St</td>\n      <td>West Chester</td>\n      <td>US</td>\n      <td>NaN</td>\n      <td>PA</td>\n      <td>Bagels,Bakeries,Restaurants,Restaurant,Breakfast Brunch &amp; Lunch Restaurants,,Bagel Shop,Breakfast Spot,Coffee Shop</td>\n      <td>Pizza Bagel With Pepperoni</td>\n      <td>3.29</td>\n      <td>USD</td>\n      <td>NaN</td>\n      <td>3</td>\n    </tr>\n    <tr>\n      <th>281</th>\n      <td>Sir Pizza</td>\n      <td>Madison St</td>\n      <td>Madison</td>\n      <td>US</td>\n      <td>NaN</td>\n      <td>TN</td>\n      <td>Pizza Place</td>\n      <td>White Pizza</td>\n      <td>10.00</td>\n      <td>USD</td>\n      <td>Provolone cheese, garlic, olive oil, sliced tomatoes (may substitute another topping)</td>\n      <td>3</td>\n    </tr>\n    <tr>\n      <th>377</th>\n      <td>Baldinelli Pizza</td>\n      <td>12326 W 143rd St</td>\n      <td>Homer Glen</td>\n      <td>US</td>\n      <td>NaN</td>\n      <td>IL</td>\n      <td>Pizza,Restaurants,Pizza Place</td>\n      <td>Four Pig Pizza</td>\n      <td>NaN</td>\n      <td>NaN</td>\n      <td>NaN</td>\n      <td>3</td>\n    </tr>\n    <tr>\n      <th>378</th>\n      <td>Baldinelli Pizza</td>\n      <td>12326 W 143rd St</td>\n      <td>Homer Glen</td>\n      <td>US</td>\n      <td>NaN</td>\n      <td>IL</td>\n      <td>Pizza,Restaurants,Pizza Place</td>\n      <td>Pizza Bread</td>\n      <td>3.75</td>\n      <td>USD</td>\n      <td>NaN</td>\n      <td>3</td>\n    </tr>\n    <tr>\n      <th>379</th>\n      <td>Valley Lahvosh Baking</td>\n      <td>502 M St</td>\n      <td>Fresno</td>\n      <td>US</td>\n      <td>NaN</td>\n      <td>CA</td>\n      <td>Bakery,Bakeries,Wholesale Bakeries,Cookies &amp; Crackers,Restaurants</td>\n      <td>Classic Pepperoni Lahvosh Pizza</td>\n      <td>NaN</td>\n      <td>NaN</td>\n      <td>NaN</td>\n      <td>3</td>\n    </tr>\n  </tbody>\n</table>\n</div>"
     },
     "metadata": {},
     "execution_count": 10
    }
   ],
   "source": [
    "# Check where the NaNs are for postcode_len == 3\n",
    "df_copy.loc[(df_copy[\"postcode\"].isnull())].head(10)"
   ]
  },
  {
   "cell_type": "code",
   "execution_count": 11,
   "metadata": {},
   "outputs": [
    {
     "output_type": "execute_result",
     "data": {
      "text/plain": [
       "False    3445\n",
       "True       65\n",
       "Name: postcode, dtype: int64"
      ]
     },
     "metadata": {},
     "execution_count": 11
    }
   ],
   "source": [
    "# Check the count of where postcode is NaN\n",
    "df_copy[\"postcode\"].isnull().value_counts()"
   ]
  },
  {
   "cell_type": "code",
   "execution_count": 12,
   "metadata": {},
   "outputs": [],
   "source": [
    "# df_copy[\"postcode_clean\"] = df_copy[\"postcode\"].str.isdigit().astype(str).str.zfill(5)\n",
    "# df_copy[\"postcode_clean\"].astype(str).map(len).value_counts() # Ignore NaNs: len == 3!"
   ]
  },
  {
   "cell_type": "code",
   "execution_count": 13,
   "metadata": {},
   "outputs": [
    {
     "output_type": "execute_result",
     "data": {
      "text/plain": [
       "                                              name            address  \\\n",
       "938                                 Cafe Americana        550 Main St   \n",
       "939                                 Cafe Americana        550 Main St   \n",
       "1295        The Grille At Shadowrock Sedona Hilton  90 Ridge Trail Dr   \n",
       "1434  The Allen Street Grill (hotel State College)  100 W College Ave   \n",
       "1435  The Allen Street Grill (hotel State College)  100 W College Ave   \n",
       "\n",
       "               city country    postcode state  \\\n",
       "938      Cincinnati      US  45202-5211    OH   \n",
       "939      Cincinnati      US  45202-5211    OH   \n",
       "1295         Sedona      US  86351-7390    AZ   \n",
       "1434  State College      US  16801-3838    PA   \n",
       "1435  State College      US  16801-3838    PA   \n",
       "\n",
       "                                                                                  categories  \\\n",
       "938   Food And Dining,Restaurant Central Business District,Restaurant,Cincinnati Restaurants   \n",
       "939   Food And Dining,Restaurant Central Business District,Restaurant,Cincinnati Restaurants   \n",
       "1295                                                                              Restaurant   \n",
       "1434                                                                              Restaurant   \n",
       "1435                                                                              Restaurant   \n",
       "\n",
       "                     menu item  item value currency  \\\n",
       "938               Pizza Burger        3.95      USD   \n",
       "939   Pizza or Mushroom Hoagie        4.95      USD   \n",
       "1295          Thin Crust Pizza       15.00      USD   \n",
       "1434              Naan Pizza 1        7.95      USD   \n",
       "1435              Naan Pizza 2        8.95      USD   \n",
       "\n",
       "                                                                  item description  \\\n",
       "938                                                                            NaN   \n",
       "939                                                                            NaN   \n",
       "1295                                                                           NaN   \n",
       "1434                                 Arugula, prosciutto, parmesan and garlic oil.   \n",
       "1435  Smoked chicken thighs, gouda cheese, fried red onion and chipotle BBQ sauce.   \n",
       "\n",
       "      postcode_len  \n",
       "938             10  \n",
       "939             10  \n",
       "1295            10  \n",
       "1434            10  \n",
       "1435            10  "
      ],
      "text/html": "<div>\n<style scoped>\n    .dataframe tbody tr th:only-of-type {\n        vertical-align: middle;\n    }\n\n    .dataframe tbody tr th {\n        vertical-align: top;\n    }\n\n    .dataframe thead th {\n        text-align: right;\n    }\n</style>\n<table border=\"1\" class=\"dataframe\">\n  <thead>\n    <tr style=\"text-align: right;\">\n      <th></th>\n      <th>name</th>\n      <th>address</th>\n      <th>city</th>\n      <th>country</th>\n      <th>postcode</th>\n      <th>state</th>\n      <th>categories</th>\n      <th>menu item</th>\n      <th>item value</th>\n      <th>currency</th>\n      <th>item description</th>\n      <th>postcode_len</th>\n    </tr>\n  </thead>\n  <tbody>\n    <tr>\n      <th>938</th>\n      <td>Cafe Americana</td>\n      <td>550 Main St</td>\n      <td>Cincinnati</td>\n      <td>US</td>\n      <td>45202-5211</td>\n      <td>OH</td>\n      <td>Food And Dining,Restaurant Central Business District,Restaurant,Cincinnati Restaurants</td>\n      <td>Pizza Burger</td>\n      <td>3.95</td>\n      <td>USD</td>\n      <td>NaN</td>\n      <td>10</td>\n    </tr>\n    <tr>\n      <th>939</th>\n      <td>Cafe Americana</td>\n      <td>550 Main St</td>\n      <td>Cincinnati</td>\n      <td>US</td>\n      <td>45202-5211</td>\n      <td>OH</td>\n      <td>Food And Dining,Restaurant Central Business District,Restaurant,Cincinnati Restaurants</td>\n      <td>Pizza or Mushroom Hoagie</td>\n      <td>4.95</td>\n      <td>USD</td>\n      <td>NaN</td>\n      <td>10</td>\n    </tr>\n    <tr>\n      <th>1295</th>\n      <td>The Grille At Shadowrock Sedona Hilton</td>\n      <td>90 Ridge Trail Dr</td>\n      <td>Sedona</td>\n      <td>US</td>\n      <td>86351-7390</td>\n      <td>AZ</td>\n      <td>Restaurant</td>\n      <td>Thin Crust Pizza</td>\n      <td>15.00</td>\n      <td>USD</td>\n      <td>NaN</td>\n      <td>10</td>\n    </tr>\n    <tr>\n      <th>1434</th>\n      <td>The Allen Street Grill (hotel State College)</td>\n      <td>100 W College Ave</td>\n      <td>State College</td>\n      <td>US</td>\n      <td>16801-3838</td>\n      <td>PA</td>\n      <td>Restaurant</td>\n      <td>Naan Pizza 1</td>\n      <td>7.95</td>\n      <td>USD</td>\n      <td>Arugula, prosciutto, parmesan and garlic oil.</td>\n      <td>10</td>\n    </tr>\n    <tr>\n      <th>1435</th>\n      <td>The Allen Street Grill (hotel State College)</td>\n      <td>100 W College Ave</td>\n      <td>State College</td>\n      <td>US</td>\n      <td>16801-3838</td>\n      <td>PA</td>\n      <td>Restaurant</td>\n      <td>Naan Pizza 2</td>\n      <td>8.95</td>\n      <td>USD</td>\n      <td>Smoked chicken thighs, gouda cheese, fried red onion and chipotle BBQ sauce.</td>\n      <td>10</td>\n    </tr>\n  </tbody>\n</table>\n</div>"
     },
     "metadata": {},
     "execution_count": 13
    }
   ],
   "source": [
    "mask = (df_copy[\"postcode_len\"] == 10)\n",
    "df_copy.loc[mask].head(5)"
   ]
  },
  {
   "cell_type": "code",
   "execution_count": 14,
   "metadata": {},
   "outputs": [
    {
     "output_type": "execute_result",
     "data": {
      "text/plain": [
       "2     2434\n",
       "13     120\n",
       "9      119\n",
       "11      96\n",
       "12      86\n",
       "3       86\n",
       "10      82\n",
       "6       79\n",
       "7       66\n",
       "14      65\n",
       "4       54\n",
       "15      38\n",
       "5       35\n",
       "8       30\n",
       "18      24\n",
       "19      21\n",
       "28      20\n",
       "16      19\n",
       "21      16\n",
       "17      12\n",
       "20       5\n",
       "23       2\n",
       "22       1\n",
       "Name: state_len, dtype: int64"
      ]
     },
     "metadata": {},
     "execution_count": 14
    }
   ],
   "source": [
    "# Check length of values in state column\n",
    "df_copy[\"state_len\"] = df_copy[\"state\"].astype(str).map(len)\n",
    "df_copy[\"state_len\"].value_counts()"
   ]
  },
  {
   "cell_type": "code",
   "execution_count": 15,
   "metadata": {},
   "outputs": [
    {
     "output_type": "execute_result",
     "data": {
      "text/plain": [
       "                                                                  NaN   \n",
       "106                                                                                                                           Cheese on bottom, plum tomatoes on top.   \n",
       "107                                                                                                                                                               NaN   \n",
       "108                                                                                                                          Classic cheese or create your own pizza.   \n",
       "154                                                                                                                                                               NaN   \n",
       "214                                                                                                                   Pepperoni, sausage, bacon, meatball and cheese.   \n",
       "333                                                                                                                                                               NaN   \n",
       "798                                                                                                                                                               NaN   \n",
       "807                                                                                                                                        Choose Cheese or Pepperoni   \n",
       "808                                                                                                                                                               NaN   \n",
       "891                                                                                                                                                               NaN   \n",
       "892                                                                                                                                                               NaN   \n",
       "893                                                                                                                                                               NaN   \n",
       "894                                                                                                                                                               NaN   \n",
       "895                                                                                                                                                               NaN   \n",
       "896                                                                                                                                                               NaN   \n",
       "897                                                                                                                                                               NaN   \n",
       "930                                                                                                                                                               NaN   \n",
       "931                                                                                                                                                               NaN   \n",
       "932                                                                                                                               With ricotta and mozzarella cheese.   \n",
       "956                                                                                                                                                               NaN   \n",
       "957                                                                                                                                                               NaN   \n",
       "958                                                                                                                                                               NaN   \n",
       "959                                                                                                                                                               NaN   \n",
       "960                                                                                  Loaded with pepperoni, ham, chicken, bacon, beef, italian sausage and mozzarella   \n",
       "961                                                                                  Loaded with pepperoni, ham, chicken, bacon, beef, italian sausage and mozzarella   \n",
       "962                                                                                                Ranch dressing, grilled chicken, tomatoes, green onions and cheese   \n",
       "963                                                                                                Ranch dressing, grilled chicken, tomatoes, green onions and cheese   \n",
       "1408                                                                                                                                                              NaN   \n",
       "1409                                                                                                                                                              NaN   \n",
       "1410                                                                                                                         Cheese and homemade sauce. topping extra   \n",
       "1488                                                                                                                                                              NaN   \n",
       "1489  Veal, mushrooms, sauteed in olive oil and marinara sauce, then baked with mozzarella cheese. Served with a side of pasta, soup or house salad and garlic bread.   \n",
       "1532                                                                                                                                                              NaN   \n",
       "1533                                                                                                                                                              NaN   \n",
       "1689                                                                                                                                                              NaN   \n",
       "1690                                                                                                                                                              NaN   \n",
       "1691                                                                                                                                                              NaN   \n",
       "1692                                                                                                                                                              NaN   \n",
       "1693                                                                                                                                                              NaN   \n",
       "1694                                                                                                                                                              NaN   \n",
       "1695                                                                                                                                                              NaN   \n",
       "1696                                                                                                                                                              NaN   \n",
       "1697                                                                                                                                                              NaN   \n",
       "1698                                                                                                                                                              NaN   \n",
       "1872                                                                                                                                                              NaN   \n",
       "1873                                                                                                                                                              NaN   \n",
       "1874                                                                                                                  Meatballs, lamb sausage, feta, onion, cucumbers   \n",
       "1875                                                                                                                    Wildflower honey, fresh mozzarella, pecorino.   \n",
       "1876                                                                                                                                                              NaN   \n",
       "1877                                                                                                                      buffalo mozzarella, asparagus, tomato sauce   \n",
       "1878                                                                                                                                                              NaN   \n",
       "2062                                                                                                                                                              NaN   \n",
       "2201                                                                                                                                                              NaN   \n",
       "2202                                                                                                                                                              NaN   \n",
       "2203                                                     One slice of thick crust square pizza, your choice of cheese, pepperoni or mushroom and a soft drink or milk   \n",
       "2204                                                                                                                      Blended cheese, artichoke hearts and garlic   \n",
       "2205                                                                                                                                                              NaN   \n",
       "2206                                                                                                                           Cut to 24 slices, many topping choices   \n",
       "2357                                                                                                                                                              NaN   \n",
       "2358                                                                                                                                                              NaN   \n",
       "2359                                                                                                                                                              NaN   \n",
       "2360                                                                                                                                                              NaN   \n",
       "2361                                                                                                                                                              NaN   \n",
       "2362                                                                                                                                                              NaN   \n",
       "2363                                                                                                                                                              NaN   \n",
       "2364                                                                                                                                                              NaN   \n",
       "2365                                                                                                                                                              NaN   \n",
       "2366                                                                                                                                                              NaN   \n",
       "2367                                                                                                                                                              NaN   \n",
       "2368                                                                                                                                                              NaN   \n",
       "2369                                                                                                                                                              NaN   \n",
       "2431                                                                                                                                                              NaN   \n",
       "2433                                                                                                                                                              NaN   \n",
       "2434                                                                                                                                                              NaN   \n",
       "2449                                                                                                                             Tomato, onion, bell pepper, mushroom   \n",
       "2450                                                                                                                                                              NaN   \n",
       "2513                                                       Cucumber, crab and avocado roll with spicy tuna on top baked topped with masago, green onion and eel sauce   \n",
       "2613                                                                                                                                                              NaN   \n",
       "2614                                                                                                          Fresh tomato sauce, melted cheese backed to perfection.   \n",
       "2615                                                                                              Fresh tomato sauce, pepperoni and melted cheese baked to perfection   \n",
       "2627                                                                                                                                                              NaN   \n",
       "2628                                                                                                                     With up to 5 toppings, including specialties   \n",
       "2629                                                                                                                                Three medium three topping pizzas   \n",
       "3142                                                                               Smoked pulled pork, crispy bacon, barbecue sauce, caramelized onions, smoked gouda   \n",
       "3143                                                                                                                                                              NaN   \n",
       "3145                                                                               Fresh Mozzarella, Lou Bergier Pichin, Wild Onion, Crimini Mushroom, Arugula, Speck   \n",
       "3146                                                                                                        Fresh Basil, Burrata, Campari Tomato, Prosciutto di Parma   \n",
       "3147                                                                                                                                                              NaN   \n",
       "3148                                                                                                                  Leek, Apple, Thyme, Gorgonzola and Grana Padano   \n",
       "3149                                                                          Grilled Cinderella Pumpkin, Garlic, Hazelnuts, Sage, Caciocavallo and Alta Badia Cheese   \n",
       "3204                                                                                                                                                              NaN   \n",
       "3273                                                                                                                                                              NaN   \n",
       "3332                                                                                                                                                              NaN   \n",
       "3385                                                                                                                           Boursin, mozzarella, arugula, parmesan   \n",
       "3475                                                                                                                                                              NaN   \n",
       "\n",
       "      postcode_len  state_len  \n",
       "81               4         13  \n",
       "82               4         13  \n",
       "83               4         13  \n",
       "84               4         13  \n",
       "85               4         13  \n",
       "86               4         13  \n",
       "87               4         13  \n",
       "88               4         13  \n",
       "89               4         13  \n",
       "90               4         13  \n",
       "91               4         13  \n",
       "92               4         13  \n",
       "93               4         13  \n",
       "94               4         13  \n",
       "95               4         13  \n",
       "96               4         13  \n",
       "97               4         13  \n",
       "98               4         13  \n",
       "99               4         13  \n",
       "100              4         13  \n",
       "101              4         13  \n",
       "102              4         13  \n",
       "103              4         13  \n",
       "104              4         13  \n",
       "105              4         13  \n",
       "106              4         13  \n",
       "107              4         13  \n",
       "108              4         13  \n",
       "154              4         13  \n",
       "214              4         13  \n",
       "333              5         13  \n",
       "798              5         13  \n",
       "807              5         13  \n",
       "808              5         13  \n",
       "891              5         13  \n",
       "892              5         13  \n",
       "893              5         13  \n",
       "894              5         13  \n",
       "895              5         13  \n",
       "896              5         13  \n",
       "897              5         13  \n",
       "930              4         13  \n",
       "931              4         13  \n",
       "932              4         13  \n",
       "956              5         13  \n",
       "957              5         13  \n",
       "958              5         13  \n",
       "959              5         13  \n",
       "960              5         13  \n",
       "961              5         13  \n",
       "962              5         13  \n",
       "963              5         13  \n",
       "1408             5         13  \n",
       "1409             5         13  \n",
       "1410             5         13  \n",
       "1488             5         13  \n",
       "1489             5         13  \n",
       "1532             5         13  \n",
       "1533             5         13  \n",
       "1689             5         13  \n",
       "1690             5         13  \n",
       "1691             5         13  \n",
       "1692             5         13  \n",
       "1693             5         13  \n",
       "1694             5         13  \n",
       "1695             5         13  \n",
       "1696             5         13  \n",
       "1697             5         13  \n",
       "1698             5         13  \n",
       "1872             5         13  \n",
       "1873             5         13  \n",
       "1874             5         13  \n",
       "1875             5         13  \n",
       "1876             5         13  \n",
       "1877             5         13  \n",
       "1878             5         13  \n",
       "2062             5         13  \n",
       "2201             5         13  \n",
       "2202             5         13  \n",
       "2203             5         13  \n",
       "2204             5         13  \n",
       "2205             5         13  \n",
       "2206             5         13  \n",
       "2357             5         13  \n",
       "2358             5         13  \n",
       "2359             5         13  \n",
       "2360             5         13  \n",
       "2361             5         13  \n",
       "2362             5         13  \n",
       "2363             5         13  \n",
       "2364             5         13  \n",
       "2365             5         13  \n",
       "2366             5         13  \n",
       "2367             5         13  \n",
       "2368             5         13  \n",
       "2369             5         13  \n",
       "2431             5         13  \n",
       "2433             5         13  \n",
       "2434             5         13  \n",
       "2449             5         13  \n",
       "2450             5         13  \n",
       "2513             5         13  \n",
       "2613             5         13  \n",
       "2614             5         13  \n",
       "2615             5         13  \n",
       "2627             5         13  \n",
       "2628             5         13  \n",
       "2629             5         13  \n",
       "3142             4         13  \n",
       "3143             4         13  \n",
       "3145             5         13  \n",
       "3146             5         13  \n",
       "3147             5         13  \n",
       "3148             5         13  \n",
       "3149             5         13  \n",
       "3204             4         13  \n",
       "3273             4         13  \n",
       "3332             5         13  \n",
       "3385             5         13  \n",
       "3475             5         13  "
      ],
      "text/html": "<div>\n<style scoped>\n    .dataframe tbody tr th:only-of-type {\n        vertical-align: middle;\n    }\n\n    .dataframe tbody tr th {\n        vertical-align: top;\n    }\n\n    .dataframe thead th {\n        text-align: right;\n    }\n</style>\n<table border=\"1\" class=\"dataframe\">\n  <thead>\n    <tr style=\"text-align: right;\">\n      <th></th>\n      <th>name</th>\n      <th>address</th>\n      <th>city</th>\n      <th>country</th>\n      <th>postcode</th>\n      <th>state</th>\n      <th>categories</th>\n      <th>menu item</th>\n      <th>item value</th>\n      <th>currency</th>\n      <th>item description</th>\n      <th>postcode_len</th>\n      <th>state_len</th>\n    </tr>\n  </thead>\n  <tbody>\n    <tr>\n      <th>81</th>\n      <td>Nino's Trattoria &amp; Pizzeria</td>\n      <td>111 Lawrence Rd</td>\n      <td>Lawrence Township</td>\n      <td>US</td>\n      <td>8648</td>\n      <td>Lawrenceville</td>\n      <td>Pizza Place,Italian Restaurant,Restaurants,Pizza Place and Italian Restaurant</td>\n      <td>Blt Pizza</td>\n      <td>19.95</td>\n      <td>USD</td>\n      <td>NaN</td>\n      <td>4</td>\n      <td>13</td>\n    </tr>\n    <tr>\n      <th>82</th>\n      <td>Nino's Trattoria &amp; Pizzeria</td>\n      <td>111 Lawrence Rd</td>\n      <td>Lawrence Township</td>\n      <td>US</td>\n      <td>8648</td>\n      <td>Lawrenceville</td>\n      <td>Pizza Place,Italian Restaurant,Restaurants,Pizza Place and Italian Restaurant</td>\n      <td>Cheese Pizza</td>\n      <td>11.95</td>\n      <td>USD</td>\n      <td>NaN</td>\n      <td>4</td>\n      <td>13</td>\n    </tr>\n    <tr>\n      <th>83</th>\n      <td>Nino's Trattoria &amp; Pizzeria</td>\n      <td>111 Lawrence Rd</td>\n      <td>Lawrence Township</td>\n      <td>US</td>\n      <td>8648</td>\n      <td>Lawrenceville</td>\n      <td>Pizza Place,Italian Restaurant,Restaurants,Pizza Place and Italian Restaurant</td>\n      <td>Cheese Pizza</td>\n      <td>11.95</td>\n      <td>USD</td>\n      <td>Classic cheese or create your own pizza.</td>\n      <td>4</td>\n      <td>13</td>\n    </tr>\n    <tr>\n      <th>84</th>\n      <td>Nino's Trattoria &amp; Pizzeria</td>\n      <td>111 Lawrence Rd</td>\n      <td>Lawrence Township</td>\n      <td>US</td>\n      <td>8648</td>\n      <td>Lawrenceville</td>\n      <td>Pizza Place,Italian Restaurant,Restaurants,Pizza Place and Italian Restaurant</td>\n      <td>Cheese Pizza Slice</td>\n      <td>2.00</td>\n      <td>USD</td>\n      <td>NaN</td>\n      <td>4</td>\n      <td>13</td>\n    </tr>\n    <tr>\n      <th>85</th>\n      <td>Nino's Trattoria &amp; Pizzeria</td>\n      <td>111 Lawrence Rd</td>\n      <td>Lawrence Township</td>\n      <td>US</td>\n      <td>8648</td>\n      <td>Lawrenceville</td>\n      <td>Pizza Place,Italian Restaurant,Restaurants,Pizza Place and Italian Restaurant</td>\n      <td>Cheesesteak Stuffed Cheese Pizza</td>\n      <td>22.95</td>\n      <td>USD</td>\n      <td>NaN</td>\n      <td>4</td>\n      <td>13</td>\n    </tr>\n    <tr>\n      <th>86</th>\n      <td>Nino's Trattoria &amp; Pizzeria</td>\n      <td>111 Lawrence Rd</td>\n      <td>Lawrence Township</td>\n      <td>US</td>\n      <td>8648</td>\n      <td>Lawrenceville</td>\n      <td>Pizza Place,Italian Restaurant,Restaurants,Pizza Place and Italian Restaurant</td>\n      <td>Cheesesteak Stuffed Cheese Pizza</td>\n      <td>22.95</td>\n      <td>USD</td>\n      <td>With beef or chicken in double crust pizza.</td>\n      <td>4</td>\n      <td>13</td>\n    </tr>\n    <tr>\n      <th>87</th>\n      <td>Nino's Trattoria &amp; Pizzeria</td>\n      <td>111 Lawrence Rd</td>\n      <td>Lawrence Township</td>\n      <td>US</td>\n      <td>8648</td>\n      <td>Lawrenceville</td>\n      <td>Pizza Place,Italian Restaurant,Restaurants,Pizza Place and Italian Restaurant</td>\n      <td>Chicken Alfredo Pizza</td>\n      <td>19.95</td>\n      <td>USD</td>\n      <td>NaN</td>\n      <td>4</td>\n      <td>13</td>\n    </tr>\n    <tr>\n      <th>88</th>\n      <td>Nino's Trattoria &amp; Pizzeria</td>\n      <td>111 Lawrence Rd</td>\n      <td>Lawrence Township</td>\n      <td>US</td>\n      <td>8648</td>\n      <td>Lawrenceville</td>\n      <td>Pizza Place,Italian Restaurant,Restaurants,Pizza Place and Italian Restaurant</td>\n      <td>Chicken Parmigiana Pizza</td>\n      <td>19.95</td>\n      <td>USD</td>\n      <td>NaN</td>\n      <td>4</td>\n      <td>13</td>\n    </tr>\n    <tr>\n      <th>89</th>\n      <td>Nino's Trattoria &amp; Pizzeria</td>\n      <td>111 Lawrence Rd</td>\n      <td>Lawrence Township</td>\n      <td>US</td>\n      <td>8648</td>\n      <td>Lawrenceville</td>\n      <td>Pizza Place,Italian Restaurant,Restaurants,Pizza Place and Italian Restaurant</td>\n      <td>Chicken Wing Pizza</td>\n      <td>19.95</td>\n      <td>USD</td>\n      <td>NaN</td>\n      <td>4</td>\n      <td>13</td>\n    </tr>\n    <tr>\n      <th>90</th>\n      <td>Nino's Trattoria &amp; Pizzeria</td>\n      <td>111 Lawrence Rd</td>\n      <td>Lawrence Township</td>\n      <td>US</td>\n      <td>8648</td>\n      <td>Lawrenceville</td>\n      <td>Pizza Place,Italian Restaurant,Restaurants,Pizza Place and Italian Restaurant</td>\n      <td>Chicken Wing Pizza</td>\n      <td>19.95</td>\n      <td>USD</td>\n      <td>Hot sauce, celery, grilled chicken and bleu cheese.</td>\n      <td>4</td>\n      <td>13</td>\n    </tr>\n    <tr>\n      <th>91</th>\n      <td>Nino's Trattoria &amp; Pizzeria</td>\n      <td>111 Lawrence Rd</td>\n      <td>Lawrence Township</td>\n      <td>US</td>\n      <td>8648</td>\n      <td>Lawrenceville</td>\n      <td>Pizza Place,Italian Restaurant,Restaurants,Pizza Place and Italian Restaurant</td>\n      <td>Margherita Pizza</td>\n      <td>15.95</td>\n      <td>USD</td>\n      <td>NaN</td>\n      <td>4</td>\n      <td>13</td>\n    </tr>\n    <tr>\n      <th>92</th>\n      <td>Nino's Trattoria &amp; Pizzeria</td>\n      <td>111 Lawrence Rd</td>\n      <td>Lawrence Township</td>\n      <td>US</td>\n      <td>8648</td>\n      <td>Lawrenceville</td>\n      <td>Pizza Place,Italian Restaurant,Restaurants,Pizza Place and Italian Restaurant</td>\n      <td>Margherita Pizza</td>\n      <td>15.95</td>\n      <td>USD</td>\n      <td>Brooklyn style. Square thick pan pizza.</td>\n      <td>4</td>\n      <td>13</td>\n    </tr>\n    <tr>\n      <th>93</th>\n      <td>Nino's Trattoria &amp; Pizzeria</td>\n      <td>111 Lawrence Rd</td>\n      <td>Lawrence Township</td>\n      <td>US</td>\n      <td>8648</td>\n      <td>Lawrenceville</td>\n      <td>Pizza Place,Italian Restaurant,Restaurants,Pizza Place and Italian Restaurant</td>\n      <td>Old Fashion Pizza</td>\n      <td>15.95</td>\n      <td>USD</td>\n      <td>NaN</td>\n      <td>4</td>\n      <td>13</td>\n    </tr>\n    <tr>\n      <th>94</th>\n      <td>Nino's Trattoria &amp; Pizzeria</td>\n      <td>111 Lawrence Rd</td>\n      <td>Lawrence Township</td>\n      <td>US</td>\n      <td>8648</td>\n      <td>Lawrenceville</td>\n      <td>Pizza Place,Italian Restaurant,Restaurants,Pizza Place and Italian Restaurant</td>\n      <td>Old Fashion Pizza</td>\n      <td>15.95</td>\n      <td>USD</td>\n      <td>No cheese on it. Square thick pan pizza.</td>\n      <td>4</td>\n      <td>13</td>\n    </tr>\n    <tr>\n      <th>95</th>\n      <td>Nino's Trattoria &amp; Pizzeria</td>\n      <td>111 Lawrence Rd</td>\n      <td>Lawrence Township</td>\n      <td>US</td>\n      <td>8648</td>\n      <td>Lawrenceville</td>\n      <td>Pizza Place,Italian Restaurant,Restaurants,Pizza Place and Italian Restaurant</td>\n      <td>Old Fashion Tomato Pizza</td>\n      <td>12.95</td>\n      <td>USD</td>\n      <td>NaN</td>\n      <td>4</td>\n      <td>13</td>\n    </tr>\n    <tr>\n      <th>96</th>\n      <td>Nino's Trattoria &amp; Pizzeria</td>\n      <td>111 Lawrence Rd</td>\n      <td>Lawrence Township</td>\n      <td>US</td>\n      <td>8648</td>\n      <td>Lawrenceville</td>\n      <td>Pizza Place,Italian Restaurant,Restaurants,Pizza Place and Italian Restaurant</td>\n      <td>Old Fashion Tomato Pizza</td>\n      <td>12.95</td>\n      <td>USD</td>\n      <td>No cheese.</td>\n      <td>4</td>\n      <td>13</td>\n    </tr>\n    <tr>\n      <th>97</th>\n      <td>Nino's Trattoria &amp; Pizzeria</td>\n      <td>111 Lawrence Rd</td>\n      <td>Lawrence Township</td>\n      <td>US</td>\n      <td>8648</td>\n      <td>Lawrenceville</td>\n      <td>Pizza Place,Italian Restaurant,Restaurants,Pizza Place and Italian Restaurant</td>\n      <td>Pizza Fries</td>\n      <td>4.25</td>\n      <td>USD</td>\n      <td>NaN</td>\n      <td>4</td>\n      <td>13</td>\n    </tr>\n    <tr>\n      <th>98</th>\n      <td>Nino's Trattoria &amp; Pizzeria</td>\n      <td>111 Lawrence Rd</td>\n      <td>Lawrence Township</td>\n      <td>US</td>\n      <td>8648</td>\n      <td>Lawrenceville</td>\n      <td>Pizza Place,Italian Restaurant,Restaurants,Pizza Place and Italian Restaurant</td>\n      <td>Pizza Steak Sub</td>\n      <td>7.25</td>\n      <td>USD</td>\n      <td>NaN</td>\n      <td>4</td>\n      <td>13</td>\n    </tr>\n    <tr>\n      <th>99</th>\n      <td>Nino's Trattoria &amp; Pizzeria</td>\n      <td>111 Lawrence Rd</td>\n      <td>Lawrence Township</td>\n      <td>US</td>\n      <td>8648</td>\n      <td>Lawrenceville</td>\n      <td>Pizza Place,Italian Restaurant,Restaurants,Pizza Place and Italian Restaurant</td>\n      <td>Rancher Pizza</td>\n      <td>19.95</td>\n      <td>USD</td>\n      <td>NaN</td>\n      <td>4</td>\n      <td>13</td>\n    </tr>\n    <tr>\n      <th>100</th>\n      <td>Nino's Trattoria &amp; Pizzeria</td>\n      <td>111 Lawrence Rd</td>\n      <td>Lawrence Township</td>\n      <td>US</td>\n      <td>8648</td>\n      <td>Lawrenceville</td>\n      <td>Pizza Place,Italian Restaurant,Restaurants,Pizza Place and Italian Restaurant</td>\n      <td>Rancher Pizza</td>\n      <td>19.95</td>\n      <td>USD</td>\n      <td>Bacon, chicken, green peppers, chopped tomatoes and cheddar cheese.</td>\n      <td>4</td>\n      <td>13</td>\n    </tr>\n    <tr>\n      <th>101</th>\n      <td>Nino's Trattoria &amp; Pizzeria</td>\n      <td>111 Lawrence Rd</td>\n      <td>Lawrence Township</td>\n      <td>US</td>\n      <td>8648</td>\n      <td>Lawrenceville</td>\n      <td>Pizza Place,Italian Restaurant,Restaurants,Pizza Place and Italian Restaurant</td>\n      <td>Sicilian Pizza</td>\n      <td>15.95</td>\n      <td>USD</td>\n      <td>NaN</td>\n      <td>4</td>\n      <td>13</td>\n    </tr>\n    <tr>\n      <th>102</th>\n      <td>Nino's Trattoria &amp; Pizzeria</td>\n      <td>111 Lawrence Rd</td>\n      <td>Lawrence Township</td>\n      <td>US</td>\n      <td>8648</td>\n      <td>Lawrenceville</td>\n      <td>Pizza Place,Italian Restaurant,Restaurants,Pizza Place and Italian Restaurant</td>\n      <td>Sicilian Pizza</td>\n      <td>15.95</td>\n      <td>USD</td>\n      <td>Classic cheese or create your own square thick pan sicilian pizza.</td>\n      <td>4</td>\n      <td>13</td>\n    </tr>\n    <tr>\n      <th>103</th>\n      <td>Nino's Trattoria &amp; Pizzeria</td>\n      <td>111 Lawrence Rd</td>\n      <td>Lawrence Township</td>\n      <td>US</td>\n      <td>8648</td>\n      <td>Lawrenceville</td>\n      <td>Pizza Place,Italian Restaurant,Restaurants,Pizza Place and Italian Restaurant</td>\n      <td>Taco Pizza</td>\n      <td>19.95</td>\n      <td>USD</td>\n      <td>NaN</td>\n      <td>4</td>\n      <td>13</td>\n    </tr>\n    <tr>\n      <th>104</th>\n      <td>Nino's Trattoria &amp; Pizzeria</td>\n      <td>111 Lawrence Rd</td>\n      <td>Lawrence Township</td>\n      <td>US</td>\n      <td>8648</td>\n      <td>Lawrenceville</td>\n      <td>Pizza Place,Italian Restaurant,Restaurants,Pizza Place and Italian Restaurant</td>\n      <td>Taco Pizza</td>\n      <td>19.95</td>\n      <td>USD</td>\n      <td>Lettuce, tomatoes, ground beef and cheddar cheese.</td>\n      <td>4</td>\n      <td>13</td>\n    </tr>\n    <tr>\n      <th>105</th>\n      <td>Nino's Trattoria &amp; Pizzeria</td>\n      <td>111 Lawrence Rd</td>\n      <td>Lawrence Township</td>\n      <td>US</td>\n      <td>8648</td>\n      <td>Lawrenceville</td>\n      <td>Pizza Place,Italian Restaurant,Restaurants,Pizza Place and Italian Restaurant</td>\n      <td>Trenton Tomato Pizza</td>\n      <td>14.95</td>\n      <td>USD</td>\n      <td>NaN</td>\n      <td>4</td>\n      <td>13</td>\n    </tr>\n    <tr>\n      <th>106</th>\n      <td>Nino's Trattoria &amp; Pizzeria</td>\n      <td>111 Lawrence Rd</td>\n      <td>Lawrence Township</td>\n      <td>US</td>\n      <td>8648</td>\n      <td>Lawrenceville</td>\n      <td>Pizza Place,Italian Restaurant,Restaurants,Pizza Place and Italian Restaurant</td>\n      <td>Trenton Tomato Pizza</td>\n      <td>14.95</td>\n      <td>USD</td>\n      <td>Cheese on bottom, plum tomatoes on top.</td>\n      <td>4</td>\n      <td>13</td>\n    </tr>\n    <tr>\n      <th>107</th>\n      <td>Nino's Trattoria &amp; Pizzeria</td>\n      <td>111 Lawrence Rd</td>\n      <td>Lawrence Township</td>\n      <td>US</td>\n      <td>8648</td>\n      <td>Lawrenceville</td>\n      <td>Pizza Place,Italian Restaurant,Restaurants,Pizza Place and Italian Restaurant</td>\n      <td>White Pizza</td>\n      <td>11.95</td>\n      <td>USD</td>\n      <td>NaN</td>\n      <td>4</td>\n      <td>13</td>\n    </tr>\n    <tr>\n      <th>108</th>\n      <td>Nino's Trattoria &amp; Pizzeria</td>\n      <td>111 Lawrence Rd</td>\n      <td>Lawrence Township</td>\n      <td>US</td>\n      <td>8648</td>\n      <td>Lawrenceville</td>\n      <td>Pizza Place,Italian Restaurant,Restaurants,Pizza Place and Italian Restaurant</td>\n      <td>White Pizza</td>\n      <td>11.95</td>\n      <td>USD</td>\n      <td>Classic cheese or create your own pizza.</td>\n      <td>4</td>\n      <td>13</td>\n    </tr>\n    <tr>\n      <th>154</th>\n      <td>West River Cafe</td>\n      <td>148 W River St</td>\n      <td>Providence</td>\n      <td>US</td>\n      <td>2904</td>\n      <td>No Providence</td>\n      <td>Caf and Coffee Shop,Coffee &amp; Espresso Restaurants,Coffee Shops,Pizza,Caterers,Bagels,Restaurants</td>\n      <td>Pizza Combo</td>\n      <td>4.95</td>\n      <td>USD</td>\n      <td>NaN</td>\n      <td>4</td>\n      <td>13</td>\n    </tr>\n    <tr>\n      <th>214</th>\n      <td>Harry's Pizza</td>\n      <td>405 Sea St</td>\n      <td>Quincy</td>\n      <td>US</td>\n      <td>2169</td>\n      <td>Quincy Center</td>\n      <td>Pizza,Caterers,Sandwich Shops,Restaurants</td>\n      <td>Meat Lovers Pizza</td>\n      <td>NaN</td>\n      <td>NaN</td>\n      <td>Pepperoni, sausage, bacon, meatball and cheese.</td>\n      <td>4</td>\n      <td>13</td>\n    </tr>\n    <tr>\n      <th>333</th>\n      <td>Tre Restaurant &amp; Wine Bar</td>\n      <td>173 Ludlow St</td>\n      <td>New York</td>\n      <td>US</td>\n      <td>10002</td>\n      <td>New York City</td>\n      <td>Restaurant,Italian Restaurant,Italian Restaurant and Breakfast Spot,Breakfast Spot,Italian Restaurant and Breakfast Spot Lower East Side</td>\n      <td>Vegetarian Pizza</td>\n      <td>NaN</td>\n      <td>NaN</td>\n      <td>NaN</td>\n      <td>5</td>\n      <td>13</td>\n    </tr>\n    <tr>\n      <th>798</th>\n      <td>Crown Fried Chicken</td>\n      <td>1101 Filbert St</td>\n      <td>Philadelphia</td>\n      <td>US</td>\n      <td>19107</td>\n      <td>Wm Penn Anx W</td>\n      <td>Fried Chicken Joint</td>\n      <td>Pizza Role</td>\n      <td>1.00</td>\n      <td>USD</td>\n      <td>NaN</td>\n      <td>5</td>\n      <td>13</td>\n    </tr>\n    <tr>\n      <th>807</th>\n      <td>Kings Chicago - Lincoln Park</td>\n      <td>1500 N Clybourn Ave</td>\n      <td>Chicago</td>\n      <td>US</td>\n      <td>60610</td>\n      <td>Fort Dearborn</td>\n      <td>American Restaurant,Restaurant,Bowling Alley,Bowling Alleys,Sports Bar</td>\n      <td>Kids Pizza</td>\n      <td>6.50</td>\n      <td>USD</td>\n      <td>Choose Cheese or Pepperoni</td>\n      <td>5</td>\n      <td>13</td>\n    </tr>\n    <tr>\n      <th>808</th>\n      <td>Kings Chicago - Lincoln Park</td>\n      <td>1500 N Clybourn Ave</td>\n      <td>Chicago</td>\n      <td>US</td>\n      <td>60610</td>\n      <td>Fort Dearborn</td>\n      <td>American Restaurant,Restaurant,Bowling Alley,Bowling Alleys,Sports Bar</td>\n      <td>Pizza of The Week</td>\n      <td>NaN</td>\n      <td>NaN</td>\n      <td>NaN</td>\n      <td>5</td>\n      <td>13</td>\n    </tr>\n    <tr>\n      <th>891</th>\n      <td>Mama's Pizza &amp; Restaurant</td>\n      <td>15080 Idlewild Rd</td>\n      <td>Matthews</td>\n      <td>US</td>\n      <td>28104</td>\n      <td>Wesley Chapel</td>\n      <td>Italian Restaurant and Pizza Place</td>\n      <td>Bbq Chicken Pizza</td>\n      <td>15.95</td>\n      <td>USD</td>\n      <td>NaN</td>\n      <td>5</td>\n      <td>13</td>\n    </tr>\n    <tr>\n      <th>892</th>\n      <td>Mama's Pizza &amp; Restaurant</td>\n      <td>15080 Idlewild Rd</td>\n      <td>Matthews</td>\n      <td>US</td>\n      <td>28104</td>\n      <td>Wesley Chapel</td>\n      <td>Italian Restaurant and Pizza Place</td>\n      <td>Bbq Chicken Pizza</td>\n      <td>NaN</td>\n      <td>NaN</td>\n      <td>NaN</td>\n      <td>5</td>\n      <td>13</td>\n    </tr>\n    <tr>\n      <th>893</th>\n      <td>Mama's Pizza &amp; Restaurant</td>\n      <td>15080 Idlewild Rd</td>\n      <td>Matthews</td>\n      <td>US</td>\n      <td>28104</td>\n      <td>Wesley Chapel</td>\n      <td>Italian Restaurant and Pizza Place</td>\n      <td>Buffalo Chicken Pizza</td>\n      <td>15.95</td>\n      <td>USD</td>\n      <td>NaN</td>\n      <td>5</td>\n      <td>13</td>\n    </tr>\n    <tr>\n      <th>894</th>\n      <td>Mama's Pizza &amp; Restaurant</td>\n      <td>15080 Idlewild Rd</td>\n      <td>Matthews</td>\n      <td>US</td>\n      <td>28104</td>\n      <td>Wesley Chapel</td>\n      <td>Italian Restaurant and Pizza Place</td>\n      <td>Hawaiian Pizza</td>\n      <td>14.95</td>\n      <td>USD</td>\n      <td>NaN</td>\n      <td>5</td>\n      <td>13</td>\n    </tr>\n    <tr>\n      <th>895</th>\n      <td>Mama's Pizza &amp; Restaurant</td>\n      <td>15080 Idlewild Rd</td>\n      <td>Matthews</td>\n      <td>US</td>\n      <td>28104</td>\n      <td>Wesley Chapel</td>\n      <td>Italian Restaurant and Pizza Place</td>\n      <td>Marguerita Pizza</td>\n      <td>14.95</td>\n      <td>USD</td>\n      <td>NaN</td>\n      <td>5</td>\n      <td>13</td>\n    </tr>\n    <tr>\n      <th>896</th>\n      <td>Mama's Pizza &amp; Restaurant</td>\n      <td>15080 Idlewild Rd</td>\n      <td>Matthews</td>\n      <td>US</td>\n      <td>28104</td>\n      <td>Wesley Chapel</td>\n      <td>Italian Restaurant and Pizza Place</td>\n      <td>Staten Island Pizza</td>\n      <td>16.95</td>\n      <td>USD</td>\n      <td>NaN</td>\n      <td>5</td>\n      <td>13</td>\n    </tr>\n    <tr>\n      <th>897</th>\n      <td>Mama's Pizza &amp; Restaurant</td>\n      <td>15080 Idlewild Rd</td>\n      <td>Matthews</td>\n      <td>US</td>\n      <td>28104</td>\n      <td>Wesley Chapel</td>\n      <td>Italian Restaurant and Pizza Place</td>\n      <td>Veggie Pizza</td>\n      <td>16.95</td>\n      <td>USD</td>\n      <td>NaN</td>\n      <td>5</td>\n      <td>13</td>\n    </tr>\n    <tr>\n      <th>930</th>\n      <td>Francesco Pizzeria and Ristorante</td>\n      <td>340 W Broad St</td>\n      <td>Burlington</td>\n      <td>US</td>\n      <td>8016</td>\n      <td>Burlngtn City</td>\n      <td>Restaurant,Pizza Place</td>\n      <td>Pizza Slice</td>\n      <td>2.00</td>\n      <td>USD</td>\n      <td>NaN</td>\n      <td>4</td>\n      <td>13</td>\n    </tr>\n    <tr>\n      <th>931</th>\n      <td>Francesco Pizzeria and Ristorante</td>\n      <td>340 W Broad St</td>\n      <td>Burlington</td>\n      <td>US</td>\n      <td>8016</td>\n      <td>Burlngtn City</td>\n      <td>Restaurant,Pizza Place</td>\n      <td>Sicilian Cheese Pizza</td>\n      <td>13.95</td>\n      <td>USD</td>\n      <td>NaN</td>\n      <td>4</td>\n      <td>13</td>\n    </tr>\n    <tr>\n      <th>932</th>\n      <td>Francesco Pizzeria and Ristorante</td>\n      <td>340 W Broad St</td>\n      <td>Burlington</td>\n      <td>US</td>\n      <td>8016</td>\n      <td>Burlngtn City</td>\n      <td>Restaurant,Pizza Place</td>\n      <td>White Pizza</td>\n      <td>10.50</td>\n      <td>USD</td>\n      <td>With ricotta and mozzarella cheese.</td>\n      <td>4</td>\n      <td>13</td>\n    </tr>\n    <tr>\n      <th>956</th>\n      <td>Good Company Bar</td>\n      <td>7625 N Union Blvd</td>\n      <td>Colorado Springs</td>\n      <td>US</td>\n      <td>80920</td>\n      <td>Colorado Spgs</td>\n      <td>Sports Bar,Bar,Karaoke Bar</td>\n      <td>Good Company Fiesta Pizza</td>\n      <td>13.95</td>\n      <td>USD</td>\n      <td>NaN</td>\n      <td>5</td>\n      <td>13</td>\n    </tr>\n    <tr>\n      <th>957</th>\n      <td>Good Company Bar</td>\n      <td>7625 N Union Blvd</td>\n      <td>Colorado Springs</td>\n      <td>US</td>\n      <td>80920</td>\n      <td>Colorado Spgs</td>\n      <td>Sports Bar,Bar,Karaoke Bar</td>\n      <td>Good Company Fiesta Pizza</td>\n      <td>NaN</td>\n      <td>NaN</td>\n      <td>NaN</td>\n      <td>5</td>\n      <td>13</td>\n    </tr>\n    <tr>\n      <th>958</th>\n      <td>Good Company Bar</td>\n      <td>7625 N Union Blvd</td>\n      <td>Colorado Springs</td>\n      <td>US</td>\n      <td>80920</td>\n      <td>Colorado Spgs</td>\n      <td>Sports Bar,Bar,Karaoke Bar</td>\n      <td>Kickin Chicken Pizza</td>\n      <td>12.95</td>\n      <td>USD</td>\n      <td>NaN</td>\n      <td>5</td>\n      <td>13</td>\n    </tr>\n    <tr>\n      <th>959</th>\n      <td>Good Company Bar</td>\n      <td>7625 N Union Blvd</td>\n      <td>Colorado Springs</td>\n      <td>US</td>\n      <td>80920</td>\n      <td>Colorado Spgs</td>\n      <td>Sports Bar,Bar,Karaoke Bar</td>\n      <td>Kickin Chicken Pizza</td>\n      <td>NaN</td>\n      <td>NaN</td>\n      <td>NaN</td>\n      <td>5</td>\n      <td>13</td>\n    </tr>\n    <tr>\n      <th>960</th>\n      <td>Good Company Bar</td>\n      <td>7625 N Union Blvd</td>\n      <td>Colorado Springs</td>\n      <td>US</td>\n      <td>80920</td>\n      <td>Colorado Spgs</td>\n      <td>Sports Bar,Bar,Karaoke Bar</td>\n      <td>Meat Lovers Pizza</td>\n      <td>13.95</td>\n      <td>USD</td>\n      <td>Loaded with pepperoni, ham, chicken, bacon, beef, italian sausage and mozzarella</td>\n      <td>5</td>\n      <td>13</td>\n    </tr>\n    <tr>\n      <th>961</th>\n      <td>Good Company Bar</td>\n      <td>7625 N Union Blvd</td>\n      <td>Colorado Springs</td>\n      <td>US</td>\n      <td>80920</td>\n      <td>Colorado Spgs</td>\n      <td>Sports Bar,Bar,Karaoke Bar</td>\n      <td>Meat Lovers Pizza</td>\n      <td>NaN</td>\n      <td>NaN</td>\n      <td>Loaded with pepperoni, ham, chicken, bacon, beef, italian sausage and mozzarella</td>\n      <td>5</td>\n      <td>13</td>\n    </tr>\n    <tr>\n      <th>962</th>\n      <td>Good Company Bar</td>\n      <td>7625 N Union Blvd</td>\n      <td>Colorado Springs</td>\n      <td>US</td>\n      <td>80920</td>\n      <td>Colorado Spgs</td>\n      <td>Sports Bar,Bar,Karaoke Bar</td>\n      <td>Wild Ranch Pizza</td>\n      <td>10.95</td>\n      <td>USD</td>\n      <td>Ranch dressing, grilled chicken, tomatoes, green onions and cheese</td>\n      <td>5</td>\n      <td>13</td>\n    </tr>\n    <tr>\n      <th>963</th>\n      <td>Good Company Bar</td>\n      <td>7625 N Union Blvd</td>\n      <td>Colorado Springs</td>\n      <td>US</td>\n      <td>80920</td>\n      <td>Colorado Spgs</td>\n      <td>Sports Bar,Bar,Karaoke Bar</td>\n      <td>Wild Ranch Pizza</td>\n      <td>NaN</td>\n      <td>NaN</td>\n      <td>Ranch dressing, grilled chicken, tomatoes, green onions and cheese</td>\n      <td>5</td>\n      <td>13</td>\n    </tr>\n    <tr>\n      <th>1408</th>\n      <td>Oliveri's Pizzeria</td>\n      <td>14 Lebanon St</td>\n      <td>Hamilton</td>\n      <td>US</td>\n      <td>13346</td>\n      <td>Randallsville</td>\n      <td>Take Out Restaurants,Caterers,Restaurants,Italian Restaurants,Pizza</td>\n      <td>2 Large Cheese Pizza</td>\n      <td>20.00</td>\n      <td>USD</td>\n      <td>NaN</td>\n      <td>5</td>\n      <td>13</td>\n    </tr>\n    <tr>\n      <th>1409</th>\n      <td>Oliveri's Pizzeria</td>\n      <td>14 Lebanon St</td>\n      <td>Hamilton</td>\n      <td>US</td>\n      <td>13346</td>\n      <td>Randallsville</td>\n      <td>Take Out Restaurants,Caterers,Restaurants,Italian Restaurants,Pizza</td>\n      <td>2 Small Cheese Pizza</td>\n      <td>13.75</td>\n      <td>USD</td>\n      <td>NaN</td>\n      <td>5</td>\n      <td>13</td>\n    </tr>\n    <tr>\n      <th>1410</th>\n      <td>Oliveri's Pizzeria</td>\n      <td>14 Lebanon St</td>\n      <td>Hamilton</td>\n      <td>US</td>\n      <td>13346</td>\n      <td>Randallsville</td>\n      <td>Take Out Restaurants,Caterers,Restaurants,Italian Restaurants,Pizza</td>\n      <td>Whole Wheat Pizza</td>\n      <td>9.00</td>\n      <td>USD</td>\n      <td>Cheese and homemade sauce. topping extra</td>\n      <td>5</td>\n      <td>13</td>\n    </tr>\n    <tr>\n      <th>1488</th>\n      <td>Visconti's Ristorante</td>\n      <td>2700 E Bidwell St</td>\n      <td>Folsom</td>\n      <td>US</td>\n      <td>95630</td>\n      <td>Mormon Island</td>\n      <td>Italian Restaurant</td>\n      <td>Cheese Pizza</td>\n      <td>17.00</td>\n      <td>USD</td>\n      <td>NaN</td>\n      <td>5</td>\n      <td>13</td>\n    </tr>\n    <tr>\n      <th>1489</th>\n      <td>Visconti's Ristorante</td>\n      <td>2700 E Bidwell St</td>\n      <td>Folsom</td>\n      <td>US</td>\n      <td>95630</td>\n      <td>Mormon Island</td>\n      <td>Italian Restaurant</td>\n      <td>Veal Pizzaiola</td>\n      <td>19.00</td>\n      <td>USD</td>\n      <td>Veal, mushrooms, sauteed in olive oil and marinara sauce, then baked with mozzarella cheese. Served with a side of pasta, soup or house salad and garlic bread.</td>\n      <td>5</td>\n      <td>13</td>\n    </tr>\n    <tr>\n      <th>1532</th>\n      <td>Camden On The Lake Resort, Spa, Yacht Club</td>\n      <td>2359 Bittersweet Rd</td>\n      <td>Lake Ozark</td>\n      <td>US</td>\n      <td>65049</td>\n      <td>Vlg Of 4 Ssns</td>\n      <td>Hotel,Spa</td>\n      <td>Pepperoni or Cheese Pizza</td>\n      <td>NaN</td>\n      <td>NaN</td>\n      <td>NaN</td>\n      <td>5</td>\n      <td>13</td>\n    </tr>\n    <tr>\n      <th>1533</th>\n      <td>Camden On The Lake Resort, Spa, Yacht Club</td>\n      <td>2359 Bittersweet Rd</td>\n      <td>Lake Ozark</td>\n      <td>US</td>\n      <td>65049</td>\n      <td>Vlg Of 4 Ssns</td>\n      <td>Hotel,Spa</td>\n      <td>Pepperoni or Cheese Pizza</td>\n      <td>7.00</td>\n      <td>USD</td>\n      <td>NaN</td>\n      <td>5</td>\n      <td>13</td>\n    </tr>\n    <tr>\n      <th>1689</th>\n      <td>Drkula's 32 Bowl</td>\n      <td>6710 Cahill Ave</td>\n      <td>Inver Grove Heights</td>\n      <td>US</td>\n      <td>55076</td>\n      <td>South St Paul</td>\n      <td>American Restaurant, Event Space, and Bar,American Restaurant,Event Space,Bar</td>\n      <td>Cheese Pizza</td>\n      <td>12.95</td>\n      <td>USD</td>\n      <td>NaN</td>\n      <td>5</td>\n      <td>13</td>\n    </tr>\n    <tr>\n      <th>1690</th>\n      <td>Drkula's 32 Bowl</td>\n      <td>6710 Cahill Ave</td>\n      <td>Inver Grove Heights</td>\n      <td>US</td>\n      <td>55076</td>\n      <td>South St Paul</td>\n      <td>American Restaurant, Event Space, and Bar,American Restaurant,Event Space,Bar</td>\n      <td>Cheese Pizza</td>\n      <td>NaN</td>\n      <td>NaN</td>\n      <td>NaN</td>\n      <td>5</td>\n      <td>13</td>\n    </tr>\n    <tr>\n      <th>1691</th>\n      <td>Drkula's 32 Bowl</td>\n      <td>6710 Cahill Ave</td>\n      <td>Inver Grove Heights</td>\n      <td>US</td>\n      <td>55076</td>\n      <td>South St Paul</td>\n      <td>American Restaurant, Event Space, and Bar,American Restaurant,Event Space,Bar</td>\n      <td>Deluxe Pizza</td>\n      <td>13.95</td>\n      <td>USD</td>\n      <td>NaN</td>\n      <td>5</td>\n      <td>13</td>\n    </tr>\n    <tr>\n      <th>1692</th>\n      <td>Drkula's 32 Bowl</td>\n      <td>6710 Cahill Ave</td>\n      <td>Inver Grove Heights</td>\n      <td>US</td>\n      <td>55076</td>\n      <td>South St Paul</td>\n      <td>American Restaurant, Event Space, and Bar,American Restaurant,Event Space,Bar</td>\n      <td>Deluxe Pizza</td>\n      <td>NaN</td>\n      <td>NaN</td>\n      <td>NaN</td>\n      <td>5</td>\n      <td>13</td>\n    </tr>\n    <tr>\n      <th>1693</th>\n      <td>Drkula's 32 Bowl</td>\n      <td>6710 Cahill Ave</td>\n      <td>Inver Grove Heights</td>\n      <td>US</td>\n      <td>55076</td>\n      <td>South St Paul</td>\n      <td>American Restaurant, Event Space, and Bar,American Restaurant,Event Space,Bar</td>\n      <td>Meat Lovers Pizza</td>\n      <td>13.95</td>\n      <td>USD</td>\n      <td>NaN</td>\n      <td>5</td>\n      <td>13</td>\n    </tr>\n    <tr>\n      <th>1694</th>\n      <td>Drkula's 32 Bowl</td>\n      <td>6710 Cahill Ave</td>\n      <td>Inver Grove Heights</td>\n      <td>US</td>\n      <td>55076</td>\n      <td>South St Paul</td>\n      <td>American Restaurant, Event Space, and Bar,American Restaurant,Event Space,Bar</td>\n      <td>Meat Lovers Pizza</td>\n      <td>NaN</td>\n      <td>NaN</td>\n      <td>NaN</td>\n      <td>5</td>\n      <td>13</td>\n    </tr>\n    <tr>\n      <th>1695</th>\n      <td>Drkula's 32 Bowl</td>\n      <td>6710 Cahill Ave</td>\n      <td>Inver Grove Heights</td>\n      <td>US</td>\n      <td>55076</td>\n      <td>South St Paul</td>\n      <td>American Restaurant, Event Space, and Bar,American Restaurant,Event Space,Bar</td>\n      <td>Pepperoni Pizza</td>\n      <td>12.95</td>\n      <td>USD</td>\n      <td>NaN</td>\n      <td>5</td>\n      <td>13</td>\n    </tr>\n    <tr>\n      <th>1696</th>\n      <td>Drkula's 32 Bowl</td>\n      <td>6710 Cahill Ave</td>\n      <td>Inver Grove Heights</td>\n      <td>US</td>\n      <td>55076</td>\n      <td>South St Paul</td>\n      <td>American Restaurant, Event Space, and Bar,American Restaurant,Event Space,Bar</td>\n      <td>Pepperoni Pizza</td>\n      <td>NaN</td>\n      <td>NaN</td>\n      <td>NaN</td>\n      <td>5</td>\n      <td>13</td>\n    </tr>\n    <tr>\n      <th>1697</th>\n      <td>Drkula's 32 Bowl</td>\n      <td>6710 Cahill Ave</td>\n      <td>Inver Grove Heights</td>\n      <td>US</td>\n      <td>55076</td>\n      <td>South St Paul</td>\n      <td>American Restaurant, Event Space, and Bar,American Restaurant,Event Space,Bar</td>\n      <td>Sausage Pizza</td>\n      <td>12.95</td>\n      <td>USD</td>\n      <td>NaN</td>\n      <td>5</td>\n      <td>13</td>\n    </tr>\n    <tr>\n      <th>1698</th>\n      <td>Drkula's 32 Bowl</td>\n      <td>6710 Cahill Ave</td>\n      <td>Inver Grove Heights</td>\n      <td>US</td>\n      <td>55076</td>\n      <td>South St Paul</td>\n      <td>American Restaurant, Event Space, and Bar,American Restaurant,Event Space,Bar</td>\n      <td>Sausage Pizza</td>\n      <td>NaN</td>\n      <td>NaN</td>\n      <td>NaN</td>\n      <td>5</td>\n      <td>13</td>\n    </tr>\n    <tr>\n      <th>1872</th>\n      <td>Lia's</td>\n      <td>4435 Willard Ave</td>\n      <td>Chevy Chase</td>\n      <td>US</td>\n      <td>20815</td>\n      <td>Chevy Chs Vlg</td>\n      <td>Restaurant,Italian Restaurant,Pizza Place</td>\n      <td>Breakfast Pizza</td>\n      <td>13.95</td>\n      <td>USD</td>\n      <td>NaN</td>\n      <td>5</td>\n      <td>13</td>\n    </tr>\n    <tr>\n      <th>1873</th>\n      <td>Lia's</td>\n      <td>4435 Willard Ave</td>\n      <td>Chevy Chase</td>\n      <td>US</td>\n      <td>20815</td>\n      <td>Chevy Chs Vlg</td>\n      <td>Restaurant,Italian Restaurant,Pizza Place</td>\n      <td>Cheese Pizza</td>\n      <td>7.95</td>\n      <td>USD</td>\n      <td>NaN</td>\n      <td>5</td>\n      <td>13</td>\n    </tr>\n    <tr>\n      <th>1874</th>\n      <td>Lia's</td>\n      <td>4435 Willard Ave</td>\n      <td>Chevy Chase</td>\n      <td>US</td>\n      <td>20815</td>\n      <td>Chevy Chs Vlg</td>\n      <td>Restaurant,Italian Restaurant,Pizza Place</td>\n      <td>Greek Pizza</td>\n      <td>8.95</td>\n      <td>USD</td>\n      <td>Meatballs, lamb sausage, feta, onion, cucumbers</td>\n      <td>5</td>\n      <td>13</td>\n    </tr>\n    <tr>\n      <th>1875</th>\n      <td>Lia's</td>\n      <td>4435 Willard Ave</td>\n      <td>Chevy Chase</td>\n      <td>US</td>\n      <td>20815</td>\n      <td>Chevy Chs Vlg</td>\n      <td>Restaurant,Italian Restaurant,Pizza Place</td>\n      <td>Pepper Bacon Pizza</td>\n      <td>14.95</td>\n      <td>USD</td>\n      <td>Wildflower honey, fresh mozzarella, pecorino.</td>\n      <td>5</td>\n      <td>13</td>\n    </tr>\n    <tr>\n      <th>1876</th>\n      <td>Lia's</td>\n      <td>4435 Willard Ave</td>\n      <td>Chevy Chase</td>\n      <td>US</td>\n      <td>20815</td>\n      <td>Chevy Chs Vlg</td>\n      <td>Restaurant,Italian Restaurant,Pizza Place</td>\n      <td>Pepperoni Cheese Pizza</td>\n      <td>6.95</td>\n      <td>USD</td>\n      <td>NaN</td>\n      <td>5</td>\n      <td>13</td>\n    </tr>\n    <tr>\n      <th>1877</th>\n      <td>Lia's</td>\n      <td>4435 Willard Ave</td>\n      <td>Chevy Chase</td>\n      <td>US</td>\n      <td>20815</td>\n      <td>Chevy Chs Vlg</td>\n      <td>Restaurant,Italian Restaurant,Pizza Place</td>\n      <td>Prosciutto Pizza</td>\n      <td>13.95</td>\n      <td>USD</td>\n      <td>buffalo mozzarella, asparagus, tomato sauce</td>\n      <td>5</td>\n      <td>13</td>\n    </tr>\n    <tr>\n      <th>1878</th>\n      <td>Lia's</td>\n      <td>4435 Willard Ave</td>\n      <td>Chevy Chase</td>\n      <td>US</td>\n      <td>20815</td>\n      <td>Chevy Chs Vlg</td>\n      <td>Restaurant,Italian Restaurant,Pizza Place</td>\n      <td>Straight Up Junior Pizza</td>\n      <td>8.95</td>\n      <td>USD</td>\n      <td>NaN</td>\n      <td>5</td>\n      <td>13</td>\n    </tr>\n    <tr>\n      <th>2062</th>\n      <td>Marquart's Landing</td>\n      <td>300 W</td>\n      <td>Washington</td>\n      <td>US</td>\n      <td>63090</td>\n      <td>Clover Bottom</td>\n      <td>Bar,Bars &amp; Clubs,Nightlife</td>\n      <td>Hot Wing Pizza</td>\n      <td>20.49</td>\n      <td>USD</td>\n      <td>NaN</td>\n      <td>5</td>\n      <td>13</td>\n    </tr>\n    <tr>\n      <th>2201</th>\n      <td>Sicilian Style Pizza Pie</td>\n      <td>2415 Mission St</td>\n      <td>Santa Cruz</td>\n      <td>US</td>\n      <td>95060</td>\n      <td>Paradise Park</td>\n      <td>Catering,Restaurants,Pizza Place Westside</td>\n      <td>Cheese Pizza</td>\n      <td>8.00</td>\n      <td>USD</td>\n      <td>NaN</td>\n      <td>5</td>\n      <td>13</td>\n    </tr>\n    <tr>\n      <th>2202</th>\n      <td>Sicilian Style Pizza Pie</td>\n      <td>2415 Mission St</td>\n      <td>Santa Cruz</td>\n      <td>US</td>\n      <td>95060</td>\n      <td>Paradise Park</td>\n      <td>Catering,Restaurants,Pizza Place Westside</td>\n      <td>Nutella Pizza</td>\n      <td>6.00</td>\n      <td>USD</td>\n      <td>NaN</td>\n      <td>5</td>\n      <td>13</td>\n    </tr>\n    <tr>\n      <th>2203</th>\n      <td>Sicilian Style Pizza Pie</td>\n      <td>2415 Mission St</td>\n      <td>Santa Cruz</td>\n      <td>US</td>\n      <td>95060</td>\n      <td>Paradise Park</td>\n      <td>Catering,Restaurants,Pizza Place Westside</td>\n      <td>Pizza</td>\n      <td>5.00</td>\n      <td>USD</td>\n      <td>One slice of thick crust square pizza, your choice of cheese, pepperoni or mushroom and a soft drink or milk</td>\n      <td>5</td>\n      <td>13</td>\n    </tr>\n    <tr>\n      <th>2204</th>\n      <td>Sicilian Style Pizza Pie</td>\n      <td>2415 Mission St</td>\n      <td>Santa Cruz</td>\n      <td>US</td>\n      <td>95060</td>\n      <td>Paradise Park</td>\n      <td>Catering,Restaurants,Pizza Place Westside</td>\n      <td>Pizza Biancha (no Sauce)</td>\n      <td>10.00</td>\n      <td>USD</td>\n      <td>Blended cheese, artichoke hearts and garlic</td>\n      <td>5</td>\n      <td>13</td>\n    </tr>\n    <tr>\n      <th>2205</th>\n      <td>Sicilian Style Pizza Pie</td>\n      <td>2415 Mission St</td>\n      <td>Santa Cruz</td>\n      <td>US</td>\n      <td>95060</td>\n      <td>Paradise Park</td>\n      <td>Catering,Restaurants,Pizza Place Westside</td>\n      <td>Ranch Bbq Chicken Pizza</td>\n      <td>11.00</td>\n      <td>USD</td>\n      <td>NaN</td>\n      <td>5</td>\n      <td>13</td>\n    </tr>\n    <tr>\n      <th>2206</th>\n      <td>Sicilian Style Pizza Pie</td>\n      <td>2415 Mission St</td>\n      <td>Santa Cruz</td>\n      <td>US</td>\n      <td>95060</td>\n      <td>Paradise Park</td>\n      <td>Catering,Restaurants,Pizza Place Westside</td>\n      <td>Sicilian Square Party Tray Pizza</td>\n      <td>47.50</td>\n      <td>USD</td>\n      <td>Cut to 24 slices, many topping choices</td>\n      <td>5</td>\n      <td>13</td>\n    </tr>\n    <tr>\n      <th>2357</th>\n      <td>Vincenzo's Pizzeria</td>\n      <td>109 Main St</td>\n      <td>Port Jefferson</td>\n      <td>US</td>\n      <td>11777</td>\n      <td>Prt Jefferson</td>\n      <td>American Restaurant,Pub,Bar,Pizza Place</td>\n      <td>Bacon Cheeseburger Pizza</td>\n      <td>18.25</td>\n      <td>USD</td>\n      <td>NaN</td>\n      <td>5</td>\n      <td>13</td>\n    </tr>\n    <tr>\n      <th>2358</th>\n      <td>Vincenzo's Pizzeria</td>\n      <td>109 Main St</td>\n      <td>Port Jefferson</td>\n      <td>US</td>\n      <td>11777</td>\n      <td>Prt Jefferson</td>\n      <td>American Restaurant,Pub,Bar,Pizza Place</td>\n      <td>Baked Ziti Pizza</td>\n      <td>17.95</td>\n      <td>USD</td>\n      <td>NaN</td>\n      <td>5</td>\n      <td>13</td>\n    </tr>\n    <tr>\n      <th>2359</th>\n      <td>Vincenzo's Pizzeria</td>\n      <td>109 Main St</td>\n      <td>Port Jefferson</td>\n      <td>US</td>\n      <td>11777</td>\n      <td>Prt Jefferson</td>\n      <td>American Restaurant,Pub,Bar,Pizza Place</td>\n      <td>Greek Pizza</td>\n      <td>19.95</td>\n      <td>USD</td>\n      <td>NaN</td>\n      <td>5</td>\n      <td>13</td>\n    </tr>\n    <tr>\n      <th>2360</th>\n      <td>Vincenzo's Pizzeria</td>\n      <td>109 Main St</td>\n      <td>Port Jefferson</td>\n      <td>US</td>\n      <td>11777</td>\n      <td>Prt Jefferson</td>\n      <td>American Restaurant,Pub,Bar,Pizza Place</td>\n      <td>Hawaiian Pizza</td>\n      <td>17.95</td>\n      <td>USD</td>\n      <td>NaN</td>\n      <td>5</td>\n      <td>13</td>\n    </tr>\n    <tr>\n      <th>2361</th>\n      <td>Vincenzo's Pizzeria</td>\n      <td>109 Main St</td>\n      <td>Port Jefferson</td>\n      <td>US</td>\n      <td>11777</td>\n      <td>Prt Jefferson</td>\n      <td>American Restaurant,Pub,Bar,Pizza Place</td>\n      <td>Nutella Pizza (sweet Pie)</td>\n      <td>10.00</td>\n      <td>USD</td>\n      <td>NaN</td>\n      <td>5</td>\n      <td>13</td>\n    </tr>\n    <tr>\n      <th>2362</th>\n      <td>Vincenzo's Pizzeria</td>\n      <td>109 Main St</td>\n      <td>Port Jefferson</td>\n      <td>US</td>\n      <td>11777</td>\n      <td>Prt Jefferson</td>\n      <td>American Restaurant,Pub,Bar,Pizza Place</td>\n      <td>Penne Ala Vodka Pizza</td>\n      <td>17.95</td>\n      <td>USD</td>\n      <td>NaN</td>\n      <td>5</td>\n      <td>13</td>\n    </tr>\n    <tr>\n      <th>2363</th>\n      <td>Vincenzo's Pizzeria</td>\n      <td>109 Main St</td>\n      <td>Port Jefferson</td>\n      <td>US</td>\n      <td>11777</td>\n      <td>Prt Jefferson</td>\n      <td>American Restaurant,Pub,Bar,Pizza Place</td>\n      <td>Shrimp Parmigiana Pizza</td>\n      <td>22.95</td>\n      <td>USD</td>\n      <td>NaN</td>\n      <td>5</td>\n      <td>13</td>\n    </tr>\n    <tr>\n      <th>2364</th>\n      <td>Vincenzo's Pizzeria</td>\n      <td>109 Main St</td>\n      <td>Port Jefferson</td>\n      <td>US</td>\n      <td>11777</td>\n      <td>Prt Jefferson</td>\n      <td>American Restaurant,Pub,Bar,Pizza Place</td>\n      <td>Sicilian Square Pizza</td>\n      <td>14.95</td>\n      <td>USD</td>\n      <td>NaN</td>\n      <td>5</td>\n      <td>13</td>\n    </tr>\n    <tr>\n      <th>2365</th>\n      <td>Vincenzo's Pizzeria</td>\n      <td>109 Main St</td>\n      <td>Port Jefferson</td>\n      <td>US</td>\n      <td>11777</td>\n      <td>Prt Jefferson</td>\n      <td>American Restaurant,Pub,Bar,Pizza Place</td>\n      <td>Steak and Cheese Pizza</td>\n      <td>19.95</td>\n      <td>USD</td>\n      <td>NaN</td>\n      <td>5</td>\n      <td>13</td>\n    </tr>\n    <tr>\n      <th>2366</th>\n      <td>Vincenzo's Pizzeria</td>\n      <td>109 Main St</td>\n      <td>Port Jefferson</td>\n      <td>US</td>\n      <td>11777</td>\n      <td>Prt Jefferson</td>\n      <td>American Restaurant,Pub,Bar,Pizza Place</td>\n      <td>Stuffed Meat Pizza</td>\n      <td>22.95</td>\n      <td>USD</td>\n      <td>NaN</td>\n      <td>5</td>\n      <td>13</td>\n    </tr>\n    <tr>\n      <th>2367</th>\n      <td>Vincenzo's Pizzeria</td>\n      <td>109 Main St</td>\n      <td>Port Jefferson</td>\n      <td>US</td>\n      <td>11777</td>\n      <td>Prt Jefferson</td>\n      <td>American Restaurant,Pub,Bar,Pizza Place</td>\n      <td>Stuffed Veggie Pizza</td>\n      <td>18.95</td>\n      <td>USD</td>\n      <td>NaN</td>\n      <td>5</td>\n      <td>13</td>\n    </tr>\n    <tr>\n      <th>2368</th>\n      <td>Vincenzo's Pizzeria</td>\n      <td>109 Main St</td>\n      <td>Port Jefferson</td>\n      <td>US</td>\n      <td>11777</td>\n      <td>Prt Jefferson</td>\n      <td>American Restaurant,Pub,Bar,Pizza Place</td>\n      <td>Taco Pizza</td>\n      <td>19.00</td>\n      <td>USD</td>\n      <td>NaN</td>\n      <td>5</td>\n      <td>13</td>\n    </tr>\n    <tr>\n      <th>2369</th>\n      <td>Vincenzo's Pizzeria</td>\n      <td>109 Main St</td>\n      <td>Port Jefferson</td>\n      <td>US</td>\n      <td>11777</td>\n      <td>Prt Jefferson</td>\n      <td>American Restaurant,Pub,Bar,Pizza Place</td>\n      <td>Vegetable Pizza</td>\n      <td>16.95</td>\n      <td>USD</td>\n      <td>NaN</td>\n      <td>5</td>\n      <td>13</td>\n    </tr>\n    <tr>\n      <th>2431</th>\n      <td>Cooper's Hawk Winery &amp; Restaurant</td>\n      <td>100 W Higgins Rd</td>\n      <td>Barrington</td>\n      <td>US</td>\n      <td>60010</td>\n      <td>Fox Rv Vly Gn</td>\n      <td>Winery, Steakhouse, and Wine Bar</td>\n      <td>Flatbread Cheese Pizza</td>\n      <td>6.99</td>\n      <td>USD</td>\n      <td>NaN</td>\n      <td>5</td>\n      <td>13</td>\n    </tr>\n    <tr>\n      <th>2433</th>\n      <td>Toss Up Salads</td>\n      <td>8616 Griffin Rd</td>\n      <td>Fort Lauderdale</td>\n      <td>US</td>\n      <td>33328</td>\n      <td>Ft Lauderdale</td>\n      <td>Vegetarian / Vegan Restaurant,Salad Place,wich Place</td>\n      <td>Cheese Pizza</td>\n      <td>4.99</td>\n      <td>USD</td>\n      <td>NaN</td>\n      <td>5</td>\n      <td>13</td>\n    </tr>\n    <tr>\n      <th>2434</th>\n      <td>Toss Up Salads</td>\n      <td>8616 Griffin Rd</td>\n      <td>Fort Lauderdale</td>\n      <td>US</td>\n      <td>33328</td>\n      <td>Ft Lauderdale</td>\n      <td>Vegetarian / Vegan Restaurant,Salad Place,wich Place</td>\n      <td>Toss Up Pizza</td>\n      <td>5.99</td>\n      <td>USD</td>\n      <td>NaN</td>\n      <td>5</td>\n      <td>13</td>\n    </tr>\n    <tr>\n      <th>2449</th>\n      <td>Bagel Street Cafe</td>\n      <td>208 Northgate One</td>\n      <td>San Rafael</td>\n      <td>US</td>\n      <td>94903</td>\n      <td>Santa Venetia</td>\n      <td>Bagel Shop</td>\n      <td>Veggie Pizza</td>\n      <td>4.00</td>\n      <td>USD</td>\n      <td>Tomato, onion, bell pepper, mushroom</td>\n      <td>5</td>\n      <td>13</td>\n    </tr>\n    <tr>\n      <th>2450</th>\n      <td>Bagel Street Cafe</td>\n      <td>208 Northgate One</td>\n      <td>San Rafael</td>\n      <td>US</td>\n      <td>94903</td>\n      <td>Santa Venetia</td>\n      <td>Bagel Shop</td>\n      <td>White Pizza Bagel</td>\n      <td>4.00</td>\n      <td>USD</td>\n      <td>NaN</td>\n      <td>5</td>\n      <td>13</td>\n    </tr>\n    <tr>\n      <th>2513</th>\n      <td>Tokai Sushi</td>\n      <td>1301 E Miller Ave</td>\n      <td>Salt Lake City</td>\n      <td>US</td>\n      <td>84106</td>\n      <td>Salt Lake Cty</td>\n      <td>Sushi Restaurant Sugar House,Sushi Restaurant,auto service &amp; repair</td>\n      <td>Spicy Pizza</td>\n      <td>10.95</td>\n      <td>USD</td>\n      <td>Cucumber, crab and avocado roll with spicy tuna on top baked topped with masago, green onion and eel sauce</td>\n      <td>5</td>\n      <td>13</td>\n    </tr>\n    <tr>\n      <th>2613</th>\n      <td>Blondie's Firehouse Pub</td>\n      <td>3435 S Inca St</td>\n      <td>Englewood</td>\n      <td>US</td>\n      <td>80110</td>\n      <td>Cherry Hl Vlg</td>\n      <td>Bar</td>\n      <td>Our Terrific Cheese Pizza</td>\n      <td>NaN</td>\n      <td>NaN</td>\n      <td>NaN</td>\n      <td>5</td>\n      <td>13</td>\n    </tr>\n    <tr>\n      <th>2614</th>\n      <td>Blondie's Firehouse Pub</td>\n      <td>3435 S Inca St</td>\n      <td>Englewood</td>\n      <td>US</td>\n      <td>80110</td>\n      <td>Cherry Hl Vlg</td>\n      <td>Bar</td>\n      <td>Personal Cheese Pizza</td>\n      <td>8.99</td>\n      <td>USD</td>\n      <td>Fresh tomato sauce, melted cheese backed to perfection.</td>\n      <td>5</td>\n      <td>13</td>\n    </tr>\n    <tr>\n      <th>2615</th>\n      <td>Blondie's Firehouse Pub</td>\n      <td>3435 S Inca St</td>\n      <td>Englewood</td>\n      <td>US</td>\n      <td>80110</td>\n      <td>Cherry Hl Vlg</td>\n      <td>Bar</td>\n      <td>Personal Pepperoni Pizza</td>\n      <td>8.99</td>\n      <td>USD</td>\n      <td>Fresh tomato sauce, pepperoni and melted cheese baked to perfection</td>\n      <td>5</td>\n      <td>13</td>\n    </tr>\n    <tr>\n      <th>2627</th>\n      <td>Papa John's Pizza</td>\n      <td>610 Wesley Dr</td>\n      <td>Charleston</td>\n      <td>US</td>\n      <td>29407</td>\n      <td>Saint Andrews</td>\n      <td>Pizza,Take Out Restaurants,Restaurants</td>\n      <td>Add To Large Pizzas</td>\n      <td>20.99</td>\n      <td>USD</td>\n      <td>NaN</td>\n      <td>5</td>\n      <td>13</td>\n    </tr>\n    <tr>\n      <th>2628</th>\n      <td>Papa John's Pizza</td>\n      <td>610 Wesley Dr</td>\n      <td>Charleston</td>\n      <td>US</td>\n      <td>29407</td>\n      <td>Saint Andrews</td>\n      <td>Pizza,Take Out Restaurants,Restaurants</td>\n      <td>Any Large Pizza</td>\n      <td>12.00</td>\n      <td>USD</td>\n      <td>With up to 5 toppings, including specialties</td>\n      <td>5</td>\n      <td>13</td>\n    </tr>\n    <tr>\n      <th>2629</th>\n      <td>Papa John's Pizza</td>\n      <td>610 Wesley Dr</td>\n      <td>Charleston</td>\n      <td>US</td>\n      <td>29407</td>\n      <td>Saint Andrews</td>\n      <td>Pizza,Take Out Restaurants,Restaurants</td>\n      <td>Medium Pizza Offers</td>\n      <td>21.00</td>\n      <td>USD</td>\n      <td>Three medium three topping pizzas</td>\n      <td>5</td>\n      <td>13</td>\n    </tr>\n    <tr>\n      <th>3142</th>\n      <td>John Harvard's Brewery and Ale House</td>\n      <td>1 Worcester Rd</td>\n      <td>Framingham</td>\n      <td>US</td>\n      <td>1701</td>\n      <td>Framingham So</td>\n      <td>Restaurant</td>\n      <td>Smokehouse Pizza</td>\n      <td>12.49</td>\n      <td>USD</td>\n      <td>Smoked pulled pork, crispy bacon, barbecue sauce, caramelized onions, smoked gouda</td>\n      <td>4</td>\n      <td>13</td>\n    </tr>\n    <tr>\n      <th>3143</th>\n      <td>John Harvard's Brewery and Ale House</td>\n      <td>1 Worcester Rd</td>\n      <td>Framingham</td>\n      <td>US</td>\n      <td>1701</td>\n      <td>Framingham So</td>\n      <td>Restaurant</td>\n      <td>Vegetarian Pizza</td>\n      <td>11.99</td>\n      <td>USD</td>\n      <td>NaN</td>\n      <td>4</td>\n      <td>13</td>\n    </tr>\n    <tr>\n      <th>3145</th>\n      <td>Sea Salt</td>\n      <td>1709 E 1300 S</td>\n      <td>Salt Lake City</td>\n      <td>US</td>\n      <td>84108</td>\n      <td>Salt Lake Cty</td>\n      <td>Restaurant,Italian Restaurant</td>\n      <td>Pizza Alpina</td>\n      <td>19.95</td>\n      <td>USD</td>\n      <td>Fresh Mozzarella, Lou Bergier Pichin, Wild Onion, Crimini Mushroom, Arugula, Speck</td>\n      <td>5</td>\n      <td>13</td>\n    </tr>\n    <tr>\n      <th>3146</th>\n      <td>Sea Salt</td>\n      <td>1709 E 1300 S</td>\n      <td>Salt Lake City</td>\n      <td>US</td>\n      <td>84108</td>\n      <td>Salt Lake Cty</td>\n      <td>Restaurant,Italian Restaurant</td>\n      <td>Pizza Caprese</td>\n      <td>18.95</td>\n      <td>USD</td>\n      <td>Fresh Basil, Burrata, Campari Tomato, Prosciutto di Parma</td>\n      <td>5</td>\n      <td>13</td>\n    </tr>\n    <tr>\n      <th>3147</th>\n      <td>Sea Salt</td>\n      <td>1709 E 1300 S</td>\n      <td>Salt Lake City</td>\n      <td>US</td>\n      <td>84108</td>\n      <td>Salt Lake Cty</td>\n      <td>Restaurant,Italian Restaurant</td>\n      <td>Pizza Di Estate Dal Forno A Legna</td>\n      <td>16.95</td>\n      <td>USD</td>\n      <td>NaN</td>\n      <td>5</td>\n      <td>13</td>\n    </tr>\n    <tr>\n      <th>3148</th>\n      <td>Sea Salt</td>\n      <td>1709 E 1300 S</td>\n      <td>Salt Lake City</td>\n      <td>US</td>\n      <td>84108</td>\n      <td>Salt Lake Cty</td>\n      <td>Restaurant,Italian Restaurant</td>\n      <td>Pizza Gorgonzola</td>\n      <td>16.95</td>\n      <td>USD</td>\n      <td>Leek, Apple, Thyme, Gorgonzola and Grana Padano</td>\n      <td>5</td>\n      <td>13</td>\n    </tr>\n    <tr>\n      <th>3149</th>\n      <td>Sea Salt</td>\n      <td>1709 E 1300 S</td>\n      <td>Salt Lake City</td>\n      <td>US</td>\n      <td>84108</td>\n      <td>Salt Lake Cty</td>\n      <td>Restaurant,Italian Restaurant</td>\n      <td>Pizza Zucca</td>\n      <td>15.95</td>\n      <td>USD</td>\n      <td>Grilled Cinderella Pumpkin, Garlic, Hazelnuts, Sage, Caciocavallo and Alta Badia Cheese</td>\n      <td>5</td>\n      <td>13</td>\n    </tr>\n    <tr>\n      <th>3204</th>\n      <td>Angry Ham's Octane Bar &amp; Grill</td>\n      <td>2 Beacon St</td>\n      <td>Framingham</td>\n      <td>US</td>\n      <td>1701</td>\n      <td>Framingham So</td>\n      <td>American Restaurant,Bar</td>\n      <td>Creat Your Own Pizza</td>\n      <td>16.00</td>\n      <td>USD</td>\n      <td>NaN</td>\n      <td>4</td>\n      <td>13</td>\n    </tr>\n    <tr>\n      <th>3273</th>\n      <td>Cugino's Pizza</td>\n      <td>2151 Lemoine Ave</td>\n      <td>Fort Lee</td>\n      <td>US</td>\n      <td>7024</td>\n      <td>West Fort Lee</td>\n      <td>Pizza Place</td>\n      <td>White Pizza</td>\n      <td>14.95</td>\n      <td>USD</td>\n      <td>NaN</td>\n      <td>4</td>\n      <td>13</td>\n    </tr>\n    <tr>\n      <th>3332</th>\n      <td>Primanti Bros</td>\n      <td>516 E Oakland Park Blvd</td>\n      <td>Fort Lauderdale</td>\n      <td>US</td>\n      <td>33334</td>\n      <td>Wilton Manors</td>\n      <td>Italian Restaurants,Bars,Pizza,Taverns,Restaurants</td>\n      <td>Family Pizza Nights</td>\n      <td>1.50</td>\n      <td>USD</td>\n      <td>NaN</td>\n      <td>5</td>\n      <td>13</td>\n    </tr>\n    <tr>\n      <th>3385</th>\n      <td>Brio Tuscan Grille - Murray</td>\n      <td>6173 S State St</td>\n      <td>Salt Lake City</td>\n      <td>US</td>\n      <td>84107</td>\n      <td>Salt Lake Cty</td>\n      <td>Restaurant</td>\n      <td>Sausage Onion Jam Pizza</td>\n      <td>8.95</td>\n      <td>USD</td>\n      <td>Boursin, mozzarella, arugula, parmesan</td>\n      <td>5</td>\n      <td>13</td>\n    </tr>\n    <tr>\n      <th>3475</th>\n      <td>Russo's Coal-fired Italian Kitchen</td>\n      <td>14910 Pines Blvd</td>\n      <td>Hollywood</td>\n      <td>US</td>\n      <td>33027</td>\n      <td>Pembroke Pnes</td>\n      <td>Italian Restaurant and Pizza Place</td>\n      <td>The New Yorker Party Pizza</td>\n      <td>69.95</td>\n      <td>USD</td>\n      <td>NaN</td>\n      <td>5</td>\n      <td>13</td>\n    </tr>\n  </tbody>\n</table>\n</div>"
     },
     "metadata": {},
     "execution_count": 15
    }
   ],
   "source": [
    "# Check what these long values are\n",
    "df_copy.loc[df_copy[\"state_len\"] == 13]"
   ]
  },
  {
   "cell_type": "code",
   "execution_count": 16,
   "metadata": {},
   "outputs": [
    {
     "output_type": "execute_result",
     "data": {
      "text/plain": [
       "USD    2951\n",
       "Name: currency, dtype: int64"
      ]
     },
     "metadata": {},
     "execution_count": 16
    }
   ],
   "source": [
    "# Check the currency\n",
    "df_copy[\"currency\"].value_counts()"
   ]
  },
  {
   "cell_type": "code",
   "execution_count": 17,
   "metadata": {},
   "outputs": [
    {
     "output_type": "execute_result",
     "data": {
      "text/plain": [
       "True    3510\n",
       "Name: menu item, dtype: int64"
      ]
     },
     "metadata": {},
     "execution_count": 17
    }
   ],
   "source": [
    "# Double check if all menu items are something to do with pizza\n",
    "df_copy[\"menu item\"].str.lower().str.contains(\"pizza\").value_counts()"
   ]
  },
  {
   "cell_type": "code",
   "execution_count": 18,
   "metadata": {},
   "outputs": [
    {
     "output_type": "execute_result",
     "data": {
      "text/plain": [
       "Cheese Pizza             136\n",
       "White Pizza               75\n",
       "Margherita Pizza          63\n",
       "Pizza                     62\n",
       "Hawaiian Pizza            54\n",
       "Pizza Burger              50\n",
       "Bbq Chicken Pizza         47\n",
       "Pepperoni Pizza           44\n",
       "Buffalo Chicken Pizza     44\n",
       "Veggie Pizza              34\n",
       "Name: menu item, dtype: int64"
      ]
     },
     "metadata": {},
     "execution_count": 18
    }
   ],
   "source": [
    "df_copy[\"menu item\"].value_counts().nlargest(10)"
   ]
  },
  {
   "cell_type": "code",
   "execution_count": 19,
   "metadata": {},
   "outputs": [
    {
     "output_type": "execute_result",
     "data": {
      "text/plain": [
       "True     2431\n",
       "False    1079\n",
       "Name: menu item, dtype: int64"
      ]
     },
     "metadata": {},
     "execution_count": 19
    }
   ],
   "source": [
    "# Check how many of these menu items are pizzas - we assume that a pizza will be described in the format of <name> pizza\n",
    "df_copy[\"menu item\"].str.lower().str.endswith(\"pizza\").value_counts()"
   ]
  },
  {
   "cell_type": "code",
   "execution_count": 20,
   "metadata": {},
   "outputs": [
    {
     "output_type": "execute_result",
     "data": {
      "text/plain": [
       "Cheese Pizza               136\n",
       "White Pizza                 75\n",
       "Margherita Pizza            63\n",
       "Pizza                       62\n",
       "Hawaiian Pizza              54\n",
       "Bbq Chicken Pizza           47\n",
       "Buffalo Chicken Pizza       44\n",
       "Pepperoni Pizza             44\n",
       "Taco Pizza                  34\n",
       "Veggie Pizza                34\n",
       "Greek Pizza                 30\n",
       "Mexican Pizza               29\n",
       "Sicilian Pizza              24\n",
       "Vegetarian Pizza            21\n",
       "Create Your Own Pizza       20\n",
       "Build Your Own Pizza        18\n",
       "Breakfast Pizza             17\n",
       "Margarita Pizza             16\n",
       "Meat Lovers Pizza           14\n",
       "Specialty Pizza             13\n",
       "Chicago Deep Dish Pizza     11\n",
       "Any Large Pizza             10\n",
       "Pita Pizza                  10\n",
       "Sausage Onion Jam Pizza     10\n",
       "Seafood Pizza                9\n",
       "Mediterranean Pizza          9\n",
       "Supreme Pizza                8\n",
       "Tuna Pizza                   8\n",
       "Sushi Pizza                  8\n",
       "Kids Pizza                   8\n",
       "Name: menu item, dtype: int64"
      ]
     },
     "metadata": {},
     "execution_count": 20
    }
   ],
   "source": [
    "# Based on our above assumption, check what sort of common typed pizza distribution we have\n",
    "df_copy[\"menu item\"][df_copy[\"menu item\"].str.lower().str.endswith(\"pizza\")].value_counts().nlargest(30)"
   ]
  },
  {
   "cell_type": "code",
   "execution_count": 21,
   "metadata": {},
   "outputs": [
    {
     "output_type": "execute_result",
     "data": {
      "text/plain": [
       "count    2948.000000\n",
       "mean       12.479186\n",
       "std        13.398923\n",
       "min         0.000000\n",
       "25%         7.500000\n",
       "50%        11.870000\n",
       "75%        15.950000\n",
       "max       312.950000\n",
       "Name: item value, dtype: float64"
      ]
     },
     "metadata": {},
     "execution_count": 21
    }
   ],
   "source": [
    "# Check range of values for item value/price\n",
    "df_copy[\"item value\"].describe()"
   ]
  },
  {
   "cell_type": "code",
   "execution_count": 22,
   "metadata": {},
   "outputs": [
    {
     "output_type": "stream",
     "name": "stderr",
     "text": [
      "/Users/fei/projects/inm713-coursework/venv/lib/python3.8/site-packages/seaborn/_decorators.py:36: FutureWarning: Pass the following variable as a keyword arg: x. From version 0.12, the only valid positional argument will be `data`, and passing other arguments without an explicit keyword will result in an error or misinterpretation.\n  warnings.warn(\n"
     ]
    },
    {
     "output_type": "display_data",
     "data": {
      "text/plain": "<Figure size 842.4x595.44 with 1 Axes>",
      "image/svg+xml": "<?xml version=\"1.0\" encoding=\"utf-8\" standalone=\"no\"?>\n<!DOCTYPE svg PUBLIC \"-//W3C//DTD SVG 1.1//EN\"\n  \"http://www.w3.org/Graphics/SVG/1.1/DTD/svg11.dtd\">\n<!-- Created with matplotlib (https://matplotlib.org/) -->\n<svg height=\"498.491419pt\" version=\"1.1\" viewBox=\"0 0 667.26 498.491419\" width=\"667.26pt\" xmlns=\"http://www.w3.org/2000/svg\" xmlns:xlink=\"http://www.w3.org/1999/xlink\">\n <metadata>\n  <rdf:RDF xmlns:cc=\"http://creativecommons.org/ns#\" xmlns:dc=\"http://purl.org/dc/elements/1.1/\" xmlns:rdf=\"http://www.w3.org/1999/02/22-rdf-syntax-ns#\">\n   <cc:Work>\n    <dc:type rdf:resource=\"http://purl.org/dc/dcmitype/StillImage\"/>\n    <dc:date>2021-04-21T21:32:30.165611</dc:date>\n    <dc:format>image/svg+xml</dc:format>\n    <dc:creator>\n     <cc:Agent>\n      <dc:title>Matplotlib v3.3.4, https://matplotlib.org/</dc:title>\n     </cc:Agent>\n    </dc:creator>\n   </cc:Work>\n  </rdf:RDF>\n </metadata>\n <defs>\n  <style type=\"text/css\">*{stroke-linecap:butt;stroke-linejoin:round;}</style>\n </defs>\n <g id=\"figure_1\">\n  <g id=\"patch_1\">\n   <path d=\"M -0 498.491419 \nL 667.26 498.491419 \nL 667.26 0 \nL -0 0 \nz\n\" style=\"fill:#ffffff;\"/>\n  </g>\n  <g id=\"axes_1\">\n   <g id=\"patch_2\">\n    <path d=\"M 7.2 456.7572 \nL 660.06 456.7572 \nL 660.06 7.2 \nL 7.2 7.2 \nz\n\" style=\"fill:#eaeaf2;\"/>\n   </g>\n   <g id=\"matplotlib.axis_1\">\n    <g id=\"xtick_1\">\n     <g id=\"line2d_1\">\n      <path clip-path=\"url(#pd2bebd292b)\" d=\"M 36.875455 456.7572 \nL 36.875455 7.2 \n\" style=\"fill:none;stroke:#ffffff;stroke-linecap:round;\"/>\n     </g>\n     <g id=\"text_1\">\n      <!-- 0 -->\n      <g style=\"fill:#262626;\" transform=\"translate(33.816939 474.130794)scale(0.11 -0.11)\">\n       <defs>\n        <path d=\"M 4.15625 35.296875 \nQ 4.15625 48 6.765625 55.734375 \nQ 9.375 63.484375 14.515625 67.671875 \nQ 19.671875 71.875 27.484375 71.875 \nQ 33.25 71.875 37.59375 69.546875 \nQ 41.9375 67.234375 44.765625 62.859375 \nQ 47.609375 58.5 49.21875 52.21875 \nQ 50.828125 45.953125 50.828125 35.296875 \nQ 50.828125 22.703125 48.234375 14.96875 \nQ 45.65625 7.234375 40.5 3 \nQ 35.359375 -1.21875 27.484375 -1.21875 \nQ 17.140625 -1.21875 11.234375 6.203125 \nQ 4.15625 15.140625 4.15625 35.296875 \nz\nM 13.1875 35.296875 \nQ 13.1875 17.671875 17.3125 11.828125 \nQ 21.4375 6 27.484375 6 \nQ 33.546875 6 37.671875 11.859375 \nQ 41.796875 17.71875 41.796875 35.296875 \nQ 41.796875 52.984375 37.671875 58.78125 \nQ 33.546875 64.59375 27.390625 64.59375 \nQ 21.34375 64.59375 17.71875 59.46875 \nQ 13.1875 52.9375 13.1875 35.296875 \nz\n\" id=\"ArialMT-48\"/>\n       </defs>\n       <use xlink:href=\"#ArialMT-48\"/>\n      </g>\n     </g>\n    </g>\n    <g id=\"xtick_2\">\n     <g id=\"line2d_2\">\n      <path clip-path=\"url(#pd2bebd292b)\" d=\"M 131.700361 456.7572 \nL 131.700361 7.2 \n\" style=\"fill:none;stroke:#ffffff;stroke-linecap:round;\"/>\n     </g>\n     <g id=\"text_2\">\n      <!-- 50 -->\n      <g style=\"fill:#262626;\" transform=\"translate(125.58333 474.130794)scale(0.11 -0.11)\">\n       <defs>\n        <path d=\"M 4.15625 18.75 \nL 13.375 19.53125 \nQ 14.40625 12.796875 18.140625 9.390625 \nQ 21.875 6 27.15625 6 \nQ 33.5 6 37.890625 10.78125 \nQ 42.28125 15.578125 42.28125 23.484375 \nQ 42.28125 31 38.0625 35.34375 \nQ 33.84375 39.703125 27 39.703125 \nQ 22.75 39.703125 19.328125 37.765625 \nQ 15.921875 35.84375 13.96875 32.765625 \nL 5.71875 33.84375 \nL 12.640625 70.609375 \nL 48.25 70.609375 \nL 48.25 62.203125 \nL 19.671875 62.203125 \nL 15.828125 42.96875 \nQ 22.265625 47.46875 29.34375 47.46875 \nQ 38.71875 47.46875 45.15625 40.96875 \nQ 51.609375 34.46875 51.609375 24.265625 \nQ 51.609375 14.546875 45.953125 7.46875 \nQ 39.0625 -1.21875 27.15625 -1.21875 \nQ 17.390625 -1.21875 11.203125 4.25 \nQ 5.03125 9.71875 4.15625 18.75 \nz\n\" id=\"ArialMT-53\"/>\n       </defs>\n       <use xlink:href=\"#ArialMT-53\"/>\n       <use x=\"55.615234\" xlink:href=\"#ArialMT-48\"/>\n      </g>\n     </g>\n    </g>\n    <g id=\"xtick_3\">\n     <g id=\"line2d_3\">\n      <path clip-path=\"url(#pd2bebd292b)\" d=\"M 226.525268 456.7572 \nL 226.525268 7.2 \n\" style=\"fill:none;stroke:#ffffff;stroke-linecap:round;\"/>\n     </g>\n     <g id=\"text_3\">\n      <!-- 100 -->\n      <g style=\"fill:#262626;\" transform=\"translate(217.349721 474.130794)scale(0.11 -0.11)\">\n       <defs>\n        <path d=\"M 37.25 0 \nL 28.46875 0 \nL 28.46875 56 \nQ 25.296875 52.984375 20.140625 49.953125 \nQ 14.984375 46.921875 10.890625 45.40625 \nL 10.890625 53.90625 \nQ 18.265625 57.375 23.78125 62.296875 \nQ 29.296875 67.234375 31.59375 71.875 \nL 37.25 71.875 \nz\n\" id=\"ArialMT-49\"/>\n       </defs>\n       <use xlink:href=\"#ArialMT-49\"/>\n       <use x=\"55.615234\" xlink:href=\"#ArialMT-48\"/>\n       <use x=\"111.230469\" xlink:href=\"#ArialMT-48\"/>\n      </g>\n     </g>\n    </g>\n    <g id=\"xtick_4\">\n     <g id=\"line2d_4\">\n      <path clip-path=\"url(#pd2bebd292b)\" d=\"M 321.350175 456.7572 \nL 321.350175 7.2 \n\" style=\"fill:none;stroke:#ffffff;stroke-linecap:round;\"/>\n     </g>\n     <g id=\"text_4\">\n      <!-- 150 -->\n      <g style=\"fill:#262626;\" transform=\"translate(312.174628 474.130794)scale(0.11 -0.11)\">\n       <use xlink:href=\"#ArialMT-49\"/>\n       <use x=\"55.615234\" xlink:href=\"#ArialMT-53\"/>\n       <use x=\"111.230469\" xlink:href=\"#ArialMT-48\"/>\n      </g>\n     </g>\n    </g>\n    <g id=\"xtick_5\">\n     <g id=\"line2d_5\">\n      <path clip-path=\"url(#pd2bebd292b)\" d=\"M 416.175081 456.7572 \nL 416.175081 7.2 \n\" style=\"fill:none;stroke:#ffffff;stroke-linecap:round;\"/>\n     </g>\n     <g id=\"text_5\">\n      <!-- 200 -->\n      <g style=\"fill:#262626;\" transform=\"translate(406.999534 474.130794)scale(0.11 -0.11)\">\n       <defs>\n        <path d=\"M 50.34375 8.453125 \nL 50.34375 0 \nL 3.03125 0 \nQ 2.9375 3.171875 4.046875 6.109375 \nQ 5.859375 10.9375 9.828125 15.625 \nQ 13.8125 20.3125 21.34375 26.46875 \nQ 33.015625 36.03125 37.109375 41.625 \nQ 41.21875 47.21875 41.21875 52.203125 \nQ 41.21875 57.421875 37.46875 61 \nQ 33.734375 64.59375 27.734375 64.59375 \nQ 21.390625 64.59375 17.578125 60.78125 \nQ 13.765625 56.984375 13.71875 50.25 \nL 4.6875 51.171875 \nQ 5.609375 61.28125 11.65625 66.578125 \nQ 17.71875 71.875 27.9375 71.875 \nQ 38.234375 71.875 44.234375 66.15625 \nQ 50.25 60.453125 50.25 52 \nQ 50.25 47.703125 48.484375 43.546875 \nQ 46.734375 39.40625 42.65625 34.8125 \nQ 38.578125 30.21875 29.109375 22.21875 \nQ 21.1875 15.578125 18.9375 13.203125 \nQ 16.703125 10.84375 15.234375 8.453125 \nz\n\" id=\"ArialMT-50\"/>\n       </defs>\n       <use xlink:href=\"#ArialMT-50\"/>\n       <use x=\"55.615234\" xlink:href=\"#ArialMT-48\"/>\n       <use x=\"111.230469\" xlink:href=\"#ArialMT-48\"/>\n      </g>\n     </g>\n    </g>\n    <g id=\"xtick_6\">\n     <g id=\"line2d_6\">\n      <path clip-path=\"url(#pd2bebd292b)\" d=\"M 510.999988 456.7572 \nL 510.999988 7.2 \n\" style=\"fill:none;stroke:#ffffff;stroke-linecap:round;\"/>\n     </g>\n     <g id=\"text_6\">\n      <!-- 250 -->\n      <g style=\"fill:#262626;\" transform=\"translate(501.824441 474.130794)scale(0.11 -0.11)\">\n       <use xlink:href=\"#ArialMT-50\"/>\n       <use x=\"55.615234\" xlink:href=\"#ArialMT-53\"/>\n       <use x=\"111.230469\" xlink:href=\"#ArialMT-48\"/>\n      </g>\n     </g>\n    </g>\n    <g id=\"xtick_7\">\n     <g id=\"line2d_7\">\n      <path clip-path=\"url(#pd2bebd292b)\" d=\"M 605.824895 456.7572 \nL 605.824895 7.2 \n\" style=\"fill:none;stroke:#ffffff;stroke-linecap:round;\"/>\n     </g>\n     <g id=\"text_7\">\n      <!-- 300 -->\n      <g style=\"fill:#262626;\" transform=\"translate(596.649348 474.130794)scale(0.11 -0.11)\">\n       <defs>\n        <path d=\"M 4.203125 18.890625 \nL 12.984375 20.0625 \nQ 14.5 12.59375 18.140625 9.296875 \nQ 21.78125 6 27 6 \nQ 33.203125 6 37.46875 10.296875 \nQ 41.75 14.59375 41.75 20.953125 \nQ 41.75 27 37.796875 30.921875 \nQ 33.84375 34.859375 27.734375 34.859375 \nQ 25.25 34.859375 21.53125 33.890625 \nL 22.515625 41.609375 \nQ 23.390625 41.5 23.921875 41.5 \nQ 29.546875 41.5 34.03125 44.421875 \nQ 38.53125 47.359375 38.53125 53.46875 \nQ 38.53125 58.296875 35.25 61.46875 \nQ 31.984375 64.65625 26.8125 64.65625 \nQ 21.6875 64.65625 18.265625 61.421875 \nQ 14.84375 58.203125 13.875 51.765625 \nL 5.078125 53.328125 \nQ 6.6875 62.15625 12.390625 67.015625 \nQ 18.109375 71.875 26.609375 71.875 \nQ 32.46875 71.875 37.390625 69.359375 \nQ 42.328125 66.84375 44.9375 62.5 \nQ 47.5625 58.15625 47.5625 53.265625 \nQ 47.5625 48.640625 45.0625 44.828125 \nQ 42.578125 41.015625 37.703125 38.765625 \nQ 44.046875 37.3125 47.5625 32.6875 \nQ 51.078125 28.078125 51.078125 21.140625 \nQ 51.078125 11.765625 44.234375 5.25 \nQ 37.40625 -1.265625 26.953125 -1.265625 \nQ 17.53125 -1.265625 11.296875 4.34375 \nQ 5.078125 9.96875 4.203125 18.890625 \nz\n\" id=\"ArialMT-51\"/>\n       </defs>\n       <use xlink:href=\"#ArialMT-51\"/>\n       <use x=\"55.615234\" xlink:href=\"#ArialMT-48\"/>\n       <use x=\"111.230469\" xlink:href=\"#ArialMT-48\"/>\n      </g>\n     </g>\n    </g>\n    <g id=\"text_8\">\n     <!-- item value -->\n     <g style=\"fill:#262626;\" transform=\"translate(306.285937 488.906419)scale(0.12 -0.12)\">\n      <defs>\n       <path d=\"M 6.640625 61.46875 \nL 6.640625 71.578125 \nL 15.4375 71.578125 \nL 15.4375 61.46875 \nz\nM 6.640625 0 \nL 6.640625 51.859375 \nL 15.4375 51.859375 \nL 15.4375 0 \nz\n\" id=\"ArialMT-105\"/>\n       <path d=\"M 25.78125 7.859375 \nL 27.046875 0.09375 \nQ 23.34375 -0.6875 20.40625 -0.6875 \nQ 15.625 -0.6875 12.984375 0.828125 \nQ 10.359375 2.34375 9.28125 4.8125 \nQ 8.203125 7.28125 8.203125 15.1875 \nL 8.203125 45.015625 \nL 1.765625 45.015625 \nL 1.765625 51.859375 \nL 8.203125 51.859375 \nL 8.203125 64.703125 \nL 16.9375 69.96875 \nL 16.9375 51.859375 \nL 25.78125 51.859375 \nL 25.78125 45.015625 \nL 16.9375 45.015625 \nL 16.9375 14.703125 \nQ 16.9375 10.9375 17.40625 9.859375 \nQ 17.875 8.796875 18.921875 8.15625 \nQ 19.96875 7.515625 21.921875 7.515625 \nQ 23.390625 7.515625 25.78125 7.859375 \nz\n\" id=\"ArialMT-116\"/>\n       <path d=\"M 42.09375 16.703125 \nL 51.171875 15.578125 \nQ 49.03125 7.625 43.21875 3.21875 \nQ 37.40625 -1.171875 28.375 -1.171875 \nQ 17 -1.171875 10.328125 5.828125 \nQ 3.65625 12.84375 3.65625 25.484375 \nQ 3.65625 38.578125 10.390625 45.796875 \nQ 17.140625 53.03125 27.875 53.03125 \nQ 38.28125 53.03125 44.875 45.953125 \nQ 51.46875 38.875 51.46875 26.03125 \nQ 51.46875 25.25 51.421875 23.6875 \nL 12.75 23.6875 \nQ 13.234375 15.140625 17.578125 10.59375 \nQ 21.921875 6.0625 28.421875 6.0625 \nQ 33.25 6.0625 36.671875 8.59375 \nQ 40.09375 11.140625 42.09375 16.703125 \nz\nM 13.234375 30.90625 \nL 42.1875 30.90625 \nQ 41.609375 37.453125 38.875 40.71875 \nQ 34.671875 45.796875 27.984375 45.796875 \nQ 21.921875 45.796875 17.796875 41.75 \nQ 13.671875 37.703125 13.234375 30.90625 \nz\n\" id=\"ArialMT-101\"/>\n       <path d=\"M 6.59375 0 \nL 6.59375 51.859375 \nL 14.453125 51.859375 \nL 14.453125 44.578125 \nQ 16.890625 48.390625 20.9375 50.703125 \nQ 25 53.03125 30.171875 53.03125 \nQ 35.9375 53.03125 39.625 50.640625 \nQ 43.3125 48.25 44.828125 43.953125 \nQ 50.984375 53.03125 60.84375 53.03125 \nQ 68.5625 53.03125 72.703125 48.75 \nQ 76.859375 44.484375 76.859375 35.59375 \nL 76.859375 0 \nL 68.109375 0 \nL 68.109375 32.671875 \nQ 68.109375 37.9375 67.25 40.25 \nQ 66.40625 42.578125 64.15625 43.984375 \nQ 61.921875 45.40625 58.890625 45.40625 \nQ 53.421875 45.40625 49.796875 41.765625 \nQ 46.1875 38.140625 46.1875 30.125 \nL 46.1875 0 \nL 37.40625 0 \nL 37.40625 33.6875 \nQ 37.40625 39.546875 35.25 42.46875 \nQ 33.109375 45.40625 28.21875 45.40625 \nQ 24.515625 45.40625 21.359375 43.453125 \nQ 18.21875 41.5 16.796875 37.734375 \nQ 15.375 33.984375 15.375 26.90625 \nL 15.375 0 \nz\n\" id=\"ArialMT-109\"/>\n       <path id=\"ArialMT-32\"/>\n       <path d=\"M 21 0 \nL 1.265625 51.859375 \nL 10.546875 51.859375 \nL 21.6875 20.796875 \nQ 23.484375 15.765625 25 10.359375 \nQ 26.171875 14.453125 28.265625 20.21875 \nL 39.796875 51.859375 \nL 48.828125 51.859375 \nL 29.203125 0 \nz\n\" id=\"ArialMT-118\"/>\n       <path d=\"M 40.4375 6.390625 \nQ 35.546875 2.25 31.03125 0.53125 \nQ 26.515625 -1.171875 21.34375 -1.171875 \nQ 12.796875 -1.171875 8.203125 3 \nQ 3.609375 7.171875 3.609375 13.671875 \nQ 3.609375 17.484375 5.34375 20.625 \nQ 7.078125 23.78125 9.890625 25.6875 \nQ 12.703125 27.59375 16.21875 28.5625 \nQ 18.796875 29.25 24.03125 29.890625 \nQ 34.671875 31.15625 39.703125 32.90625 \nQ 39.75 34.71875 39.75 35.203125 \nQ 39.75 40.578125 37.25 42.78125 \nQ 33.890625 45.75 27.25 45.75 \nQ 21.046875 45.75 18.09375 43.578125 \nQ 15.140625 41.40625 13.71875 35.890625 \nL 5.125 37.0625 \nQ 6.296875 42.578125 8.984375 45.96875 \nQ 11.671875 49.359375 16.75 51.1875 \nQ 21.828125 53.03125 28.515625 53.03125 \nQ 35.15625 53.03125 39.296875 51.46875 \nQ 43.453125 49.90625 45.40625 47.53125 \nQ 47.359375 45.171875 48.140625 41.546875 \nQ 48.578125 39.3125 48.578125 33.453125 \nL 48.578125 21.734375 \nQ 48.578125 9.46875 49.140625 6.21875 \nQ 49.703125 2.984375 51.375 0 \nL 42.1875 0 \nQ 40.828125 2.734375 40.4375 6.390625 \nz\nM 39.703125 26.03125 \nQ 34.90625 24.078125 25.34375 22.703125 \nQ 19.921875 21.921875 17.671875 20.9375 \nQ 15.4375 19.96875 14.203125 18.09375 \nQ 12.984375 16.21875 12.984375 13.921875 \nQ 12.984375 10.40625 15.640625 8.0625 \nQ 18.3125 5.71875 23.4375 5.71875 \nQ 28.515625 5.71875 32.46875 7.9375 \nQ 36.421875 10.15625 38.28125 14.015625 \nQ 39.703125 17 39.703125 22.796875 \nz\n\" id=\"ArialMT-97\"/>\n       <path d=\"M 6.390625 0 \nL 6.390625 71.578125 \nL 15.1875 71.578125 \nL 15.1875 0 \nz\n\" id=\"ArialMT-108\"/>\n       <path d=\"M 40.578125 0 \nL 40.578125 7.625 \nQ 34.515625 -1.171875 24.125 -1.171875 \nQ 19.53125 -1.171875 15.546875 0.578125 \nQ 11.578125 2.34375 9.640625 5 \nQ 7.71875 7.671875 6.9375 11.53125 \nQ 6.390625 14.109375 6.390625 19.734375 \nL 6.390625 51.859375 \nL 15.1875 51.859375 \nL 15.1875 23.09375 \nQ 15.1875 16.21875 15.71875 13.8125 \nQ 16.546875 10.359375 19.234375 8.375 \nQ 21.921875 6.390625 25.875 6.390625 \nQ 29.828125 6.390625 33.296875 8.421875 \nQ 36.765625 10.453125 38.203125 13.9375 \nQ 39.65625 17.4375 39.65625 24.078125 \nL 39.65625 51.859375 \nL 48.4375 51.859375 \nL 48.4375 0 \nz\n\" id=\"ArialMT-117\"/>\n      </defs>\n      <use xlink:href=\"#ArialMT-105\"/>\n      <use x=\"22.216797\" xlink:href=\"#ArialMT-116\"/>\n      <use x=\"50\" xlink:href=\"#ArialMT-101\"/>\n      <use x=\"105.615234\" xlink:href=\"#ArialMT-109\"/>\n      <use x=\"188.916016\" xlink:href=\"#ArialMT-32\"/>\n      <use x=\"216.699219\" xlink:href=\"#ArialMT-118\"/>\n      <use x=\"266.699219\" xlink:href=\"#ArialMT-97\"/>\n      <use x=\"322.314453\" xlink:href=\"#ArialMT-108\"/>\n      <use x=\"344.53125\" xlink:href=\"#ArialMT-117\"/>\n      <use x=\"400.146484\" xlink:href=\"#ArialMT-101\"/>\n     </g>\n    </g>\n   </g>\n   <g id=\"matplotlib.axis_2\">\n    <g id=\"ytick_1\"/>\n   </g>\n   <g id=\"PathCollection_1\">\n    <defs>\n     <path d=\"M -0 4.242641 \nL 2.545584 0 \nL 0 -4.242641 \nL -2.545584 -0 \nz\n\" id=\"m59979368d2\" style=\"stroke:#4c4c4c;\"/>\n    </defs>\n    <g clip-path=\"url(#pd2bebd292b)\">\n     <use style=\"fill:#4c4c4c;stroke:#4c4c4c;\" x=\"37.539229\" xlink:href=\"#m59979368d2\" y=\"231.9786\"/>\n     <use style=\"fill:#4c4c4c;stroke:#4c4c4c;\" x=\"36.875455\" xlink:href=\"#m59979368d2\" y=\"231.9786\"/>\n     <use style=\"fill:#4c4c4c;stroke:#4c4c4c;\" x=\"37.349579\" xlink:href=\"#m59979368d2\" y=\"231.9786\"/>\n     <use style=\"fill:#4c4c4c;stroke:#4c4c4c;\" x=\"262.539767\" xlink:href=\"#m59979368d2\" y=\"231.9786\"/>\n     <use style=\"fill:#4c4c4c;stroke:#4c4c4c;\" x=\"630.384545\" xlink:href=\"#m59979368d2\" y=\"231.9786\"/>\n     <use style=\"fill:#4c4c4c;stroke:#4c4c4c;\" x=\"626.591549\" xlink:href=\"#m59979368d2\" y=\"231.9786\"/>\n     <use style=\"fill:#4c4c4c;stroke:#4c4c4c;\" x=\"628.488047\" xlink:href=\"#m59979368d2\" y=\"231.9786\"/>\n     <use style=\"fill:#4c4c4c;stroke:#4c4c4c;\" x=\"630.384545\" xlink:href=\"#m59979368d2\" y=\"231.9786\"/>\n    </g>\n   </g>\n   <g id=\"PatchCollection_1\">\n    <path clip-path=\"url(#pd2bebd292b)\" d=\"M 37.994388 230.573734 \nL 258.746771 230.573734 \nL 258.746771 233.383466 \nL 37.994388 233.383466 \nz\n\" style=\"fill:#e6eaf1;stroke:#4c4c4c;stroke-width:1.5;\"/>\n    <path clip-path=\"url(#pd2bebd292b)\" d=\"M 38.771953 229.168867 \nL 130.190941 229.168867 \nL 130.190941 234.788332 \nL 38.771953 234.788332 \nz\n\" style=\"fill:#d2dae7;stroke:#4c4c4c;stroke-width:1.5;\"/>\n    <path clip-path=\"url(#pd2bebd292b)\" d=\"M 39.246077 226.359135 \nL 89.123978 226.359135 \nL 89.123978 237.598065 \nL 39.246077 237.598065 \nz\n\" style=\"fill:#bdc9db;stroke:#4c4c4c;stroke-width:1.5;\"/>\n    <path clip-path=\"url(#pd2bebd292b)\" d=\"M 40.3659 220.73967 \nL 88.763643 220.73967 \nL 88.763643 243.21753 \nL 40.3659 243.21753 \nz\n\" style=\"fill:#a9b8d0;stroke:#4c4c4c;stroke-width:1.5;\"/>\n    <path clip-path=\"url(#pd2bebd292b)\" d=\"M 41.6167 209.50074 \nL 82.372445 209.50074 \nL 82.372445 254.45646 \nL 41.6167 254.45646 \nz\n\" style=\"fill:#95a7c5;stroke:#4c4c4c;stroke-width:1.5;\"/>\n    <path clip-path=\"url(#pd2bebd292b)\" d=\"M 43.720627 187.02288 \nL 76.701915 187.02288 \nL 76.701915 276.93432 \nL 43.720627 276.93432 \nz\n\" style=\"fill:#8197ba;stroke:#4c4c4c;stroke-width:1.5;\"/>\n    <path clip-path=\"url(#pd2bebd292b)\" d=\"M 46.357945 142.06716 \nL 72.814094 142.06716 \nL 72.814094 321.89004 \nL 46.357945 321.89004 \nz\n\" style=\"fill:#6c86af;stroke:#4c4c4c;stroke-width:1.5;\"/>\n    <path clip-path=\"url(#pd2bebd292b)\" d=\"M 51.099191 52.15572 \nL 67.1246 52.15572 \nL 67.1246 411.80148 \nL 51.099191 411.80148 \nz\n\" style=\"fill:#5875a4;stroke:#4c4c4c;stroke-width:1.5;\"/>\n   </g>\n   <g id=\"line2d_8\">\n    <path clip-path=\"url(#pd2bebd292b)\" d=\"M 59.386887 52.15572 \nL 59.386887 411.80148 \n\" style=\"fill:none;stroke:#262626;stroke-opacity:0.45;stroke-width:1.5;\"/>\n   </g>\n   <g id=\"patch_3\">\n    <path d=\"M 7.2 456.7572 \nL 7.2 7.2 \n\" style=\"fill:none;stroke:#ffffff;stroke-linecap:square;stroke-linejoin:miter;stroke-width:1.25;\"/>\n   </g>\n   <g id=\"patch_4\">\n    <path d=\"M 660.06 456.7572 \nL 660.06 7.2 \n\" style=\"fill:none;stroke:#ffffff;stroke-linecap:square;stroke-linejoin:miter;stroke-width:1.25;\"/>\n   </g>\n   <g id=\"patch_5\">\n    <path d=\"M 7.2 456.7572 \nL 660.06 456.7572 \n\" style=\"fill:none;stroke:#ffffff;stroke-linecap:square;stroke-linejoin:miter;stroke-width:1.25;\"/>\n   </g>\n   <g id=\"patch_6\">\n    <path d=\"M 7.2 7.2 \nL 660.06 7.2 \n\" style=\"fill:none;stroke:#ffffff;stroke-linecap:square;stroke-linejoin:miter;stroke-width:1.25;\"/>\n   </g>\n  </g>\n </g>\n <defs>\n  <clipPath id=\"pd2bebd292b\">\n   <rect height=\"449.5572\" width=\"652.86\" x=\"7.2\" y=\"7.2\"/>\n  </clipPath>\n </defs>\n</svg>\n",
      "image/png": "[encoded data removed]"
     },
     "metadata": {}
    }
   ],
   "source": [
    "sns.set(rc={\"figure.figsize\":(11.7, 8.27)})\n",
    "sns.boxenplot(df_copy[\"item value\"]);"
   ]
  },
  {
   "cell_type": "code",
   "execution_count": 23,
   "metadata": {},
   "outputs": [
    {
     "output_type": "execute_result",
     "data": {
      "text/plain": [
       "                                name                  address            city  \\\n",
       "226         California Pizza Kitchen   10300 Forest Hill Blvd      Wellington   \n",
       "483         California Pizza Kitchen      3401 Esperanza Xing          Austin   \n",
       "534         California Pizza Kitchen         109 W County Ctr     Saint Louis   \n",
       "900   California Pizza Kitchen - Nyc           440 Park Ave S        New York   \n",
       "993                    Terrace Bagel  222 And 222a Prospect W        Brooklyn   \n",
       "1137        California Pizza Kitchen         11800 W Broad St         Henrico   \n",
       "2569      Eddie's Italian Restaurant        4002 Lincoln Blvd  Marina Del Rey   \n",
       "2570      Eddie's Italian Restaurant        4002 Lincoln Blvd  Marina Del Rey   \n",
       "2571      Eddie's Italian Restaurant        4002 Lincoln Blvd  Marina Del Rey   \n",
       "2573      Eddie's Italian Restaurant        4002 Lincoln Blvd  Marina Del Rey   \n",
       "\n",
       "     country postcode                  state  \\\n",
       "226       US    33414  Village Of Wellington   \n",
       "483       US    78758                     TX   \n",
       "534       US    63131     Country Life Acres   \n",
       "900       US    10016                    Nyc   \n",
       "993       US    11215                     NY   \n",
       "1137      US    23233                     VA   \n",
       "2569      US    90292                     CA   \n",
       "2570      US    90292                     CA   \n",
       "2571      US    90292                     CA   \n",
       "2573      US    90292                     CA   \n",
       "\n",
       "                                                                                                           categories  \\\n",
       "226                       Pizza Place,Take Out Restaurants,American Restaurants,Restaurants,Italian Restaurants,Pizza   \n",
       "483   Pizza,Take Out Restaurants,Restaurants,American Restaurants,Italian Restaurants,pizza place,American Restaurant   \n",
       "534                       Pizza Place,Restaurants,Pizza,American Restaurants,Italian Restaurants,Take Out Restaurants   \n",
       "900                                                                                            Restaurant,Pizza Place   \n",
       "993                                                                                 Bagel Shop,Bagel Shop South Slope   \n",
       "1137                                                                                                      Pizza Place   \n",
       "2569                                                       Pizza,Italian Restaurant Marina del Rey,Italian Restaurant   \n",
       "2570                                                       Pizza,Italian Restaurant Marina del Rey,Italian Restaurant   \n",
       "2571                                                       Pizza,Italian Restaurant Marina del Rey,Italian Restaurant   \n",
       "2573                                                       Pizza,Italian Restaurant Marina del Rey,Italian Restaurant   \n",
       "\n",
       "            menu item  item value currency  \\\n",
       "226             Pizza      116.99      USD   \n",
       "483             Pizza      116.99      USD   \n",
       "534             Pizza      116.99      USD   \n",
       "900             Pizza      118.99      USD   \n",
       "993   Steak Pizzaiola      100.00      USD   \n",
       "1137            Pizza      116.99      USD   \n",
       "2569    Pizza Claudia      312.95      USD   \n",
       "2570  Pizza Margarita      310.95      USD   \n",
       "2571  Pizza Pepperoni      311.95      USD   \n",
       "2573   Pizza Raviatta      312.95      USD   \n",
       "\n",
       "                                                        item description  \\\n",
       "226                                                                  NaN   \n",
       "483                                                                  NaN   \n",
       "534                                                                  NaN   \n",
       "900                                                                  NaN   \n",
       "993                                                                  NaN   \n",
       "1137                                                                 NaN   \n",
       "2569                    Ham, anchovies, roasted peppers and black olives   \n",
       "2570                                                         Fresh basil   \n",
       "2571                                                                 NaN   \n",
       "2573  Fresh veal, roasted peppers, black olives and crushed chili pepper   \n",
       "\n",
       "      postcode_len  state_len  \n",
       "226              5         21  \n",
       "483              5          2  \n",
       "534              5         18  \n",
       "900              5          3  \n",
       "993              5          2  \n",
       "1137             5          2  \n",
       "2569             5          2  \n",
       "2570             5          2  \n",
       "2571             5          2  \n",
       "2573             5          2  "
      ],
      "text/html": "<div>\n<style scoped>\n    .dataframe tbody tr th:only-of-type {\n        vertical-align: middle;\n    }\n\n    .dataframe tbody tr th {\n        vertical-align: top;\n    }\n\n    .dataframe thead th {\n        text-align: right;\n    }\n</style>\n<table border=\"1\" class=\"dataframe\">\n  <thead>\n    <tr style=\"text-align: right;\">\n      <th></th>\n      <th>name</th>\n      <th>address</th>\n      <th>city</th>\n      <th>country</th>\n      <th>postcode</th>\n      <th>state</th>\n      <th>categories</th>\n      <th>menu item</th>\n      <th>item value</th>\n      <th>currency</th>\n      <th>item description</th>\n      <th>postcode_len</th>\n      <th>state_len</th>\n    </tr>\n  </thead>\n  <tbody>\n    <tr>\n      <th>226</th>\n      <td>California Pizza Kitchen</td>\n      <td>10300 Forest Hill Blvd</td>\n      <td>Wellington</td>\n      <td>US</td>\n      <td>33414</td>\n      <td>Village Of Wellington</td>\n      <td>Pizza Place,Take Out Restaurants,American Restaurants,Restaurants,Italian Restaurants,Pizza</td>\n      <td>Pizza</td>\n      <td>116.99</td>\n      <td>USD</td>\n      <td>NaN</td>\n      <td>5</td>\n      <td>21</td>\n    </tr>\n    <tr>\n      <th>483</th>\n      <td>California Pizza Kitchen</td>\n      <td>3401 Esperanza Xing</td>\n      <td>Austin</td>\n      <td>US</td>\n      <td>78758</td>\n      <td>TX</td>\n      <td>Pizza,Take Out Restaurants,Restaurants,American Restaurants,Italian Restaurants,pizza place,American Restaurant</td>\n      <td>Pizza</td>\n      <td>116.99</td>\n      <td>USD</td>\n      <td>NaN</td>\n      <td>5</td>\n      <td>2</td>\n    </tr>\n    <tr>\n      <th>534</th>\n      <td>California Pizza Kitchen</td>\n      <td>109 W County Ctr</td>\n      <td>Saint Louis</td>\n      <td>US</td>\n      <td>63131</td>\n      <td>Country Life Acres</td>\n      <td>Pizza Place,Restaurants,Pizza,American Restaurants,Italian Restaurants,Take Out Restaurants</td>\n      <td>Pizza</td>\n      <td>116.99</td>\n      <td>USD</td>\n      <td>NaN</td>\n      <td>5</td>\n      <td>18</td>\n    </tr>\n    <tr>\n      <th>900</th>\n      <td>California Pizza Kitchen - Nyc</td>\n      <td>440 Park Ave S</td>\n      <td>New York</td>\n      <td>US</td>\n      <td>10016</td>\n      <td>Nyc</td>\n      <td>Restaurant,Pizza Place</td>\n      <td>Pizza</td>\n      <td>118.99</td>\n      <td>USD</td>\n      <td>NaN</td>\n      <td>5</td>\n      <td>3</td>\n    </tr>\n    <tr>\n      <th>993</th>\n      <td>Terrace Bagel</td>\n      <td>222 And 222a Prospect W</td>\n      <td>Brooklyn</td>\n      <td>US</td>\n      <td>11215</td>\n      <td>NY</td>\n      <td>Bagel Shop,Bagel Shop South Slope</td>\n      <td>Steak Pizzaiola</td>\n      <td>100.00</td>\n      <td>USD</td>\n      <td>NaN</td>\n      <td>5</td>\n      <td>2</td>\n    </tr>\n    <tr>\n      <th>1137</th>\n      <td>California Pizza Kitchen</td>\n      <td>11800 W Broad St</td>\n      <td>Henrico</td>\n      <td>US</td>\n      <td>23233</td>\n      <td>VA</td>\n      <td>Pizza Place</td>\n      <td>Pizza</td>\n      <td>116.99</td>\n      <td>USD</td>\n      <td>NaN</td>\n      <td>5</td>\n      <td>2</td>\n    </tr>\n    <tr>\n      <th>2569</th>\n      <td>Eddie's Italian Restaurant</td>\n      <td>4002 Lincoln Blvd</td>\n      <td>Marina Del Rey</td>\n      <td>US</td>\n      <td>90292</td>\n      <td>CA</td>\n      <td>Pizza,Italian Restaurant Marina del Rey,Italian Restaurant</td>\n      <td>Pizza Claudia</td>\n      <td>312.95</td>\n      <td>USD</td>\n      <td>Ham, anchovies, roasted peppers and black olives</td>\n      <td>5</td>\n      <td>2</td>\n    </tr>\n    <tr>\n      <th>2570</th>\n      <td>Eddie's Italian Restaurant</td>\n      <td>4002 Lincoln Blvd</td>\n      <td>Marina Del Rey</td>\n      <td>US</td>\n      <td>90292</td>\n      <td>CA</td>\n      <td>Pizza,Italian Restaurant Marina del Rey,Italian Restaurant</td>\n      <td>Pizza Margarita</td>\n      <td>310.95</td>\n      <td>USD</td>\n      <td>Fresh basil</td>\n      <td>5</td>\n      <td>2</td>\n    </tr>\n    <tr>\n      <th>2571</th>\n      <td>Eddie's Italian Restaurant</td>\n      <td>4002 Lincoln Blvd</td>\n      <td>Marina Del Rey</td>\n      <td>US</td>\n      <td>90292</td>\n      <td>CA</td>\n      <td>Pizza,Italian Restaurant Marina del Rey,Italian Restaurant</td>\n      <td>Pizza Pepperoni</td>\n      <td>311.95</td>\n      <td>USD</td>\n      <td>NaN</td>\n      <td>5</td>\n      <td>2</td>\n    </tr>\n    <tr>\n      <th>2573</th>\n      <td>Eddie's Italian Restaurant</td>\n      <td>4002 Lincoln Blvd</td>\n      <td>Marina Del Rey</td>\n      <td>US</td>\n      <td>90292</td>\n      <td>CA</td>\n      <td>Pizza,Italian Restaurant Marina del Rey,Italian Restaurant</td>\n      <td>Pizza Raviatta</td>\n      <td>312.95</td>\n      <td>USD</td>\n      <td>Fresh veal, roasted peppers, black olives and crushed chili pepper</td>\n      <td>5</td>\n      <td>2</td>\n    </tr>\n  </tbody>\n</table>\n</div>"
     },
     "metadata": {},
     "execution_count": 23
    }
   ],
   "source": [
    "df_copy.loc[df_copy[\"item value\"]>90]"
   ]
  },
  {
   "cell_type": "code",
   "execution_count": 24,
   "metadata": {},
   "outputs": [
    {
     "output_type": "execute_result",
     "data": {
      "text/plain": [
       "                                                                                                                                                         1\n",
       "ricotta cheese, roasted garlic, sweet peppers                                                                                                                                                                                                                                                                                                                                                                                                                                                                                                                                                                                                                1\n",
       "roma tomato, mozzarella, basil                                                                                                                                                                                                                                                                                                                                                                                                                                                                                                                                                                                                                               1\n",
       "any topping extra charge will be applied                                                                                                                                                                                                                                                                                                                                                                                                                                                                                                                                                                                                                     1\n",
       "mushrooms, zucchini, roma tomatoes, spinach, and yellow squash with   provolone and parmesan cheese in a white parmesan sauce.                                                                                                                                                                                                                                                                                                                                                                                                                                                                                                                               1\n",
       "fresh mozzarella, arugula, prosciutto, olive oil and a balsamic drizzle.                                                                                                                                                                                                                                                                                                                                                                                                                                                                                                                                                                                     1\n",
       "everything                                                                                                                                                                                                                                                                                                                                                                                                                                                                                                                                                                                                                                                   1\n",
       "alfredo sauce, mozzarella and cheddar cheeses, topped with perfectly seasoned buffalo chicken                                                                                                                                                                                                                                                                                                                                                                                                                                                                                                                                                                1\n",
       "fried eggs, cheddar, bacon, marinara                                                                                                                                                                                                                                                                                                                                                                                                                                                                                                                                                                                                                         1\n",
       "a traditional pizza with crumbled italian sausage and crumbled meatballs                                                                                                                                                                                                                                                                                                                                                                                                                                                                                                                                                                                     1\n",
       "house made caponata and tomato sauce with asiago cheese and prosciutto parma                                                                                                                                                                                                                                                                                                                                                                                                                                                                                                                                                                                 1\n",
       "sauce, broccoli, eggplant, olives, roasted peppers, garlic, and a touch of parmesan.                                                                                                                                                                                                                                                                                                                                                                                                                                                                                                                                                                         1\n",
       "ricotta, spicy tomato, pecorino romano, oregano, mint                                                                                                                                                                                                                                                                                                                                                                                                                                                                                                                                                                                                        1\n",
       "roasted tomatoes, basil                                                                                                                                                                                                                                                                                                                                                                                                                                                                                                                                                                                                                                      1\n",
       "braised leeks, burrata, white cheddar, mozzarella, garlic, basil                                                                                                                                                                                                                                                                                                                                                                                                                                                                                                                                                                                             1\n",
       "mozzarella cheese, marinara and basil.                                                                                                                                                                                                                                                                                                                                                                                                                                                                                                                                                                                                                       1\n",
       "home made pizza, prosciutto di parma, guanciale four cheese sauce, waimanalo baby arugula                                                                                                                                                                                                                                                                                                                                                                                                                                                                                                                                                                    1\n",
       "a unique and creative pizza that will change daily                                                                                                                                                                                                                                                                                                                                                                                                                                                                                                                                                                                                           1\n",
       "crispy breaded chicken, blue cheese and buffalo sauce                                                                                                                                                                                                                                                                                                                                                                                                                                                                                                                                                                                                        1\n",
       "kids cheese pizza                                                                                                                                                                                                                                                                                                                                                                                                                                                                                                                                                                                                                                            1\n",
       "olive oil, italian seasonings, garlic, tomatoes, italian sausage                                                                                                                                                                                                                                                                                                                                                                                                                                                                                                                                                                                             1\n",
       "grilled cinderella pumpkin, garlic, hazelnuts, sage, caciocavallo and alta badia cheese                                                                                                                                                                                                                                                                                                                                                                                                                                                                                                                                                                      1\n",
       "roasted tomatoes, pesto, fresh basil.                                                                                                                                                                                                                                                                                                                                                                                                                                                                                                                                                                                                                        1\n",
       "green peppers, mushrooms, onions, olives, fresh tomatoes                                                                                                                                                                                                                                                                                                                                                                                                                                                                                                                                                                                                     1\n",
       "basil pesto sauce, grilled chicken and spinach                                                                                                                                                                                                                                                                                                                                                                                                                                                                                                                                                                                                               1\n",
       "steak, mozzarella cheese, and tomato sauce                                                                                                                                                                                                                                                                                                                                                                                                                                                                                                                                                                                                                   1\n",
       "one slice of pizza, caesar salad, fountain pop                                                                                                                                                                                                                                                                                                                                                                                                                                                                                                                                                                                                               1\n",
       "a unique and special creation that will change daily                                                                                                                                                                                                                                                                                                                                                                                                                                                                                                                                                                                                         1\n",
       "chefs selection of the freshest ingredients. please ask your server for details                                                                                                                                                                                                                                                                                                                                                                                                                                                                                                                                                                              1\n",
       "no cheese.                                                                                                                                                                                                                                                                                                                                                                                                                                                                                                                                                                                                                                                   1\n",
       "fresh mushrooms, carrots, broccoli, zucchini and black olives                                                                                                                                                                                                                                                                                                                                                                                                                                                                                                                                                                                                1\n",
       "like our popular sandwich . . . chicken, bacon, pineapple on our tangy bbq sauce. (jalapenos on request)                                                                                                                                                                                                                                                                                                                                                                                                                                                                                                                                                     1\n",
       "Name: item description, dtype: int64"
      ]
     },
     "metadata": {},
     "execution_count": 24
    }
   ],
   "source": [
    "# Check if we have ingredient information in this dataset\n",
    "df_copy[\"item description\"].str.lower().value_counts()"
   ]
  },
  {
   "cell_type": "code",
   "execution_count": 25,
   "metadata": {},
   "outputs": [
    {
     "output_type": "execute_result",
     "data": {
      "text/plain": [
       "False    1089\n",
       "True      437\n",
       "Name: item description, dtype: int64"
      ]
     },
     "metadata": {},
     "execution_count": 25
    }
   ],
   "source": [
    "df_copy[\"item description\"].str.lower().str.contains(\"tomato\").value_counts()"
   ]
  },
  {
   "cell_type": "code",
   "execution_count": 26,
   "metadata": {},
   "outputs": [
    {
     "output_type": "execute_result",
     "data": {
      "text/plain": [
       "False    899\n",
       "True     627\n",
       "Name: item description, dtype: int64"
      ]
     },
     "metadata": {},
     "execution_count": 26
    }
   ],
   "source": [
    "df_copy[\"item description\"].str.lower().str.contains(\"cheese\").value_counts()"
   ]
  },
  {
   "source": [
    "- The item value column is correctly identified as float.\n",
    "- The entire dataset is from the US.\n",
    "- So I expected to see a 5 or 5+4 digit length postcodes, according to <https://en.wikipedia.org/wiki/ZIP_Code>. There are postcodes of 5, 4, 3, and 10, which fit the expected formats of `^\\d{5}$`, `^0\\d{4}$`, `^00\\d{3}$` and `^\\d{5}-\\d{4}$`.\n",
    "- I also expected to see state values of length 2 (2 letters), or something that looked like names. From the length, some seemed too long to be state names.\n",
    "- By doing a quick Google, I found that Lawrenceville is a city within Lawrence Township, but the former is down as a state and the latter the city. For Salt Lake City, it is down as both city and state, when it is a famous city in the state of Utah. The data entry is not very reliable for the state column.\n",
    "- The currency is consistent where it is not null.\n",
    "- All menu items for all rows mention pizza, but a third of them may not be about pizza.\n",
    "- I now have an idea what sort of pizzas we can try and model for.\n",
    "- The price range for menu items of these pizza restaurants are described here. Either there is a little bad data entry or there are some really expensive pizzas. We'll assume the latter.\n",
    "- The item description column has a low completion rate, is inconsistently populated, and we don't really know what ingredients are in there. I don't think this column is much use."
   ],
   "cell_type": "markdown",
   "metadata": {}
  },
  {
   "source": [
    "## What's a Hawaiian Pizza?\n",
    "\n",
    "We take the top popular pizzas (ignoring the generic \"Pizza\") here and seeing if we can understand what some of these popular items are.\n",
    "\n",
    "```\n",
    "Cheese Pizza               136\n",
    "White Pizza                 75\n",
    "Margherita Pizza            63\n",
    "Pizza                       62\n",
    "Hawaiian Pizza              54\n",
    "Bbq Chicken Pizza           47\n",
    "Buffalo Chicken Pizza       44\n",
    "Pepperoni Pizza             44\n",
    "Taco Pizza                  34\n",
    "Veggie Pizza                34\n",
    "Greek Pizza                 30\n",
    "Mexican Pizza               29\n",
    "Sicilian Pizza              24\n",
    "Vegetarian Pizza            21\n",
    "```"
   ],
   "cell_type": "markdown",
   "metadata": {}
  },
  {
   "cell_type": "code",
   "execution_count": 27,
   "metadata": {},
   "outputs": [
    {
     "output_type": "execute_result",
     "data": {
      "text/plain": [
       "69                                                                                           Fresh mozzarella and basil\n",
       "75                                                                                                                  NaN\n",
       "91                                                                                                                  NaN\n",
       "92                                                                              Brooklyn style. Square thick pan pizza.\n",
       "141                                                                                                                 NaN\n",
       "162                                                         Fresh basil, rich tomato sauce and fresh mozzarella cheese.\n",
       "343                                                                              Mozzarella cheese, marinara and basil.\n",
       "382                                                                                                                 NaN\n",
       "383                                                                                                                 NaN\n",
       "464                                                                                                                 NaN\n",
       "500                                                                                 Tomato, Basil, Garlic, Daiya Cheese\n",
       "603                                                             San Marzano tomato sauce, fresh mozzarella, basil, EVO.\n",
       "629                                        Fresh tomatoes, fresh mozzarella, garlic, and a touch of Parmesan and basil.\n",
       "657                                                                                                                 NaN\n",
       "711                                                     Fresh sliced tomatoes, fresh mozzarella slices and garden basil\n",
       "734                                                    Olive oil, italian seasonings, garlic, tomatoes, italian sausage\n",
       "906                                                                                                                 NaN\n",
       "933                                                                            Tomato, mozzarella, oregano, fresh basil\n",
       "934                                                                            Tomato, mozzarella, oregano, fresh basil\n",
       "950                                                                                                                 NaN\n",
       "965                                                                          buffalo mozzarella, pomodoro, garden basil\n",
       "1001                                                                                     Tomatoes, mozzarella and basil\n",
       "1002                                                                                                                NaN\n",
       "1047                                                                                                                NaN\n",
       "1158                                                                       Sliced tomatoes, fresh mozzarella, and basil\n",
       "1200                                                                                       Fresh mozzarella, torn basil\n",
       "1235                                                                                                                NaN\n",
       "1250                                                                     Fresh local mozzarella, basil, smoked sea salt\n",
       "1297                                                                                                                NaN\n",
       "1331                        Marinated cherry tomato, buffalo mozzarella, parmesan reggiano, roasted garlic, fresh basil\n",
       "1393                                                                                                                NaN\n",
       "1425                                                                Fresh mozzarella crushed tomato basil and olive oil\n",
       "1453                                                                                                                NaN\n",
       "1664                                                                                                                NaN\n",
       "1672                                                                                     Roma tomato, mozzarella, basil\n",
       "1740                                                                                                                NaN\n",
       "1757                                                    Fresh basil, fresh garlic, fresh tomatoes and mozzarella cheese\n",
       "1772                                                                                                                NaN\n",
       "1774                                                                                                                NaN\n",
       "1795                                     Homemade tomato jam, basil, fresh mozzarella, grilled crust, balsamic drizzle.\n",
       "1813                            roma tomatoes, garlic oil, fresh basil, mozzarella, parmesan and aged provolone cheeses\n",
       "1994           House Tomato Pizza Sauce, Mozzarella Cheese, Campari Tomatoes, Basil and Extra Virgin Sicilian Olive Oil\n",
       "2016                                    Fresh mozzarella, fresh basil, fresh garlic, tomato sauce, pepper and olive oil\n",
       "2098                                                                                                                NaN\n",
       "2115                                                                              mozzarella, san marzano tomato, basil\n",
       "2196                                                                                               mozzarella, tomatoes\n",
       "2245                                                                   Fresh Mozzarella, tomato, fresh basil, olive oil\n",
       "2252              house made tomato sauce, fresh mozzarella, chopped garlic, sliced tomatoes, parmesan cheese and basil\n",
       "2373                                                                                                                NaN\n",
       "2405                                                                                                                NaN\n",
       "2416                                                                    Tomato basil sauce, mozzarella cheese, reggiano\n",
       "2439                                                                                                                NaN\n",
       "2455                                                                                                                NaN\n",
       "2490                                                                                                                NaN\n",
       "2491                                                                                                                NaN\n",
       "2517                                                                          Basil, Marinara, Fresh Buffalo Mozzarella\n",
       "2578                                                                                                                NaN\n",
       "2582                                                                                                                NaN\n",
       "2650                               Roma tomato, olive oil, fresh basil, mozzarella, parmesan and aged provolone cheeses\n",
       "2696                                                        Fior di latte mozzarella, san marzano tomatoes, basil, EVOO\n",
       "2703                                                                     Roasted roma tomatoes, fresh mozzarella, basil\n",
       "2742                                                                                                                NaN\n",
       "2806                                                                                                                NaN\n",
       "2866                                                                                                                NaN\n",
       "2912                                                                                                                NaN\n",
       "3061    Roma and cherry tomatoes, roasted garlic, extra virgin olive oil, basil, fresh mozzarella and four cheese blend\n",
       "3140                                                                            san marzano sauce, fior di latte, basil\n",
       "3170                                                                                            Roasted tomatoes, basil\n",
       "3207                                                              crushed tomato, fior di latte mozzarella, basil, xvoo\n",
       "3224                                                                                                                NaN\n",
       "3241                                                                                                                NaN\n",
       "3318                                      Chunky tomato sauce, hand pulled mozzarella, basil and extra virgin olive oil\n",
       "3426                                                                                                                NaN\n",
       "3431                                                                                                                NaN\n",
       "3495                                                                                                                NaN\n",
       "Name: item description, dtype: object"
      ]
     },
     "metadata": {},
     "execution_count": 27
    }
   ],
   "source": [
    "df_copy[\"item description\"][df_copy[\"menu item\"].str.lower().str.contains(\"margherita pizza\")]"
   ]
  },
  {
   "cell_type": "code",
   "execution_count": 28,
   "metadata": {},
   "outputs": [
    {
     "output_type": "execute_result",
     "data": {
      "text/plain": [
       "                                                                                               NaN\n",
       "270                                                                                                                                                   Mozzarella, ricotta and parmesan cheeses\n",
       "280                                                                                                                                          Alfredo sauce, mozzarella, and provolone cheese .\n",
       "281                                                                                                      Provolone cheese, garlic, olive oil, sliced tomatoes (may substitute another topping)\n",
       "292                                                                                                                                                                                        NaN\n",
       "316                                                                                                                                                                     Mozzarella and Ricotta\n",
       "376                                                                                                                                                                                        NaN\n",
       "440                                                                                                                                                             Ricotta, Mozzarella and Garlic\n",
       "485                                                                                                                                                                                        NaN\n",
       "496                                                                                                                                       Garlic roll baked with mozzarella onions and tomato.\n",
       "536                                                                                                                                                                                        NaN\n",
       "542                                                                                                                                                                                        NaN\n",
       "663                                                                                                                                                                  With broccoli or tomatoes\n",
       "679     Our white pizza offers a break from the traditional pizza. it starts off with our own hand tossed dough, covered in aglio e olio sauce, then topped with mozzarella and ricotta cheese\n",
       "702                                                                                                                                                                                        NaN\n",
       "715                                                                                                                                                                          Traditional plain\n",
       "809                                                                                                                                                       Basil, tomato, garlic and mozzarella\n",
       "828                                                                                                                    Olive oil, fresh garlic, basil and oregano with your choice of toppings\n",
       "841                                                                                                                                        Mozzarella cheese, basil garlic, oregano, olive oil\n",
       "911                                                                                                                                                                                        NaN\n",
       "932                                                                                                                                                        With ricotta and mozzarella cheese.\n",
       "995                                                                                                                                                                                        NaN\n",
       "1007                                                                                                                                                                                       NaN\n",
       "1027                                                                                                                                                                                       NaN\n",
       "1042                                                                                                                                                                                       NaN\n",
       "1044                                                                                                                                                         Ricotta Cheese, Mozzarella Cheese\n",
       "1050                                                                                                                                                                                       NaN\n",
       "1096                                                                                                                                                                                       NaN\n",
       "1099                                                                                                                                                                                       NaN\n",
       "1140                                                                                                                                                                                       NaN\n",
       "1163                                                                                                                                                             Ricotta cheese and mozzarella\n",
       "1170                                                                                                                                                                                       NaN\n",
       "1190                                                                                                                                                                                       NaN\n",
       "1298                                                                                                                                                                                       NaN\n",
       "1317                                                                                                                                                                                       NaN\n",
       "1327                                                                                                                                                                                       NaN\n",
       "1345                                                                                                                                                                                       NaN\n",
       "1355                                                                                                                                                                                       NaN\n",
       "1356                                                                                                                                                                                       NaN\n",
       "1361                                                                                                                                                                                       NaN\n",
       "1362                                                                                                                                                                                       NaN\n",
       "1366                                                                                                                                                                                       NaN\n",
       "1414                                                                                                                                                                                       NaN\n",
       "1431                                                                                                                                                                                       NaN\n",
       "1432                                                                                                                                                                                       NaN\n",
       "1433                                                                                                                                                                                       NaN\n",
       "1465                                                                                                                           mozzarella and ricotta with broccoli, sauteed garlic, no sauce.\n",
       "1467                                                                                                                      Mozzarella cheese, ricotta and prosciutto, gourmet as gourmet can be\n",
       "1562                                                                                                                                                                                       NaN\n",
       "1614                                                                                                                                            Ricotta and parmesan cheese, garlic and herbs.\n",
       "1615                                                                                                                                                                                       NaN\n",
       "1616                                                                                                                                            Ricotta and parmesan cheese, garlic and herbs.\n",
       "1617                                                                                                                                            Ricotta and parmesan cheese, garlic and herbs.\n",
       "1629                                                                                                                           Bacon, Onions, Jumpin Good Goat Farms Feta, Thyme, Pepperoncini\n",
       "1663                                                                                                                                                                                       NaN\n",
       "1668                                                                                                                                                                                       NaN\n",
       "1681                                                                                              Ricotta cheese, pecorino romano cheese, mozzarella cheese and fresh garlic (no tomato sauce)\n",
       "1710                                                                                                                          Mozzarella, parmigiano, ricotto, Italian fontina and fresh basil\n",
       "1770                                                                                                                                                                                       NaN\n",
       "1809                                                                                                                                                                                       NaN\n",
       "1823                                                                                                                                                                                       NaN\n",
       "1945                                                                                                                                                                                       NaN\n",
       "1966                                                                                                                                                                                       NaN\n",
       "1974                                                                                                                                    Deep Dish Pie (no sauce, sauce available upon request)\n",
       "1980                                                                                                              Neopolitian White Pizza With Sauce or NO Sauce (Your choice, please specify)\n",
       "1983                                                                                                                                                                                       NaN\n",
       "2027                                                                                                                               Parmesan cheese, olive oil, fresh garlic, mozzarella cheese\n",
       "2028                                                                                                                               Parmesan cheese, olive oil, fresh garlic, mozzarella cheese\n",
       "2075                                                                                                                                                                                       NaN\n",
       "2112                                                                                                                                                                                       NaN\n",
       "2164                                                                                                                                                                                       NaN\n",
       "2178                                                                                                                                                                                       NaN\n",
       "2179                                                                                                                                                                                       NaN\n",
       "2187                                                                                                      Topped with seasoning and imported olive on same pricing as our conventional pizzas.\n",
       "2216                                                                                                                                           14 in. with Olive Oil, Fresh Garlic, and Cheese\n",
       "2385                                                                                                                                                                                       NaN\n",
       "2450                                                                                                                                                                                       NaN\n",
       "2453                                                                                                                         Olive Oil, Minced Garlic, Fresh Basil and Seasoned Ricotta Cheese\n",
       "2483                                                                                                      Pizza topped with your choice of nay five of our fresh vegetable toppings smothered.\n",
       "2484                                                                                                      Pizza topped with your choice of nay five of our fresh vegetable toppings smothered.\n",
       "2522                                                                                                                                            With Arugula, Pancetta, and Caramelized Onions\n",
       "2524                                                                                                                                With Fresh Mozzarella, Locatelli Romano and Asiago Cheeses\n",
       "2596                                                                                                                                                                                       NaN\n",
       "2624                                                                                                                                                                                       NaN\n",
       "2651                                                                                                      Topped with ricotta cheese, garlic, olive oil, mozzarella cheese, and fresh parsley.\n",
       "2717                                                                                                                                                                                       NaN\n",
       "2744                                                                                               Alfredo sauce, fresh spinach, red bell pepper, fresh garlic, broccoli and mozzarella cheese\n",
       "2746                                                                                             Extra virgin oil and fresh garlic with ricotta cheese as a base topped with our cheese blend.\n",
       "2781                                                                                                                                                                                       NaN\n",
       "2826                                                                                                                                                                                       NaN\n",
       "2840                                                                                                       Mozzarella cheese, ricotta cheese, garlic, fresh tomatoes, olive oil, fresh oregano\n",
       "2904                                                                                                               (No tomato sauce) Olive oil, garlic, basil, mozzarella, and ricotta cheese.\n",
       "3000                                                                                                                                                                                       NaN\n",
       "3009                                                                                                                                                                                       NaN\n",
       "3010                                                                                                                                                                                       NaN\n",
       "3048                                                                                                                                                                For all you cheese lovers.\n",
       "3103                                                                                                                                                                             With Broccoli\n",
       "3163                                                                                              Special blend of ricotta and mozzarella, grated cheese, italian spices, asiago and fontanina\n",
       "3187                                                                                                                                                            Ricotta, Mozzarella and Garlic\n",
       "3273                                                                                                                                                                                       NaN\n",
       "3295                                                                                                                     Alfredo sauce, smoked provolone, artichoke hearts, mushrooms, spinach\n",
       "3376                                                                                                                                                           Fresh tomato, garlic, and onion\n",
       "3437                                                                                                                                                                                       NaN\n",
       "3443                                                                                                                                   Ricotta and mozzarella cheese with a hint of olive oil.\n",
       "3509                                                                                                                                            ricotta, mozzarella, spinach, garlic, tomatoes\n",
       "Name: item description, dtype: object"
      ]
     },
     "metadata": {},
     "execution_count": 28
    }
   ],
   "source": [
    "df_copy[\"item description\"][df_copy[\"menu item\"].str.lower().str.contains(\"white pizza\")]"
   ]
  },
  {
   "cell_type": "code",
   "execution_count": 29,
   "metadata": {},
   "outputs": [
    {
     "output_type": "execute_result",
     "data": {
      "text/plain": [
       "[')', '(', '.', ',']"
      ]
     },
     "metadata": {},
     "execution_count": 29
    }
   ],
   "source": [
    "# Check unique characters in menu item column\n",
    "menu_item_unique_characters = list(set(df_copy[\"menu item\"].sum()))\n",
    "\n",
    "[char for char in menu_item_unique_characters if (not char.isalnum()) and (char != \" \")]"
   ]
  },
  {
   "cell_type": "code",
   "execution_count": 30,
   "metadata": {},
   "outputs": [
    {
     "output_type": "execute_result",
     "data": {
      "text/plain": [
       "<function unidecode.unidecode_expect_ascii(string, errors='ignore', replace_str='?')>"
      ]
     },
     "metadata": {},
     "execution_count": 30
    }
   ],
   "source": [
    "df_copy[\"name_banana\"] = df[\"name\"].apply(unidecode)\n",
    "df_copy[\"name_banana\"]\n",
    "\n",
    "unidecode"
   ]
  },
  {
   "cell_type": "code",
   "execution_count": 31,
   "metadata": {},
   "outputs": [
    {
     "output_type": "error",
     "ename": "FileNotFoundError",
     "evalue": "[Errno 2] No such file or directory: '../data/data_pizza_spike.csv'",
     "traceback": [
      "\u001b[0;31m---------------------------------------------------------------------------\u001b[0m",
      "\u001b[0;31mFileNotFoundError\u001b[0m                         Traceback (most recent call last)",
      "\u001b[0;32m<ipython-input-31-e2554dcba13b>\u001b[0m in \u001b[0;36m<module>\u001b[0;34m\u001b[0m\n\u001b[0;32m----> 1\u001b[0;31m \u001b[0mbanana_df\u001b[0m \u001b[0;34m=\u001b[0m \u001b[0mpd\u001b[0m\u001b[0;34m.\u001b[0m\u001b[0mread_csv\u001b[0m\u001b[0;34m(\u001b[0m\u001b[0;34m\"../data/data_pizza_spike.csv\"\u001b[0m\u001b[0;34m)\u001b[0m\u001b[0;34m\u001b[0m\u001b[0;34m\u001b[0m\u001b[0m\n\u001b[0m\u001b[1;32m      2\u001b[0m \u001b[0mname_unique_characters\u001b[0m \u001b[0;34m=\u001b[0m \u001b[0mlist\u001b[0m\u001b[0;34m(\u001b[0m\u001b[0mset\u001b[0m\u001b[0;34m(\u001b[0m\u001b[0mbanana_df\u001b[0m\u001b[0;34m[\u001b[0m\u001b[0;34m\"name\"\u001b[0m\u001b[0;34m]\u001b[0m\u001b[0;34m.\u001b[0m\u001b[0msum\u001b[0m\u001b[0;34m(\u001b[0m\u001b[0;34m)\u001b[0m\u001b[0;34m)\u001b[0m\u001b[0;34m)\u001b[0m\u001b[0;34m\u001b[0m\u001b[0;34m\u001b[0m\u001b[0m\n\u001b[1;32m      3\u001b[0m \u001b[0mname_unique_characters\u001b[0m\u001b[0;34m\u001b[0m\u001b[0;34m\u001b[0m\u001b[0m\n\u001b[1;32m      4\u001b[0m \u001b[0;34m\u001b[0m\u001b[0m\n\u001b[1;32m      5\u001b[0m \u001b[0;34m[\u001b[0m\u001b[0munidecode\u001b[0m\u001b[0;34m(\u001b[0m\u001b[0mchar\u001b[0m\u001b[0;34m)\u001b[0m \u001b[0;32mfor\u001b[0m \u001b[0mchar\u001b[0m \u001b[0;32min\u001b[0m \u001b[0mname_unique_characters\u001b[0m \u001b[0;32mif\u001b[0m \u001b[0;34m(\u001b[0m\u001b[0;32mnot\u001b[0m \u001b[0mchar\u001b[0m\u001b[0;34m.\u001b[0m\u001b[0misalnum\u001b[0m\u001b[0;34m(\u001b[0m\u001b[0;34m)\u001b[0m\u001b[0;34m)\u001b[0m \u001b[0;32mand\u001b[0m \u001b[0;34m(\u001b[0m\u001b[0mchar\u001b[0m \u001b[0;34m!=\u001b[0m \u001b[0;34m\" \"\u001b[0m\u001b[0;34m)\u001b[0m\u001b[0;34m]\u001b[0m\u001b[0;34m\u001b[0m\u001b[0;34m\u001b[0m\u001b[0m\n",
      "\u001b[0;32m~/projects/inm713-coursework/venv/lib/python3.8/site-packages/pandas/io/parsers.py\u001b[0m in \u001b[0;36mread_csv\u001b[0;34m(filepath_or_buffer, sep, delimiter, header, names, index_col, usecols, squeeze, prefix, mangle_dupe_cols, dtype, engine, converters, true_values, false_values, skipinitialspace, skiprows, skipfooter, nrows, na_values, keep_default_na, na_filter, verbose, skip_blank_lines, parse_dates, infer_datetime_format, keep_date_col, date_parser, dayfirst, cache_dates, iterator, chunksize, compression, thousands, decimal, lineterminator, quotechar, quoting, doublequote, escapechar, comment, encoding, dialect, error_bad_lines, warn_bad_lines, delim_whitespace, low_memory, memory_map, float_precision, storage_options)\u001b[0m\n\u001b[1;32m    608\u001b[0m     \u001b[0mkwds\u001b[0m\u001b[0;34m.\u001b[0m\u001b[0mupdate\u001b[0m\u001b[0;34m(\u001b[0m\u001b[0mkwds_defaults\u001b[0m\u001b[0;34m)\u001b[0m\u001b[0;34m\u001b[0m\u001b[0;34m\u001b[0m\u001b[0m\n\u001b[1;32m    609\u001b[0m \u001b[0;34m\u001b[0m\u001b[0m\n\u001b[0;32m--> 610\u001b[0;31m     \u001b[0;32mreturn\u001b[0m \u001b[0m_read\u001b[0m\u001b[0;34m(\u001b[0m\u001b[0mfilepath_or_buffer\u001b[0m\u001b[0;34m,\u001b[0m \u001b[0mkwds\u001b[0m\u001b[0;34m)\u001b[0m\u001b[0;34m\u001b[0m\u001b[0;34m\u001b[0m\u001b[0m\n\u001b[0m\u001b[1;32m    611\u001b[0m \u001b[0;34m\u001b[0m\u001b[0m\n\u001b[1;32m    612\u001b[0m \u001b[0;34m\u001b[0m\u001b[0m\n",
      "\u001b[0;32m~/projects/inm713-coursework/venv/lib/python3.8/site-packages/pandas/io/parsers.py\u001b[0m in \u001b[0;36m_read\u001b[0;34m(filepath_or_buffer, kwds)\u001b[0m\n\u001b[1;32m    460\u001b[0m \u001b[0;34m\u001b[0m\u001b[0m\n\u001b[1;32m    461\u001b[0m     \u001b[0;31m# Create the parser.\u001b[0m\u001b[0;34m\u001b[0m\u001b[0;34m\u001b[0m\u001b[0;34m\u001b[0m\u001b[0m\n\u001b[0;32m--> 462\u001b[0;31m     \u001b[0mparser\u001b[0m \u001b[0;34m=\u001b[0m \u001b[0mTextFileReader\u001b[0m\u001b[0;34m(\u001b[0m\u001b[0mfilepath_or_buffer\u001b[0m\u001b[0;34m,\u001b[0m \u001b[0;34m**\u001b[0m\u001b[0mkwds\u001b[0m\u001b[0;34m)\u001b[0m\u001b[0;34m\u001b[0m\u001b[0;34m\u001b[0m\u001b[0m\n\u001b[0m\u001b[1;32m    463\u001b[0m \u001b[0;34m\u001b[0m\u001b[0m\n\u001b[1;32m    464\u001b[0m     \u001b[0;32mif\u001b[0m \u001b[0mchunksize\u001b[0m \u001b[0;32mor\u001b[0m \u001b[0miterator\u001b[0m\u001b[0;34m:\u001b[0m\u001b[0;34m\u001b[0m\u001b[0;34m\u001b[0m\u001b[0m\n",
      "\u001b[0;32m~/projects/inm713-coursework/venv/lib/python3.8/site-packages/pandas/io/parsers.py\u001b[0m in \u001b[0;36m__init__\u001b[0;34m(self, f, engine, **kwds)\u001b[0m\n\u001b[1;32m    817\u001b[0m             \u001b[0mself\u001b[0m\u001b[0;34m.\u001b[0m\u001b[0moptions\u001b[0m\u001b[0;34m[\u001b[0m\u001b[0;34m\"has_index_names\"\u001b[0m\u001b[0;34m]\u001b[0m \u001b[0;34m=\u001b[0m \u001b[0mkwds\u001b[0m\u001b[0;34m[\u001b[0m\u001b[0;34m\"has_index_names\"\u001b[0m\u001b[0;34m]\u001b[0m\u001b[0;34m\u001b[0m\u001b[0;34m\u001b[0m\u001b[0m\n\u001b[1;32m    818\u001b[0m \u001b[0;34m\u001b[0m\u001b[0m\n\u001b[0;32m--> 819\u001b[0;31m         \u001b[0mself\u001b[0m\u001b[0;34m.\u001b[0m\u001b[0m_engine\u001b[0m \u001b[0;34m=\u001b[0m \u001b[0mself\u001b[0m\u001b[0;34m.\u001b[0m\u001b[0m_make_engine\u001b[0m\u001b[0;34m(\u001b[0m\u001b[0mself\u001b[0m\u001b[0;34m.\u001b[0m\u001b[0mengine\u001b[0m\u001b[0;34m)\u001b[0m\u001b[0;34m\u001b[0m\u001b[0;34m\u001b[0m\u001b[0m\n\u001b[0m\u001b[1;32m    820\u001b[0m \u001b[0;34m\u001b[0m\u001b[0m\n\u001b[1;32m    821\u001b[0m     \u001b[0;32mdef\u001b[0m \u001b[0mclose\u001b[0m\u001b[0;34m(\u001b[0m\u001b[0mself\u001b[0m\u001b[0;34m)\u001b[0m\u001b[0;34m:\u001b[0m\u001b[0;34m\u001b[0m\u001b[0;34m\u001b[0m\u001b[0m\n",
      "\u001b[0;32m~/projects/inm713-coursework/venv/lib/python3.8/site-packages/pandas/io/parsers.py\u001b[0m in \u001b[0;36m_make_engine\u001b[0;34m(self, engine)\u001b[0m\n\u001b[1;32m   1048\u001b[0m             )\n\u001b[1;32m   1049\u001b[0m         \u001b[0;31m# error: Too many arguments for \"ParserBase\"\u001b[0m\u001b[0;34m\u001b[0m\u001b[0;34m\u001b[0m\u001b[0;34m\u001b[0m\u001b[0m\n\u001b[0;32m-> 1050\u001b[0;31m         \u001b[0;32mreturn\u001b[0m \u001b[0mmapping\u001b[0m\u001b[0;34m[\u001b[0m\u001b[0mengine\u001b[0m\u001b[0;34m]\u001b[0m\u001b[0;34m(\u001b[0m\u001b[0mself\u001b[0m\u001b[0;34m.\u001b[0m\u001b[0mf\u001b[0m\u001b[0;34m,\u001b[0m \u001b[0;34m**\u001b[0m\u001b[0mself\u001b[0m\u001b[0;34m.\u001b[0m\u001b[0moptions\u001b[0m\u001b[0;34m)\u001b[0m  \u001b[0;31m# type: ignore[call-arg]\u001b[0m\u001b[0;34m\u001b[0m\u001b[0;34m\u001b[0m\u001b[0m\n\u001b[0m\u001b[1;32m   1051\u001b[0m \u001b[0;34m\u001b[0m\u001b[0m\n\u001b[1;32m   1052\u001b[0m     \u001b[0;32mdef\u001b[0m \u001b[0m_failover_to_python\u001b[0m\u001b[0;34m(\u001b[0m\u001b[0mself\u001b[0m\u001b[0;34m)\u001b[0m\u001b[0;34m:\u001b[0m\u001b[0;34m\u001b[0m\u001b[0;34m\u001b[0m\u001b[0m\n",
      "\u001b[0;32m~/projects/inm713-coursework/venv/lib/python3.8/site-packages/pandas/io/parsers.py\u001b[0m in \u001b[0;36m__init__\u001b[0;34m(self, src, **kwds)\u001b[0m\n\u001b[1;32m   1865\u001b[0m \u001b[0;34m\u001b[0m\u001b[0m\n\u001b[1;32m   1866\u001b[0m         \u001b[0;31m# open handles\u001b[0m\u001b[0;34m\u001b[0m\u001b[0;34m\u001b[0m\u001b[0;34m\u001b[0m\u001b[0m\n\u001b[0;32m-> 1867\u001b[0;31m         \u001b[0mself\u001b[0m\u001b[0;34m.\u001b[0m\u001b[0m_open_handles\u001b[0m\u001b[0;34m(\u001b[0m\u001b[0msrc\u001b[0m\u001b[0;34m,\u001b[0m \u001b[0mkwds\u001b[0m\u001b[0;34m)\u001b[0m\u001b[0;34m\u001b[0m\u001b[0;34m\u001b[0m\u001b[0m\n\u001b[0m\u001b[1;32m   1868\u001b[0m         \u001b[0;32massert\u001b[0m \u001b[0mself\u001b[0m\u001b[0;34m.\u001b[0m\u001b[0mhandles\u001b[0m \u001b[0;32mis\u001b[0m \u001b[0;32mnot\u001b[0m \u001b[0;32mNone\u001b[0m\u001b[0;34m\u001b[0m\u001b[0;34m\u001b[0m\u001b[0m\n\u001b[1;32m   1869\u001b[0m         \u001b[0;32mfor\u001b[0m \u001b[0mkey\u001b[0m \u001b[0;32min\u001b[0m \u001b[0;34m(\u001b[0m\u001b[0;34m\"storage_options\"\u001b[0m\u001b[0;34m,\u001b[0m \u001b[0;34m\"encoding\"\u001b[0m\u001b[0;34m,\u001b[0m \u001b[0;34m\"memory_map\"\u001b[0m\u001b[0;34m,\u001b[0m \u001b[0;34m\"compression\"\u001b[0m\u001b[0;34m)\u001b[0m\u001b[0;34m:\u001b[0m\u001b[0;34m\u001b[0m\u001b[0;34m\u001b[0m\u001b[0m\n",
      "\u001b[0;32m~/projects/inm713-coursework/venv/lib/python3.8/site-packages/pandas/io/parsers.py\u001b[0m in \u001b[0;36m_open_handles\u001b[0;34m(self, src, kwds)\u001b[0m\n\u001b[1;32m   1360\u001b[0m         \u001b[0mLet\u001b[0m \u001b[0mthe\u001b[0m \u001b[0mreaders\u001b[0m \u001b[0mopen\u001b[0m \u001b[0mIOHanldes\u001b[0m \u001b[0mafter\u001b[0m \u001b[0mthey\u001b[0m \u001b[0mare\u001b[0m \u001b[0mdone\u001b[0m \u001b[0;32mwith\u001b[0m \u001b[0mtheir\u001b[0m \u001b[0mpotential\u001b[0m \u001b[0mraises\u001b[0m\u001b[0;34m.\u001b[0m\u001b[0;34m\u001b[0m\u001b[0;34m\u001b[0m\u001b[0m\n\u001b[1;32m   1361\u001b[0m         \"\"\"\n\u001b[0;32m-> 1362\u001b[0;31m         self.handles = get_handle(\n\u001b[0m\u001b[1;32m   1363\u001b[0m             \u001b[0msrc\u001b[0m\u001b[0;34m,\u001b[0m\u001b[0;34m\u001b[0m\u001b[0;34m\u001b[0m\u001b[0m\n\u001b[1;32m   1364\u001b[0m             \u001b[0;34m\"r\"\u001b[0m\u001b[0;34m,\u001b[0m\u001b[0;34m\u001b[0m\u001b[0;34m\u001b[0m\u001b[0m\n",
      "\u001b[0;32m~/projects/inm713-coursework/venv/lib/python3.8/site-packages/pandas/io/common.py\u001b[0m in \u001b[0;36mget_handle\u001b[0;34m(path_or_buf, mode, encoding, compression, memory_map, is_text, errors, storage_options)\u001b[0m\n\u001b[1;32m    640\u001b[0m                 \u001b[0merrors\u001b[0m \u001b[0;34m=\u001b[0m \u001b[0;34m\"replace\"\u001b[0m\u001b[0;34m\u001b[0m\u001b[0;34m\u001b[0m\u001b[0m\n\u001b[1;32m    641\u001b[0m             \u001b[0;31m# Encoding\u001b[0m\u001b[0;34m\u001b[0m\u001b[0;34m\u001b[0m\u001b[0;34m\u001b[0m\u001b[0m\n\u001b[0;32m--> 642\u001b[0;31m             handle = open(\n\u001b[0m\u001b[1;32m    643\u001b[0m                 \u001b[0mhandle\u001b[0m\u001b[0;34m,\u001b[0m\u001b[0;34m\u001b[0m\u001b[0;34m\u001b[0m\u001b[0m\n\u001b[1;32m    644\u001b[0m                 \u001b[0mioargs\u001b[0m\u001b[0;34m.\u001b[0m\u001b[0mmode\u001b[0m\u001b[0;34m,\u001b[0m\u001b[0;34m\u001b[0m\u001b[0;34m\u001b[0m\u001b[0m\n",
      "\u001b[0;31mFileNotFoundError\u001b[0m: [Errno 2] No such file or directory: '../data/data_pizza_spike.csv'"
     ]
    }
   ],
   "source": [
    "banana_df = pd.read_csv(\"../data/data_pizza_spike.csv\")\n",
    "name_unique_characters = list(set(banana_df[\"name\"].sum()))\n",
    "name_unique_characters\n",
    "\n",
    "[unidecode(char) for char in name_unique_characters if (not char.isalnum()) and (char != \" \")]"
   ]
  },
  {
   "cell_type": "code",
   "execution_count": null,
   "metadata": {},
   "outputs": [],
   "source": []
  }
 ]
}